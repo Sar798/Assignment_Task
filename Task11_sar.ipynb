{
 "cells": [
  {
   "cell_type": "markdown",
   "id": "41d0b9eb",
   "metadata": {},
   "source": [
    "* Basic List Comprehension: Write a Python program that uses list comprehension to generate a list of cubes of the first 10 positive integers.\n",
    "\n",
    "* Filtering with List Comprehension: Given a list of integers, create a new list using list comprehension that contains only the multiple of 3 and 5 from the original list.\n",
    "\n",
    "* String Manipulation with List Comprehension: Given a list of strings, create a new list using list comprehension that contains the lengths of each string.\n",
    "\n",
    "* List Comprehension with Conditionals: Given a list of numbers, create a new list using list comprehension that contains the squares of even numbers\n",
    "\n",
    "### Pattern Printing\n",
    "\n",
    "* Write a Python program that takes an integer 'n' as input and prints the following pattern:\n",
    "\n",
    "For n = 4, the pattern should look like this:\n",
    "\n",
    "1\n",
    "1 2\n",
    "1 2 3\n",
    "1 2 3 4\n",
    "Multiplication Table\n",
    "\n",
    "* Create a Python program that generates and prints a multiplication table for a given number 'n'. The table should include values from 1 to 10.\n",
    "\n",
    "For example, if n = 5, the output should be:\n",
    "\n",
    "```\n",
    "5 x 1 = 5\n",
    "5 x 2 = 10\n",
    "5 x 3 = 15\n",
    "5 x 4 = 20\n",
    "5 x 5 = 25\n",
    "5 x 6 = 30\n",
    "5 x 7 = 35\n",
    "5 x 8 = 40\n",
    "5 x 9 = 45\n",
    "5 x 10 = 50\n",
    "```\n",
    "\n",
    "Star Patterns\n",
    "\n",
    "* Write a Python program that takes an integer 'n' as input and prints the following patterns:\n",
    "\n",
    "a) Right-angled triangle pattern:\n",
    "\n",
    "*\n",
    "**\n",
    "***\n",
    "****\n",
    "*****\n",
    "b) Inverted right-angled triangle pattern:\n",
    "\n",
    "*****\n",
    "****\n",
    "***\n",
    "**\n",
    "*\n",
    "Number Pyramid\n",
    "\n",
    "* Create a Python program that takes an integer 'n' as input and prints a number pyramid as shown below:\n",
    "\n",
    "For n = 4, the output should be:\n",
    "\n",
    "   1\n",
    "  212\n",
    " 32123\n",
    "4321234\n",
    " "
   ]
  },
  {
   "cell_type": "markdown",
   "id": "e136c39e",
   "metadata": {},
   "source": [
    "### Basic List Comprehension: Write a Python program that uses list comprehension to generate a list of cubes of the first 10 positive integers."
   ]
  },
  {
   "cell_type": "code",
   "execution_count": 2,
   "id": "aec71060",
   "metadata": {},
   "outputs": [
    {
     "data": {
      "text/plain": [
       "[1, 8, 27, 64, 125, 216, 343, 512, 729, 1000]"
      ]
     },
     "execution_count": 2,
     "metadata": {},
     "output_type": "execute_result"
    }
   ],
   "source": [
    "[i**3 for i in range(1,11)]"
   ]
  },
  {
   "cell_type": "markdown",
   "id": "5b4aceb1",
   "metadata": {},
   "source": [
    "### Filtering with List Comprehension: Given a list of integers, create a new list using list comprehension that contains only the multiple of 3 and 5 from the original list."
   ]
  },
  {
   "cell_type": "code",
   "execution_count": 8,
   "id": "a03ea61d",
   "metadata": {},
   "outputs": [],
   "source": [
    "list1 = [2,3,4,6,8,9,10,23,25,27,30,33,35,38,40,45,48,50]"
   ]
  },
  {
   "cell_type": "code",
   "execution_count": 9,
   "id": "8f44dae3",
   "metadata": {},
   "outputs": [
    {
     "data": {
      "text/plain": [
       "[3, 6, 9, 10, 25, 27, 30, 33, 35, 40, 45, 48, 50]"
      ]
     },
     "execution_count": 9,
     "metadata": {},
     "output_type": "execute_result"
    }
   ],
   "source": [
    "[i for i in list1 if (i%3==0) or (i%5==0)]"
   ]
  },
  {
   "cell_type": "markdown",
   "id": "b0f14efc",
   "metadata": {},
   "source": [
    "### String Manipulation with List Comprehension: Given a list of strings, create a new list using list comprehension that contains the lengths of each string."
   ]
  },
  {
   "cell_type": "code",
   "execution_count": 12,
   "id": "b0e6ce3c",
   "metadata": {},
   "outputs": [],
   "source": [
    "str = [\"Raheem\",\"adnan\",\"mansoor\",\"Tigrzindahai\",\"Inshallah\"]"
   ]
  },
  {
   "cell_type": "code",
   "execution_count": 13,
   "id": "1a447f7e",
   "metadata": {},
   "outputs": [
    {
     "data": {
      "text/plain": [
       "[6, 5, 7, 12, 9]"
      ]
     },
     "execution_count": 13,
     "metadata": {},
     "output_type": "execute_result"
    }
   ],
   "source": [
    "[len(i) for i in str]"
   ]
  },
  {
   "cell_type": "markdown",
   "id": "0bf610f1",
   "metadata": {},
   "source": [
    "### List Comprehension with Conditionals: Given a list of numbers, create a new list using list comprehension that contains the squares of even numbers"
   ]
  },
  {
   "cell_type": "code",
   "execution_count": 14,
   "id": "255f0d07",
   "metadata": {},
   "outputs": [
    {
     "data": {
      "text/plain": [
       "[4, 16, 36, 64]"
      ]
     },
     "execution_count": 14,
     "metadata": {},
     "output_type": "execute_result"
    }
   ],
   "source": [
    "num = [1,2,3,4,5,6,7,8,9]\n",
    "[i**2 for i in num if (i%2==0)]"
   ]
  },
  {
   "cell_type": "markdown",
   "id": "7cc6f042",
   "metadata": {},
   "source": [
    "## Pattern Printing\n",
    "* Write a Python program that takes an integer 'n' as input and prints the following pattern:\n",
    "For n = 4, the pattern should look like this:\n",
    "1 1 2 1 2 3 1 2 3 4 Multiplication Table"
   ]
  },
  {
   "cell_type": "code",
   "execution_count": 7,
   "id": "455c86b5",
   "metadata": {},
   "outputs": [
    {
     "name": "stdout",
     "output_type": "stream",
     "text": [
      "1 \n",
      "1 2 \n",
      "1 2 3 \n",
      "1 2 3 4 \n"
     ]
    }
   ],
   "source": [
    "n= 4\n",
    "for i in range(1,n+1):\n",
    "    for j in range(1,i+1): \n",
    "        print(j, end=\" \")\n",
    "    print()"
   ]
  },
  {
   "cell_type": "raw",
   "id": "5ad76d2a",
   "metadata": {},
   "source": [
    "* Create a Python program that generates and prints a multiplication table for a given number 'n'. The table should include values from 1 to 10.\n",
    "For example, if n = 5, the output should be:\n",
    "\n",
    "5 x 1 = 5\n",
    "5 x 2 = 10\n",
    "5 x 3 = 15\n",
    "5 x 4 = 20\n",
    "5 x 5 = 25\n",
    "5 x 6 = 30\n",
    "5 x 7 = 35\n",
    "5 x 8 = 40\n",
    "5 x 9 = 45\n",
    "5 x 10 = 50"
   ]
  },
  {
   "cell_type": "code",
   "execution_count": 8,
   "id": "145674cd",
   "metadata": {},
   "outputs": [
    {
     "name": "stdout",
     "output_type": "stream",
     "text": [
      "Enter the number which multplication you want:  5\n",
      "5 * 1 = 5\n",
      "5 * 2 = 10\n",
      "5 * 3 = 15\n",
      "5 * 4 = 20\n",
      "5 * 5 = 25\n",
      "5 * 6 = 30\n",
      "5 * 7 = 35\n",
      "5 * 8 = 40\n",
      "5 * 9 = 45\n",
      "5 * 10 = 50\n"
     ]
    }
   ],
   "source": [
    "n = int(input(\"Enter the number which multplication you want:  \"))\n",
    "for i in range(1,11):\n",
    "        print(f'{n} * {i} = {n*i}')"
   ]
  },
  {
   "cell_type": "raw",
   "id": "5d4f338e",
   "metadata": {},
   "source": [
    "## Star Patterns\n",
    "\n",
    "* Write a Python program that takes an integer 'n' as input and prints the following patterns:\n",
    "\n",
    "a) Right-angled triangle pattern:\n",
    "\n",
    " *\n",
    " **\n",
    " ***\n",
    " ****\n",
    " *****\n",
    "b) Inverted right-angled triangle pattern:\n",
    "\n",
    " *****\n",
    " ****\n",
    " ***\n",
    " **\n",
    " *"
   ]
  },
  {
   "cell_type": "code",
   "execution_count": 10,
   "id": "a60e0b59",
   "metadata": {},
   "outputs": [
    {
     "name": "stdout",
     "output_type": "stream",
     "text": [
      "     * \n",
      "     *  * \n",
      "     *  *  * \n",
      "     *  *  *  * \n",
      "     *  *  *  *  * \n"
     ]
    }
   ],
   "source": [
    "n = 5\n",
    "for i in range(1,n+1):\n",
    "    print(\" \" * (n-1)+ ' * '* i)"
   ]
  },
  {
   "cell_type": "code",
   "execution_count": 11,
   "id": "3bb9916f",
   "metadata": {},
   "outputs": [
    {
     "name": "stdout",
     "output_type": "stream",
     "text": [
      "     *  *  *  *  * \n",
      "     *  *  *  * \n",
      "     *  *  * \n",
      "     *  * \n",
      "     * \n"
     ]
    }
   ],
   "source": [
    "n = 5\n",
    "for i in range(n,0,-1):\n",
    "    print(\" \" * (n-1)+ ' * '* i)"
   ]
  },
  {
   "cell_type": "raw",
   "id": "0ec262ce",
   "metadata": {},
   "source": [
    "## Number Pyramid\n",
    "\n",
    "* Create a Python program that takes an integer 'n' as input and prints a number pyramid as shown below:\n",
    "\n",
    "For n = 4, the output should be:\n",
    "\n",
    "    1\n",
    "   212\n",
    "  32123\n",
    " 4321234"
   ]
  },
  {
   "cell_type": "code",
   "execution_count": null,
   "id": "da88521a",
   "metadata": {},
   "outputs": [],
   "source": []
  }
 ],
 "metadata": {
  "kernelspec": {
   "display_name": "Python 3 (ipykernel)",
   "language": "python",
   "name": "python3"
  },
  "language_info": {
   "codemirror_mode": {
    "name": "ipython",
    "version": 3
   },
   "file_extension": ".py",
   "mimetype": "text/x-python",
   "name": "python",
   "nbconvert_exporter": "python",
   "pygments_lexer": "ipython3",
   "version": "3.11.4"
  }
 },
 "nbformat": 4,
 "nbformat_minor": 5
}
