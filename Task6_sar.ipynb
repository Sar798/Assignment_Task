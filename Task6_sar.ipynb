{
 "cells": [
  {
   "cell_type": "markdown",
   "id": "e30e91f8",
   "metadata": {},
   "source": [
    "\n",
    "\n",
    "**Assignment Task 1:** Tuple Basics\n",
    "Create a Python tuple containing the names of your favorite fruits. Write a Python program to print `each fruit` name from the tuple.\n",
    "\n",
    "**Assignment Task 2:** Tuple Operations\n",
    "Given two tuples, write a Python program to `concatenate` them into a `single` tuple and then find the `length` of the resulting tuple.\n",
    "\n",
    "**Assignment Task 3:** Set Creation\n",
    "Create a Python set containing the first 10 `even` numbers (2, 4, 6, ...). Write a program to `display` this set.\n",
    "\n",
    "**Assignment Task 4:** Set Operations\n",
    "Given two sets, write a Python program to find the `union, intersection, and difference` of these sets.\n",
    "\n",
    "**Assignment Task 5:** Tuple and Set Conversion\n",
    "Write a Python program that takes a `tuple` of integers and converts it into a `set`. Then, find and print the `maximum and minimum` values from the set.\n",
    "\n",
    "**Assignment Task 6:** Tuple Immutability\n",
    "Explain the concept of immutability in Python tuples with examples. Discuss why tuples are considered immutable data structures.\n",
    "\n",
    "**Assignment Task 7:** Set Operations and Methods\n",
    "Write a Python program that takes a set of numbers and performs the following operations:\n",
    "   - Add a new number to the set.\n",
    "   - Remove a number from the set.\n",
    "   - Check if a specific number is in the set.\n",
    "   - Find the size of the set.\n",
    "\n",
    "**Assignment Task 8:** Tuple Slicing\n",
    "Given a tuple of 10 elements, write a Python program to print the elements from the `3rd to the 7th `position using slicing.\n",
    "\n",
    "**Assignment Task 9:** Set Operations with Lists\n",
    "Create a Python list with duplicate elements and convert it into a set to remove duplicates. Then, write a program to count how many duplicates were removed.\n",
    "\n",
    "**Assignment Task 10:** Tuple and Set Combinations\n",
    "Create a `tuple` containing the names of your friend's favorite movies and a `set` containing the names of your favorite movies. Write a Python program to find and display common elements (movies that feature your "
   ]
  },
  {
   "cell_type": "markdown",
   "id": "381999df",
   "metadata": {},
   "source": [
    "## Assignment Task 1:** Tuple Basics\n",
    "Create a Python tuple containing the names of your favorite fruits. Write a Python program to print `each fruit` name from the tuple."
   ]
  },
  {
   "cell_type": "code",
   "execution_count": 2,
   "id": "059c553c",
   "metadata": {},
   "outputs": [
    {
     "data": {
      "text/plain": [
       "('mango', 'apple', 'banana', 'kiwi', 'dragon', 'orange')"
      ]
     },
     "execution_count": 2,
     "metadata": {},
     "output_type": "execute_result"
    }
   ],
   "source": [
    "tuple= (\"mango\",\"apple\",\"banana\",\"kiwi\",\"dragon\",\"orange\")\n",
    "tuple"
   ]
  },
  {
   "cell_type": "markdown",
   "id": "acd56454",
   "metadata": {},
   "source": [
    "## Assignment Task 2: Tuple Operations Given two tuples, write a Python program to concatenate them into a single tuple and then find the length of the resulting tuple."
   ]
  },
  {
   "cell_type": "code",
   "execution_count": 3,
   "id": "af6fafc5",
   "metadata": {},
   "outputs": [],
   "source": [
    "tup1= (\"mango\",\"apple\",\"banana\")\n",
    "tup2= (\"salmankhan\",\"shahrukhkhan\",\"amairkhan\")"
   ]
  },
  {
   "cell_type": "code",
   "execution_count": 7,
   "id": "0b4eef6d",
   "metadata": {},
   "outputs": [],
   "source": [
    "tup3 = tup1 + tup2"
   ]
  },
  {
   "cell_type": "code",
   "execution_count": 8,
   "id": "2dcc5b98",
   "metadata": {},
   "outputs": [
    {
     "data": {
      "text/plain": [
       "('mango', 'apple', 'banana', 'salmankhan', 'shahrukhkhan', 'amairkhan')"
      ]
     },
     "execution_count": 8,
     "metadata": {},
     "output_type": "execute_result"
    }
   ],
   "source": [
    "tup3"
   ]
  },
  {
   "cell_type": "code",
   "execution_count": 9,
   "id": "745018b1",
   "metadata": {},
   "outputs": [
    {
     "data": {
      "text/plain": [
       "6"
      ]
     },
     "execution_count": 9,
     "metadata": {},
     "output_type": "execute_result"
    }
   ],
   "source": [
    "len(tup3)"
   ]
  },
  {
   "cell_type": "markdown",
   "id": "50ee8d25",
   "metadata": {},
   "source": [
    "## Assignment Task 3: Set Creation Create a Python set containing the first 10 even numbers (2, 4, 6, ...). Write a program to display this set."
   ]
  },
  {
   "cell_type": "code",
   "execution_count": 38,
   "id": "9fd09aca",
   "metadata": {},
   "outputs": [],
   "source": [
    "set1= {2,4,6,8,10}"
   ]
  },
  {
   "cell_type": "code",
   "execution_count": 39,
   "id": "643015cf",
   "metadata": {},
   "outputs": [
    {
     "name": "stdout",
     "output_type": "stream",
     "text": [
      "{2, 4, 6, 8, 10}\n"
     ]
    }
   ],
   "source": [
    "print(set1)"
   ]
  },
  {
   "cell_type": "markdown",
   "id": "0ac151f3",
   "metadata": {},
   "source": [
    "## Assignment Task 4: Set Operations Given two sets, write a Python program to find the union, intersection, and difference of these sets."
   ]
  },
  {
   "cell_type": "code",
   "execution_count": 40,
   "id": "1aabc498",
   "metadata": {},
   "outputs": [],
   "source": [
    "set1 = {1,2,3,4,5}\n",
    "set2 = {4,5,6,7,8,0}"
   ]
  },
  {
   "cell_type": "code",
   "execution_count": 41,
   "id": "237e8cae",
   "metadata": {},
   "outputs": [
    {
     "data": {
      "text/plain": [
       "{4, 5}"
      ]
     },
     "execution_count": 41,
     "metadata": {},
     "output_type": "execute_result"
    }
   ],
   "source": [
    "set1.intersection(set2)"
   ]
  },
  {
   "cell_type": "code",
   "execution_count": 42,
   "id": "3dc1162a",
   "metadata": {},
   "outputs": [
    {
     "data": {
      "text/plain": [
       "{1, 2, 3}"
      ]
     },
     "execution_count": 42,
     "metadata": {},
     "output_type": "execute_result"
    }
   ],
   "source": [
    "set1.difference(set2)"
   ]
  },
  {
   "cell_type": "code",
   "execution_count": 43,
   "id": "9822e475",
   "metadata": {},
   "outputs": [
    {
     "data": {
      "text/plain": [
       "{0, 1, 2, 3, 4, 5, 6, 7, 8}"
      ]
     },
     "execution_count": 43,
     "metadata": {},
     "output_type": "execute_result"
    }
   ],
   "source": [
    "set1.union(set2)"
   ]
  },
  {
   "cell_type": "markdown",
   "id": "5c3a1d28",
   "metadata": {},
   "source": [
    "## Assignment Task 5: Tuple and Set Conversion Write a Python program that takes a tuple of integers and converts it into a set. Then, find and print the maximum and minimum values from the set."
   ]
  },
  {
   "cell_type": "code",
   "execution_count": 1,
   "id": "63879324",
   "metadata": {},
   "outputs": [],
   "source": [
    "tup=(1,2,3,4,5,6)"
   ]
  },
  {
   "cell_type": "code",
   "execution_count": 2,
   "id": "ad42d315",
   "metadata": {},
   "outputs": [],
   "source": [
    "a = set(tup)"
   ]
  },
  {
   "cell_type": "code",
   "execution_count": 3,
   "id": "1dbdcca9",
   "metadata": {},
   "outputs": [
    {
     "data": {
      "text/plain": [
       "{1, 2, 3, 4, 5, 6}"
      ]
     },
     "execution_count": 3,
     "metadata": {},
     "output_type": "execute_result"
    }
   ],
   "source": [
    "a"
   ]
  },
  {
   "cell_type": "code",
   "execution_count": 5,
   "id": "6b8a2cd1",
   "metadata": {},
   "outputs": [
    {
     "data": {
      "text/plain": [
       "6"
      ]
     },
     "execution_count": 5,
     "metadata": {},
     "output_type": "execute_result"
    }
   ],
   "source": [
    "max(a)"
   ]
  },
  {
   "cell_type": "code",
   "execution_count": 6,
   "id": "efbbf97f",
   "metadata": {},
   "outputs": [
    {
     "data": {
      "text/plain": [
       "1"
      ]
     },
     "execution_count": 6,
     "metadata": {},
     "output_type": "execute_result"
    }
   ],
   "source": [
    "min(a)"
   ]
  },
  {
   "cell_type": "markdown",
   "id": "d5ff02a8",
   "metadata": {},
   "source": [
    "## Assignment Task 6:** Tuple Immutability\n",
    "Explain the concept of immutability in Python tuples with examples. Discuss why tuples are considered immutable data structures."
   ]
  },
  {
   "cell_type": "markdown",
   "id": "2303d10a",
   "metadata": {},
   "source": [
    "#### Tuples are immutable because we cant modify it once we create a tuple."
   ]
  },
  {
   "cell_type": "code",
   "execution_count": 1,
   "id": "5ca8e145",
   "metadata": {},
   "outputs": [
    {
     "ename": "TypeError",
     "evalue": "'tuple' object does not support item assignment",
     "output_type": "error",
     "traceback": [
      "\u001b[1;31m---------------------------------------------------------------------------\u001b[0m",
      "\u001b[1;31mTypeError\u001b[0m                                 Traceback (most recent call last)",
      "Cell \u001b[1;32mIn[1], line 2\u001b[0m\n\u001b[0;32m      1\u001b[0m tup\u001b[38;5;241m=\u001b[39m(\u001b[38;5;241m1\u001b[39m,\u001b[38;5;241m3\u001b[39m,\u001b[38;5;241m4\u001b[39m,\u001b[38;5;241m5\u001b[39m)\n\u001b[1;32m----> 2\u001b[0m tup[\u001b[38;5;241m1\u001b[39m]\u001b[38;5;241m=\u001b[39m\u001b[38;5;241m2\u001b[39m\n",
      "\u001b[1;31mTypeError\u001b[0m: 'tuple' object does not support item assignment"
     ]
    }
   ],
   "source": [
    "tup=(1,3,4,5)\n",
    "tup[1]=2"
   ]
  },
  {
   "cell_type": "markdown",
   "id": "bd2b2631",
   "metadata": {},
   "source": [
    "## Assignment Task 7:** Set Operations and Methods\n",
    "Write a Python program that takes a set of numbers and performs the following operations:\n",
    "   - Add a new number to the set.\n",
    "   - Remove a number from the set.\n",
    "   - Check if a specific number is in the set.\n",
    "   - Find the size of the set."
   ]
  },
  {
   "cell_type": "code",
   "execution_count": 2,
   "id": "df6310fa",
   "metadata": {},
   "outputs": [],
   "source": [
    "op= {1,2,3,4,5}"
   ]
  },
  {
   "cell_type": "code",
   "execution_count": 5,
   "id": "fcd30ae4",
   "metadata": {},
   "outputs": [],
   "source": [
    "op.add(6)"
   ]
  },
  {
   "cell_type": "code",
   "execution_count": 6,
   "id": "883f1d96",
   "metadata": {},
   "outputs": [
    {
     "data": {
      "text/plain": [
       "{1, 2, 3, 4, 5, 6}"
      ]
     },
     "execution_count": 6,
     "metadata": {},
     "output_type": "execute_result"
    }
   ],
   "source": [
    "op"
   ]
  },
  {
   "cell_type": "code",
   "execution_count": 7,
   "id": "ac1a76df",
   "metadata": {},
   "outputs": [],
   "source": [
    "op.remove(3)"
   ]
  },
  {
   "cell_type": "code",
   "execution_count": 8,
   "id": "e1024818",
   "metadata": {},
   "outputs": [
    {
     "data": {
      "text/plain": [
       "{1, 2, 4, 5, 6}"
      ]
     },
     "execution_count": 8,
     "metadata": {},
     "output_type": "execute_result"
    }
   ],
   "source": [
    "op"
   ]
  },
  {
   "cell_type": "code",
   "execution_count": 10,
   "id": "54115f20",
   "metadata": {},
   "outputs": [
    {
     "data": {
      "text/plain": [
       "True"
      ]
     },
     "execution_count": 10,
     "metadata": {},
     "output_type": "execute_result"
    }
   ],
   "source": [
    "4 in op"
   ]
  },
  {
   "cell_type": "code",
   "execution_count": 11,
   "id": "e90ae1e2",
   "metadata": {},
   "outputs": [
    {
     "data": {
      "text/plain": [
       "5"
      ]
     },
     "execution_count": 11,
     "metadata": {},
     "output_type": "execute_result"
    }
   ],
   "source": [
    "len(op)"
   ]
  },
  {
   "cell_type": "markdown",
   "id": "cfaadc6b",
   "metadata": {},
   "source": [
    "## Assignment Task 8:** Tuple Slicing\n",
    "Given a tuple of 10 elements, write a Python program to print the elements from the `3rd to the 7th `position using slicing."
   ]
  },
  {
   "cell_type": "code",
   "execution_count": 12,
   "id": "59ff089e",
   "metadata": {},
   "outputs": [],
   "source": [
    "slic= (1,2,3,4,5,6,7,8,9,0)"
   ]
  },
  {
   "cell_type": "code",
   "execution_count": 13,
   "id": "e5188121",
   "metadata": {},
   "outputs": [
    {
     "data": {
      "text/plain": [
       "(4, 5, 6, 7, 8)"
      ]
     },
     "execution_count": 13,
     "metadata": {},
     "output_type": "execute_result"
    }
   ],
   "source": [
    "slic[3:8]"
   ]
  },
  {
   "cell_type": "markdown",
   "id": "df3dd150",
   "metadata": {},
   "source": [
    "## Assignment Task 9:** Set Operations with Lists\n",
    "Create a Python list with duplicate elements and convert it into a set to remove duplicates. Then, write a program to count how many duplicates were removed."
   ]
  },
  {
   "cell_type": "code",
   "execution_count": 14,
   "id": "4dcb5b9b",
   "metadata": {},
   "outputs": [],
   "source": [
    "n =[1,2,3,4,3,5,6,9,7,8,9,1,3,4]"
   ]
  },
  {
   "cell_type": "code",
   "execution_count": 15,
   "id": "0a722457",
   "metadata": {},
   "outputs": [],
   "source": [
    "s= set(n)"
   ]
  },
  {
   "cell_type": "code",
   "execution_count": 16,
   "id": "f9220d33",
   "metadata": {},
   "outputs": [
    {
     "data": {
      "text/plain": [
       "{1, 2, 3, 4, 5, 6, 7, 8, 9}"
      ]
     },
     "execution_count": 16,
     "metadata": {},
     "output_type": "execute_result"
    }
   ],
   "source": [
    "s"
   ]
  },
  {
   "cell_type": "code",
   "execution_count": 17,
   "id": "fb94ddd4",
   "metadata": {},
   "outputs": [
    {
     "data": {
      "text/plain": [
       "5"
      ]
     },
     "execution_count": 17,
     "metadata": {},
     "output_type": "execute_result"
    }
   ],
   "source": [
    "dup= len(n)-len(s)\n",
    "dup"
   ]
  },
  {
   "cell_type": "markdown",
   "id": "9af0bf20",
   "metadata": {},
   "source": [
    "## Assignment Task 10:** Tuple and Set Combinations\n",
    "Create a `tuple` containing the names of your friend's favorite movies and a `set` containing the names of your favorite movies. Write a Python program to find and display common elements (movies that feature your "
   ]
  },
  {
   "cell_type": "code",
   "execution_count": 20,
   "id": "13b6e16a",
   "metadata": {},
   "outputs": [],
   "source": [
    "frnd_movies= (\"Murder\",\"Jaanidushman\",\"Sultan\",\"DDLJ\",\"Kgf\")\n",
    "my_movies= {\"Ekthatiger\",\"Sultan\",\"Kick\",\"Kgf\",\"Tigerzindahai\"}"
   ]
  },
  {
   "cell_type": "code",
   "execution_count": 21,
   "id": "8f64061c",
   "metadata": {},
   "outputs": [
    {
     "data": {
      "text/plain": [
       "{'Kgf', 'Sultan'}"
      ]
     },
     "execution_count": 21,
     "metadata": {},
     "output_type": "execute_result"
    }
   ],
   "source": [
    "common_movies = set(frnd_movies).intersection(my_movies)\n",
    "common_movies"
   ]
  },
  {
   "cell_type": "code",
   "execution_count": null,
   "id": "25eb563d",
   "metadata": {},
   "outputs": [],
   "source": []
  }
 ],
 "metadata": {
  "kernelspec": {
   "display_name": "Python 3 (ipykernel)",
   "language": "python",
   "name": "python3"
  },
  "language_info": {
   "codemirror_mode": {
    "name": "ipython",
    "version": 3
   },
   "file_extension": ".py",
   "mimetype": "text/x-python",
   "name": "python",
   "nbconvert_exporter": "python",
   "pygments_lexer": "ipython3",
   "version": "3.11.4"
  }
 },
 "nbformat": 4,
 "nbformat_minor": 5
}
