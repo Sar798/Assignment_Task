{
 "cells": [
  {
   "cell_type": "markdown",
   "id": "110812e8",
   "metadata": {},
   "source": [
    "Assignment Tasks on String Escape Characters, Indexing, and Slicing:\n",
    "\n",
    "**String Escape Characters:**\n",
    "\n",
    "Task 1:\n",
    "1. Create a string containing a sentence that includes both single and double quotes.\n",
    "2. Use escape characters to include quotes within the string.\n",
    "3. Print the modified string.\n",
    "\n",
    "Task 2:\n",
    "1. Declare a string with a backslash \\ character in it.\n",
    "2. Demonstrate the use of the escape character to print the backslash itself.\n",
    "3. Print the resulting string.\n",
    "\n",
    "Task 3:\n",
    "1. Construct a string containing newline and tab escape sequences.\n",
    "2. Print the string to display the formatted output.\n",
    "\n",
    "**Indexing and Slicing:**\n",
    "\n",
    "Task 4:\n",
    "1.  sentence = \"I want to become Data Scientist\".\n",
    "2. Access and print the `first character` of the string using indexing.\n",
    "3. Access and print the `last character` of the string using negative indexing.\n",
    "\n",
    "Task 5:\n",
    "1. What are `possible ways` yo extract `Scientist`(use forward and reverse)\n",
    "2. Use slicing to extract and print the `first word` from the string.\n",
    "3. Use slicing to extract and print the `last three` characters of the string.\n",
    "\n",
    "Task 6:\n",
    "1. name = \"Innomatics Reserach Labs\"\n",
    "2. Apply slicing to extract a substring that includes the `second to fifth` characters.\n",
    "3. `Print` the extracted substring.\n",
    "\n",
    "Task 7:\n",
    "1. string = \"Python@1234\"\n",
    "2. Use slicing to extract every second character from the string.\n",
    "3. Print the resulting sliced string.\n",
    "\n",
    "Task 8:\n",
    "1.  print last five letters.\n",
    "2. Utilize slicing to reverse the word order in the string.\n",
    "3. Print the string with the words in the reversed order.\n",
    "\n",
    "Task 9:\n",
    "1. a = \"123123123\"\n",
    "2. Apply slicing to extract only the numeric characters at odd positions.\n",
    "3. Print the sliced result.\n",
    "\n",
    "Remember to include explanations or comments for each task's code to ensure clarity. Additionally, encourage students to experiment further with different escape characters and slicing techniques beyond the provided tasks to deepen their understanding."
   ]
  },
  {
   "cell_type": "markdown",
   "id": "9778b5ab",
   "metadata": {},
   "source": [
    "## String Escape Characters:\n",
    "\n",
    "### Task 1: \n",
    "\n",
    "#### Create a string containing a sentence that includes both single and double quotes.\n",
    "#### Use escape characters to include quotes within the string.\n",
    "#### Print the modified string."
   ]
  },
  {
   "cell_type": "code",
   "execution_count": 3,
   "id": "4445f7e7",
   "metadata": {},
   "outputs": [],
   "source": [
    "String= \"Raheem is 'Data Analyst' and 'python developer' also\""
   ]
  },
  {
   "cell_type": "code",
   "execution_count": 4,
   "id": "f9a36681",
   "metadata": {},
   "outputs": [
    {
     "data": {
      "text/plain": [
       "\"Raheem is 'Data Analyst' and 'python developer' also\""
      ]
     },
     "execution_count": 4,
     "metadata": {},
     "output_type": "execute_result"
    }
   ],
   "source": [
    "String"
   ]
  },
  {
   "cell_type": "code",
   "execution_count": 14,
   "id": "6bf8914c",
   "metadata": {},
   "outputs": [],
   "source": [
    "String= \"Raheem is \\\"Data Analyst\\\" and \\\"python developer \\\" also\""
   ]
  },
  {
   "cell_type": "code",
   "execution_count": 15,
   "id": "02e0bccc",
   "metadata": {},
   "outputs": [
    {
     "data": {
      "text/plain": [
       "'Raheem is \"Data Analyst\" and \"python developer \" also'"
      ]
     },
     "execution_count": 15,
     "metadata": {},
     "output_type": "execute_result"
    }
   ],
   "source": [
    "String"
   ]
  },
  {
   "cell_type": "markdown",
   "id": "f251e354",
   "metadata": {},
   "source": [
    "### Task 2:\n",
    "#### Declare a string with a backslash \\ character in it.\n",
    "#### Demonstrate the use of the escape character to print the backslash itself.\n",
    "#### Print the resulting string."
   ]
  },
  {
   "cell_type": "code",
   "execution_count": 22,
   "id": "6ab0a5aa",
   "metadata": {},
   "outputs": [],
   "source": [
    "a= \"I am Syed\\Raheem\""
   ]
  },
  {
   "cell_type": "code",
   "execution_count": 23,
   "id": "54142486",
   "metadata": {},
   "outputs": [
    {
     "data": {
      "text/plain": [
       "'I am Syed\\\\Raheem'"
      ]
     },
     "execution_count": 23,
     "metadata": {},
     "output_type": "execute_result"
    }
   ],
   "source": [
    "a"
   ]
  },
  {
   "cell_type": "code",
   "execution_count": 24,
   "id": "8f6a3c26",
   "metadata": {},
   "outputs": [],
   "source": [
    "b= \"I am Syed/Raheem\""
   ]
  },
  {
   "cell_type": "code",
   "execution_count": 25,
   "id": "c018f98b",
   "metadata": {},
   "outputs": [
    {
     "data": {
      "text/plain": [
       "'I am Syed/Raheem'"
      ]
     },
     "execution_count": 25,
     "metadata": {},
     "output_type": "execute_result"
    }
   ],
   "source": [
    "b"
   ]
  },
  {
   "cell_type": "markdown",
   "id": "759c26a6",
   "metadata": {},
   "source": [
    "### Task 3:\n",
    "#### Construct a string containing newline and tab escape sequences.\n",
    "#### Print the string to display the formatted output."
   ]
  },
  {
   "cell_type": "code",
   "execution_count": 31,
   "id": "9e9169ec",
   "metadata": {},
   "outputs": [
    {
     "name": "stdout",
     "output_type": "stream",
     "text": [
      "My \tName \tIs \tSyed \tAbdul \tRaheem\n"
     ]
    }
   ],
   "source": [
    "print(\"My \\tName \\tIs \\tSyed \\tAbdul \\tRaheem\")"
   ]
  },
  {
   "cell_type": "code",
   "execution_count": 32,
   "id": "f8fa1bc4",
   "metadata": {},
   "outputs": [
    {
     "name": "stdout",
     "output_type": "stream",
     "text": [
      "My\n",
      " Name\n",
      " is\n",
      " Syed\n",
      " Abdul\n",
      " Raheem\n"
     ]
    }
   ],
   "source": [
    "print(\"My\\n Name\\n is\\n Syed\\n Abdul\\n Raheem\")"
   ]
  },
  {
   "cell_type": "markdown",
   "id": "0a2260a4",
   "metadata": {},
   "source": [
    "## **Indexing and Slicing:**\n",
    "\n",
    "### Task 4:\n",
    "#### sentence = \"I want to become Data Scientist\".\n",
    "#### Access and print the `first character` of the string using indexing.\n",
    "#### Access and print the `last character` of the string using negative indexing."
   ]
  },
  {
   "cell_type": "code",
   "execution_count": 33,
   "id": "595ad530",
   "metadata": {},
   "outputs": [],
   "source": [
    "sentence = \"I want to become Data Scientist\""
   ]
  },
  {
   "cell_type": "code",
   "execution_count": 38,
   "id": "807ae041",
   "metadata": {},
   "outputs": [
    {
     "data": {
      "text/plain": [
       "'I'"
      ]
     },
     "execution_count": 38,
     "metadata": {},
     "output_type": "execute_result"
    }
   ],
   "source": [
    "sentence[0]"
   ]
  },
  {
   "cell_type": "code",
   "execution_count": 41,
   "id": "de171ec9",
   "metadata": {},
   "outputs": [
    {
     "data": {
      "text/plain": [
       "'t'"
      ]
     },
     "execution_count": 41,
     "metadata": {},
     "output_type": "execute_result"
    }
   ],
   "source": [
    "sentence[-1]"
   ]
  },
  {
   "cell_type": "markdown",
   "id": "ca629402",
   "metadata": {},
   "source": [
    "### Task 5:\n",
    "\n",
    "#### What are possible ways yo extract Scientist(use forward and reverse)\n",
    "#### Use slicing to extract and print the first word from the string.\n",
    "#### Use slicing to extract and print the last three characters of the string."
   ]
  },
  {
   "cell_type": "code",
   "execution_count": 43,
   "id": "9401edc8",
   "metadata": {},
   "outputs": [],
   "source": [
    "sentence = \"I want to become Data Scientist\""
   ]
  },
  {
   "cell_type": "code",
   "execution_count": 44,
   "id": "d94853d5",
   "metadata": {},
   "outputs": [
    {
     "data": {
      "text/plain": [
       "31"
      ]
     },
     "execution_count": 44,
     "metadata": {},
     "output_type": "execute_result"
    }
   ],
   "source": [
    "len(sentence)"
   ]
  },
  {
   "cell_type": "code",
   "execution_count": 45,
   "id": "31671096",
   "metadata": {},
   "outputs": [
    {
     "data": {
      "text/plain": [
       "'Scientist'"
      ]
     },
     "execution_count": 45,
     "metadata": {},
     "output_type": "execute_result"
    }
   ],
   "source": [
    "sentence[22:32]"
   ]
  },
  {
   "cell_type": "code",
   "execution_count": 50,
   "id": "ca02c2bc",
   "metadata": {},
   "outputs": [
    {
     "data": {
      "text/plain": [
       "'tsitneic'"
      ]
     },
     "execution_count": 50,
     "metadata": {},
     "output_type": "execute_result"
    }
   ],
   "source": [
    "sentence[33:22:-1]"
   ]
  },
  {
   "cell_type": "code",
   "execution_count": 51,
   "id": "399cf25a",
   "metadata": {},
   "outputs": [
    {
     "data": {
      "text/plain": [
       "'I'"
      ]
     },
     "execution_count": 51,
     "metadata": {},
     "output_type": "execute_result"
    }
   ],
   "source": [
    "sentence[0:1]"
   ]
  },
  {
   "cell_type": "code",
   "execution_count": 53,
   "id": "08dedb37",
   "metadata": {},
   "outputs": [
    {
     "data": {
      "text/plain": [
       "'ist'"
      ]
     },
     "execution_count": 53,
     "metadata": {},
     "output_type": "execute_result"
    }
   ],
   "source": [
    "sentence[28:33]"
   ]
  },
  {
   "cell_type": "markdown",
   "id": "a4a7bbd0",
   "metadata": {},
   "source": [
    "### Task 6:\n",
    "\n",
    "#### name = \"Innomatics Reserach Labs\"\n",
    "#### Apply slicing to extract a substring that includes the second to fifth characters.\n",
    "#### Print the extracted substring."
   ]
  },
  {
   "cell_type": "code",
   "execution_count": 54,
   "id": "7af04364",
   "metadata": {},
   "outputs": [],
   "source": [
    "name = \"Innomatics Reserach Labs\""
   ]
  },
  {
   "cell_type": "code",
   "execution_count": 55,
   "id": "5746b37d",
   "metadata": {},
   "outputs": [
    {
     "data": {
      "text/plain": [
       "'nom'"
      ]
     },
     "execution_count": 55,
     "metadata": {},
     "output_type": "execute_result"
    }
   ],
   "source": [
    "name[2:5]"
   ]
  },
  {
   "cell_type": "markdown",
   "id": "be4623d1",
   "metadata": {},
   "source": [
    "### Task 7:\n",
    "\n",
    "#### string = \"Python@1234\"\n",
    "#### Use slicing to extract every second character from the string.\n",
    "#### Print the resulting sliced string."
   ]
  },
  {
   "cell_type": "code",
   "execution_count": 56,
   "id": "963a2b17",
   "metadata": {},
   "outputs": [],
   "source": [
    "string = \"Python@1234\""
   ]
  },
  {
   "cell_type": "code",
   "execution_count": 61,
   "id": "17f054f6",
   "metadata": {},
   "outputs": [
    {
     "data": {
      "text/plain": [
       "'Pto@24'"
      ]
     },
     "execution_count": 61,
     "metadata": {},
     "output_type": "execute_result"
    }
   ],
   "source": [
    "string[::2]"
   ]
  },
  {
   "cell_type": "markdown",
   "id": "2eef5bb0",
   "metadata": {},
   "source": [
    "### Task 8:\n",
    "\n",
    "#### print last five letters.\n",
    "#### Utilize slicing to reverse the word order in the string.\n",
    "#### Print the string with the words in the reversed order."
   ]
  },
  {
   "cell_type": "code",
   "execution_count": 62,
   "id": "d69e6419",
   "metadata": {},
   "outputs": [],
   "source": [
    "string = \"Python@1234\""
   ]
  },
  {
   "cell_type": "code",
   "execution_count": 63,
   "id": "4b38048d",
   "metadata": {},
   "outputs": [
    {
     "data": {
      "text/plain": [
       "'@1234'"
      ]
     },
     "execution_count": 63,
     "metadata": {},
     "output_type": "execute_result"
    }
   ],
   "source": [
    "string[6:12:1]"
   ]
  },
  {
   "cell_type": "code",
   "execution_count": 64,
   "id": "e0ac830c",
   "metadata": {},
   "outputs": [
    {
     "data": {
      "text/plain": [
       "'4321@nohtyP'"
      ]
     },
     "execution_count": 64,
     "metadata": {},
     "output_type": "execute_result"
    }
   ],
   "source": [
    "string[::-1]"
   ]
  },
  {
   "cell_type": "markdown",
   "id": "6e2b7240",
   "metadata": {},
   "source": [
    "### Task 9:\n",
    "\n",
    "#### a = \"123123123\"\n",
    "#### Apply slicing to extract only the numeric characters at odd positions.\n",
    "#### Print the sliced result."
   ]
  },
  {
   "cell_type": "code",
   "execution_count": 65,
   "id": "ccff6478",
   "metadata": {},
   "outputs": [],
   "source": [
    "a = \"123123123\""
   ]
  },
  {
   "cell_type": "code",
   "execution_count": 67,
   "id": "344715e9",
   "metadata": {},
   "outputs": [
    {
     "data": {
      "text/plain": [
       "'2132'"
      ]
     },
     "execution_count": 67,
     "metadata": {},
     "output_type": "execute_result"
    }
   ],
   "source": [
    "a[1:9:2]"
   ]
  },
  {
   "cell_type": "code",
   "execution_count": null,
   "id": "614b9d40",
   "metadata": {},
   "outputs": [],
   "source": []
  }
 ],
 "metadata": {
  "kernelspec": {
   "display_name": "Python 3 (ipykernel)",
   "language": "python",
   "name": "python3"
  },
  "language_info": {
   "codemirror_mode": {
    "name": "ipython",
    "version": 3
   },
   "file_extension": ".py",
   "mimetype": "text/x-python",
   "name": "python",
   "nbconvert_exporter": "python",
   "pygments_lexer": "ipython3",
   "version": "3.11.4"
  }
 },
 "nbformat": 4,
 "nbformat_minor": 5
}
