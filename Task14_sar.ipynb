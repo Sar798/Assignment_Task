{
 "cells": [
  {
   "cell_type": "markdown",
   "id": "9876afa4",
   "metadata": {},
   "source": [
    "* Write a function called \"add_numbers\" that takes two integers as input and returns their sum.\n",
    "\n",
    "* Write a function called \"multiply_numbers\" that takes two integers as input and returns their product.\n",
    "\n",
    "* Write a function called \"calculate_average\" that takes a list of numbers as input and returns the average of thosenumbers.\n",
    "\n",
    "* Write a function called \"is_even\" that takes an integer as input and returns True if the number is even, and False otherwise.\n",
    "\n",
    "* Write a function called \"reverse_string\" that takes a string as input and returns the reverse of that string.\n",
    "\n",
    "* Write a function called \"count_vowels\" that takes a string as input and returns the number of vowels (a, e, i, o, u) in that string.\n",
    "\n",
    "* Write a function called \"find_max\" that takes a list of numbers as input and returns the maximum value in that list.\n",
    "\n",
    "* Write a function called \"find_min\" that takes a list of numbers as input and returns the minimum value in that list."
   ]
  },
  {
   "cell_type": "markdown",
   "id": "084af478",
   "metadata": {},
   "source": [
    "### Write a function called \"add_numbers\" that takes two integers as input and returns their sum."
   ]
  },
  {
   "cell_type": "code",
   "execution_count": 1,
   "id": "01183d21",
   "metadata": {},
   "outputs": [],
   "source": [
    "def add(a,b):\n",
    "    print(a+b)"
   ]
  },
  {
   "cell_type": "code",
   "execution_count": 3,
   "id": "205efc31",
   "metadata": {},
   "outputs": [
    {
     "name": "stdout",
     "output_type": "stream",
     "text": [
      "a :: 6\n",
      "b :: 5\n",
      "11\n"
     ]
    }
   ],
   "source": [
    "a = int(input(\"a :: \"))\n",
    "b = int(input(\"b :: \"))\n",
    "add(a,b)"
   ]
  },
  {
   "cell_type": "markdown",
   "id": "d7da1f0a",
   "metadata": {},
   "source": [
    "### Write a function called \"multiply_numbers\" that takes two integers as input and returns their product."
   ]
  },
  {
   "cell_type": "code",
   "execution_count": 4,
   "id": "0e52fd7d",
   "metadata": {},
   "outputs": [],
   "source": [
    "def mul(a,b):\n",
    "    print(a*b)"
   ]
  },
  {
   "cell_type": "code",
   "execution_count": 5,
   "id": "1a5287f8",
   "metadata": {},
   "outputs": [
    {
     "name": "stdout",
     "output_type": "stream",
     "text": [
      "a :: 6\n",
      "b :: 5\n",
      "30\n"
     ]
    }
   ],
   "source": [
    "a = int(input(\"a :: \"))\n",
    "b = int(input(\"b :: \"))\n",
    "mul(a,b)"
   ]
  },
  {
   "cell_type": "markdown",
   "id": "6233613a",
   "metadata": {},
   "source": [
    "## Write a function called \"calculate_average\" that takes a list of numbers as input and returns the average of thosenumbers."
   ]
  },
  {
   "cell_type": "code",
   "execution_count": 10,
   "id": "db56039d",
   "metadata": {},
   "outputs": [],
   "source": [
    "list1 = []\n",
    "\n",
    "def calc_avg(a,b):\n",
    "    \n",
    "    num = int(input(\"How many numbers you want to enter :: \"))\n",
    "    for i in range(1,num+1):\n",
    "        num2 = int(input(\"Enter a number : \"))\n",
    "        list1.append(num2)\n",
    "    print(list1)\n",
    "    a = sum(list1)\n",
    "    b = len(list1)\n",
    "    print(a/b)"
   ]
  },
  {
   "cell_type": "code",
   "execution_count": 11,
   "id": "d2b4df06",
   "metadata": {},
   "outputs": [
    {
     "name": "stdout",
     "output_type": "stream",
     "text": [
      "How many numbers you want to enter :: 2\n",
      "Enter a number : 6\n",
      "Enter a number : 5\n",
      "[6, 5]\n",
      "5.5\n"
     ]
    }
   ],
   "source": [
    "calc_avg(a,b)"
   ]
  },
  {
   "cell_type": "markdown",
   "id": "90fc85ee",
   "metadata": {},
   "source": [
    "### Write a function called \"is_even\" that takes an integer as input and returns True if the number is even, and False otherwise."
   ]
  },
  {
   "cell_type": "code",
   "execution_count": 13,
   "id": "4e5ee19b",
   "metadata": {},
   "outputs": [],
   "source": [
    "def is_even(n):\n",
    "    if n%2==0 :\n",
    "        print(\"True\")\n",
    "    else :\n",
    "        print(\"False\")"
   ]
  },
  {
   "cell_type": "code",
   "execution_count": 15,
   "id": "db2fa5dd",
   "metadata": {},
   "outputs": [
    {
     "name": "stdout",
     "output_type": "stream",
     "text": [
      "Enter a Number :: 4\n",
      "True\n"
     ]
    }
   ],
   "source": [
    "n = int(input(\"Enter a Number :: \"))\n",
    "\n",
    "is_even(n)"
   ]
  },
  {
   "cell_type": "markdown",
   "id": "972aa0ba",
   "metadata": {},
   "source": [
    "### Write a function called \"reverse_string\" that takes a string as input and returns the reverse of that string."
   ]
  },
  {
   "cell_type": "code",
   "execution_count": 16,
   "id": "d1cb411f",
   "metadata": {},
   "outputs": [],
   "source": [
    "def reverse_string(str):\n",
    "    print(str[::-1])"
   ]
  },
  {
   "cell_type": "code",
   "execution_count": 19,
   "id": "e51bc3cb",
   "metadata": {},
   "outputs": [
    {
     "name": "stdout",
     "output_type": "stream",
     "text": [
      "Enter a String :: Raheem\n",
      "meehaR\n"
     ]
    }
   ],
   "source": [
    "str = input(\"Enter a String :: \")\n",
    "reverse_string(str)"
   ]
  },
  {
   "cell_type": "markdown",
   "id": "e8966e81",
   "metadata": {},
   "source": [
    "### Write a function called \"count_vowels\" that takes a string as input and returns the number of vowels (a, e, i, o, u) in that string"
   ]
  },
  {
   "cell_type": "code",
   "execution_count": 1,
   "id": "cdc276e6",
   "metadata": {},
   "outputs": [],
   "source": [
    "vowels = [\"a\",\"e\",\"i\",\"o\",\"u\"]\n",
    "num = []\n",
    "def count_vowels(name):\n",
    "    for i in name :\n",
    "        if i in vowels :\n",
    "            num.append(i)\n",
    "        else:\n",
    "            pass\n",
    "        \n",
    "    print(len(num))\n",
    "        "
   ]
  },
  {
   "cell_type": "code",
   "execution_count": 2,
   "id": "49d503f7",
   "metadata": {},
   "outputs": [
    {
     "name": "stdout",
     "output_type": "stream",
     "text": [
      "Enter your String :: innomatics research lab\n",
      "8\n"
     ]
    }
   ],
   "source": [
    "name = input(\"Enter your String :: \")\n",
    "count_vowels(name)"
   ]
  },
  {
   "cell_type": "markdown",
   "id": "f19259e4",
   "metadata": {},
   "source": [
    "### Write a function called \"find_max\" that takes a list of numbers as input and returns the maximum value in that list."
   ]
  },
  {
   "cell_type": "code",
   "execution_count": 3,
   "id": "118b91eb",
   "metadata": {},
   "outputs": [
    {
     "name": "stdout",
     "output_type": "stream",
     "text": [
      "99\n"
     ]
    }
   ],
   "source": [
    "def find_max(num):\n",
    "    print(max(num))\n",
    "    \n",
    "num=[10,25,48,65,30,88,50,99]\n",
    "find_max(num)"
   ]
  },
  {
   "cell_type": "markdown",
   "id": "674c3390",
   "metadata": {},
   "source": [
    "### Write a function called \"find_min\" that takes a list of numbers as input and returns the minimum value in that list."
   ]
  },
  {
   "cell_type": "code",
   "execution_count": 4,
   "id": "36a17306",
   "metadata": {},
   "outputs": [
    {
     "name": "stdout",
     "output_type": "stream",
     "text": [
      "10\n"
     ]
    }
   ],
   "source": [
    "def find_min(num):\n",
    "    print(min(num))\n",
    "    \n",
    "num=[10,25,48,65,30,88,50,99]\n",
    "find_min(num)"
   ]
  },
  {
   "cell_type": "code",
   "execution_count": null,
   "id": "4cca986a",
   "metadata": {},
   "outputs": [],
   "source": []
  }
 ],
 "metadata": {
  "kernelspec": {
   "display_name": "Python 3 (ipykernel)",
   "language": "python",
   "name": "python3"
  },
  "language_info": {
   "codemirror_mode": {
    "name": "ipython",
    "version": 3
   },
   "file_extension": ".py",
   "mimetype": "text/x-python",
   "name": "python",
   "nbconvert_exporter": "python",
   "pygments_lexer": "ipython3",
   "version": "3.11.4"
  }
 },
 "nbformat": 4,
 "nbformat_minor": 5
}
