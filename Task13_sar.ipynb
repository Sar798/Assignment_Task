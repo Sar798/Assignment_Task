{
 "cells": [
  {
   "cell_type": "markdown",
   "id": "ebe30dd7",
   "metadata": {},
   "source": [
    "###  while loops and their use in programming.\n",
    "\n",
    "* Write a Python program that uses a while loop to print the numbers from A to P.\n",
    "\n",
    "* Modify the program to print only the even numbers from 1 to 20 except mutiple of 3 using a while loop.\n",
    "\n",
    "* Create a program that prompts the user for an integer input and then uses a while loop to print the countdown from that number to 1.\n",
    "\n",
    "* Write a Python program that uses a while loop to repeatedly ask the user to enter a number. If the user enters 0, exit the loop using the break statement. Otherwise, continue prompting for numbers.\n",
    "\n",
    "* Create a program that uses a while loop to print the numbers from 1 to 20, but skip printing the numbers 5, 10, and 15 using the continue statement.\n",
    "\n",
    "* Write a Python program that simulates a simple password entry system. Ask the user to enter a password, and use a while loop to repeatedly prompt for the password until the correct password \"abc123\" is entered. Once the correct password is entered, exit the loop.\n",
    "\n",
    "* Calculate and print the sum of all the positive integers entered by the user."
   ]
  },
  {
   "cell_type": "markdown",
   "id": "66d22488",
   "metadata": {},
   "source": [
    "## Write a Python program that uses a while loop to print the numbers from A to P."
   ]
  },
  {
   "cell_type": "code",
   "execution_count": 2,
   "id": "abac3999",
   "metadata": {},
   "outputs": [
    {
     "name": "stdout",
     "output_type": "stream",
     "text": [
      "A\n",
      "B\n",
      "C\n",
      "D\n",
      "E\n",
      "F\n",
      "G\n",
      "H\n",
      "I\n",
      "J\n",
      "K\n",
      "L\n",
      "M\n",
      "N\n",
      "O\n",
      "P\n"
     ]
    }
   ],
   "source": [
    "num = 0\n",
    "while num < 16 :\n",
    "    print(chr(65+num))\n",
    "    num = num+1"
   ]
  },
  {
   "cell_type": "markdown",
   "id": "5cb7aaff",
   "metadata": {},
   "source": [
    "### Modify the program to print only the even numbers from 1 to 20 except mutiple of 3 using a while loop."
   ]
  },
  {
   "cell_type": "code",
   "execution_count": 3,
   "id": "716d848d",
   "metadata": {},
   "outputs": [
    {
     "name": "stdout",
     "output_type": "stream",
     "text": [
      "2\n",
      "4\n",
      "8\n",
      "10\n",
      "14\n",
      "16\n",
      "20\n"
     ]
    }
   ],
   "source": [
    "n = 1\n",
    "while n <= 20 :\n",
    "    if n%3 == 0 :\n",
    "        pass\n",
    "    elif n%2 == 0:\n",
    "        print(n)\n",
    "    n = n + 1"
   ]
  },
  {
   "cell_type": "markdown",
   "id": "05c0703c",
   "metadata": {},
   "source": [
    "### Create a program that prompts the user for an integer input and then uses a while loop to print the countdown from that number to 1."
   ]
  },
  {
   "cell_type": "code",
   "execution_count": 4,
   "id": "8e55c642",
   "metadata": {},
   "outputs": [
    {
     "name": "stdout",
     "output_type": "stream",
     "text": [
      "Enter  a Number : 10\n",
      "10\n",
      "9\n",
      "8\n",
      "7\n",
      "6\n",
      "5\n",
      "4\n",
      "3\n",
      "2\n",
      "1\n"
     ]
    }
   ],
   "source": [
    "n = int(input(\"Enter  a Number : \"))\n",
    "while n :\n",
    "    print(n)\n",
    "    n = n- 1"
   ]
  },
  {
   "cell_type": "markdown",
   "id": "c628473f",
   "metadata": {},
   "source": [
    "### Write a Python program that uses a while loop to repeatedly ask the user to enter a number. If the user enters 0, exit the loop using the break statement. Otherwise, continue prompting for numbers."
   ]
  },
  {
   "cell_type": "code",
   "execution_count": 1,
   "id": "823beeac",
   "metadata": {},
   "outputs": [
    {
     "name": "stdout",
     "output_type": "stream",
     "text": [
      "Enter a Number:0\n"
     ]
    }
   ],
   "source": [
    "n = int(input(\"Enter a Number:\"))\n",
    "while n:\n",
    "    if n == 0 :\n",
    "        break\n",
    "    else :\n",
    "        num = int(input(\"Enter a Number: \"))"
   ]
  },
  {
   "cell_type": "markdown",
   "id": "1107f8fa",
   "metadata": {},
   "source": [
    "## Create a program that uses a while loop to print the numbers from 1 to 20, but skip printing the numbers 5, 10, and 15 using the continue statement."
   ]
  },
  {
   "cell_type": "code",
   "execution_count": 7,
   "id": "cf37e83e",
   "metadata": {},
   "outputs": [
    {
     "name": "stdout",
     "output_type": "stream",
     "text": [
      "1\n",
      "2\n",
      "3\n",
      "4\n",
      "6\n",
      "7\n",
      "8\n",
      "9\n",
      "11\n",
      "12\n",
      "13\n",
      "14\n",
      "16\n",
      "17\n",
      "18\n",
      "19\n",
      "20\n"
     ]
    }
   ],
   "source": [
    "N= 0\n",
    "while N <20:\n",
    "    N = N+1\n",
    "    if (N==5) or (N==10) or (N==15):\n",
    "        continue\n",
    "    else:\n",
    "        print(N)"
   ]
  },
  {
   "cell_type": "markdown",
   "id": "b53a6335",
   "metadata": {},
   "source": [
    "### Write a Python program that simulates a simple password entry system. Ask the user to enter a password, and use a while loop to repeatedly prompt for the password until the correct password \"abc123\" is entered. Once the correct password is entered, exit the loop."
   ]
  },
  {
   "cell_type": "code",
   "execution_count": 1,
   "id": "8bbbe7f8",
   "metadata": {},
   "outputs": [
    {
     "name": "stdout",
     "output_type": "stream",
     "text": [
      "Enter your Password: Raheem\n",
      "Enter your Password: Adnan\n",
      "Enter your Password: Mansoor\n",
      "Enter your Password: abc123\n"
     ]
    }
   ],
   "source": [
    "pwd = \"abc123\"\n",
    "while pwd :\n",
    "    password = input(\"Enter your Password: \")\n",
    "    if pwd == password :\n",
    "        break\n",
    "    else :\n",
    "        continue"
   ]
  },
  {
   "cell_type": "markdown",
   "id": "0f62b6d6",
   "metadata": {},
   "source": [
    "### Calculate and print the sum of all the positive integers entered by the user."
   ]
  },
  {
   "cell_type": "code",
   "execution_count": 1,
   "id": "814d5aba",
   "metadata": {},
   "outputs": [
    {
     "name": "stdout",
     "output_type": "stream",
     "text": [
      "How many integers you want to sum: 3\n",
      "Enter a number: 50\n",
      "Enter a number: 20\n",
      "Enter a number: 30\n",
      "Sum of all integers :  100\n"
     ]
    }
   ],
   "source": [
    "num = int(input(\"How many integers you want to sum: \"))\n",
    "a = 0\n",
    "while num :\n",
    "    for i in range(0,num) :\n",
    "        if num > 0:\n",
    "            b = int(input(\"Enter a number: \"))\n",
    "            a = a + b\n",
    "            \n",
    "        else :\n",
    "            print(\"Enter positive integers only!\")\n",
    "            \n",
    "    print(\"Sum of all integers : \" ,a)\n",
    "    break"
   ]
  },
  {
   "cell_type": "code",
   "execution_count": null,
   "id": "64d8a9c5",
   "metadata": {},
   "outputs": [],
   "source": []
  }
 ],
 "metadata": {
  "kernelspec": {
   "display_name": "Python 3 (ipykernel)",
   "language": "python",
   "name": "python3"
  },
  "language_info": {
   "codemirror_mode": {
    "name": "ipython",
    "version": 3
   },
   "file_extension": ".py",
   "mimetype": "text/x-python",
   "name": "python",
   "nbconvert_exporter": "python",
   "pygments_lexer": "ipython3",
   "version": "3.11.4"
  }
 },
 "nbformat": 4,
 "nbformat_minor": 5
}
