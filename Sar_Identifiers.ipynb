{
 "cells": [
  {
   "cell_type": "markdown",
   "id": "5efd181d",
   "metadata": {},
   "source": [
    "# Check the valid Identifiers and invalid identifers using Python"
   ]
  },
  {
   "cell_type": "markdown",
   "id": "aebe5a40",
   "metadata": {},
   "source": [
    "1. **Run all the identifiers and seprate valid and Invalid Identifiers?**\n",
    "\n",
    "2. **Why Python treating them as invalid Identifers.Explain?**"
   ]
  },
  {
   "cell_type": "code",
   "execution_count": 4,
   "id": "a8ce7a79",
   "metadata": {},
   "outputs": [
    {
     "data": {
      "text/plain": [
       "['False',\n",
       " 'None',\n",
       " 'True',\n",
       " 'and',\n",
       " 'as',\n",
       " 'assert',\n",
       " 'async',\n",
       " 'await',\n",
       " 'break',\n",
       " 'class',\n",
       " 'continue',\n",
       " 'def',\n",
       " 'del',\n",
       " 'elif',\n",
       " 'else',\n",
       " 'except',\n",
       " 'finally',\n",
       " 'for',\n",
       " 'from',\n",
       " 'global',\n",
       " 'if',\n",
       " 'import',\n",
       " 'in',\n",
       " 'is',\n",
       " 'lambda',\n",
       " 'nonlocal',\n",
       " 'not',\n",
       " 'or',\n",
       " 'pass',\n",
       " 'raise',\n",
       " 'return',\n",
       " 'try',\n",
       " 'while',\n",
       " 'with',\n",
       " 'yield']"
      ]
     },
     "execution_count": 4,
     "metadata": {},
     "output_type": "execute_result"
    }
   ],
   "source": [
    "import keyword\n",
    "keyword.kwlist"
   ]
  },
  {
   "cell_type": "markdown",
   "id": "49f3d559",
   "metadata": {},
   "source": [
    "* my_variable = 25\n",
    "* Valid"
   ]
  },
  {
   "cell_type": "markdown",
   "id": "610474a9",
   "metadata": {},
   "source": [
    "* counter = 40.7\n",
    "* Valid"
   ]
  },
  {
   "cell_type": "markdown",
   "id": "efedf588",
   "metadata": {},
   "source": [
    "* _total = \"Hello\"\n",
    "* Valid"
   ]
  },
  {
   "cell_type": "markdown",
   "id": "1dfabf2f",
   "metadata": {},
   "source": [
    "* 123abc = 34\n",
    "* Invalid - Identifers Should not start with digits."
   ]
  },
  {
   "cell_type": "markdown",
   "id": "e22ab263",
   "metadata": {},
   "source": [
    "* my variable =6.7\n",
    "* Invalid - identifer should not contain space except Underscore"
   ]
  },
  {
   "cell_type": "markdown",
   "id": "42eea7e4",
   "metadata": {},
   "source": [
    "* @count  = \"hi\"  \n",
    "* Invalid - Identifer wont allow @ special character. it will accept only underscore(_)"
   ]
  },
  {
   "cell_type": "markdown",
   "id": "b349c3cb",
   "metadata": {},
   "source": [
    "* for   = \"True\"\n",
    "* Invalid - For is a keyword. and identifer wont accept for as name. "
   ]
  },
  {
   "cell_type": "markdown",
   "id": "350f64a0",
   "metadata": {},
   "source": [
    "* Name123 = 136\n",
    "* Valid - identifer accept alpha numeric value"
   ]
  },
  {
   "cell_type": "markdown",
   "id": "d44b700d",
   "metadata": {},
   "source": [
    "* myFunction = True\n",
    "* Valid - Identifer will accept uppercase and lowercase value with 0-9 digits "
   ]
  },
  {
   "cell_type": "markdown",
   "id": "430964aa",
   "metadata": {},
   "source": [
    "* _data = False\n",
    "* Valid - identifer allow _ special character"
   ]
  },
  {
   "cell_type": "code",
   "execution_count": 6,
   "id": "99bde0cc",
   "metadata": {},
   "outputs": [
    {
     "ename": "SyntaxError",
     "evalue": "invalid syntax (51595175.py, line 1)",
     "output_type": "error",
     "traceback": [
      "\u001b[1;36m  Cell \u001b[1;32mIn[6], line 1\u001b[1;36m\u001b[0m\n\u001b[1;33m    if_condition? = \"Innomatics\"\u001b[0m\n\u001b[1;37m                ^\u001b[0m\n\u001b[1;31mSyntaxError\u001b[0m\u001b[1;31m:\u001b[0m invalid syntax\n"
     ]
    }
   ],
   "source": [
    "if_condition? = \"Innomatics\""
   ]
  },
  {
   "cell_type": "markdown",
   "id": "25471171",
   "metadata": {},
   "source": [
    "* if_condition? = \"Innomatics\"\n",
    "* Invalid - identifer wont accept if as name because its a keyword and it wont allow ( ? ) special character except underscore."
   ]
  },
  {
   "cell_type": "markdown",
   "id": "85e1b496",
   "metadata": {},
   "source": [
    "* class = \"Hyderabad\"\n",
    "* Invalid - class is a keyword and we cant use as name identifer"
   ]
  },
  {
   "cell_type": "markdown",
   "id": "35c32a6f",
   "metadata": {},
   "source": [
    "### Use different identifiers and assign the below values"
   ]
  },
  {
   "cell_type": "code",
   "execution_count": 7,
   "id": "92be8413",
   "metadata": {},
   "outputs": [
    {
     "name": "stdout",
     "output_type": "stream",
     "text": [
      "10\n"
     ]
    }
   ],
   "source": [
    "x = 10\n",
    "print (x)"
   ]
  },
  {
   "cell_type": "code",
   "execution_count": 8,
   "id": "2bf60111",
   "metadata": {},
   "outputs": [
    {
     "data": {
      "text/plain": [
       "int"
      ]
     },
     "execution_count": 8,
     "metadata": {},
     "output_type": "execute_result"
    }
   ],
   "source": [
    "type(x)"
   ]
  },
  {
   "cell_type": "code",
   "execution_count": 9,
   "id": "e2bf63f9",
   "metadata": {},
   "outputs": [
    {
     "name": "stdout",
     "output_type": "stream",
     "text": [
      "-5\n"
     ]
    }
   ],
   "source": [
    "raheem = -5\n",
    "print (raheem)"
   ]
  },
  {
   "cell_type": "code",
   "execution_count": 10,
   "id": "8bee69f1",
   "metadata": {},
   "outputs": [
    {
     "name": "stdout",
     "output_type": "stream",
     "text": [
      "3.14159\n"
     ]
    },
    {
     "data": {
      "text/plain": [
       "float"
      ]
     },
     "execution_count": 10,
     "metadata": {},
     "output_type": "execute_result"
    }
   ],
   "source": [
    "y= 3.14159\n",
    "print (y)\n",
    "type (y)"
   ]
  },
  {
   "cell_type": "code",
   "execution_count": 11,
   "id": "871d4937",
   "metadata": {},
   "outputs": [
    {
     "data": {
      "text/plain": [
       "float"
      ]
     },
     "execution_count": 11,
     "metadata": {},
     "output_type": "execute_result"
    }
   ],
   "source": [
    "SAR = -0.12345\n",
    "type (SAR)"
   ]
  },
  {
   "cell_type": "code",
   "execution_count": 13,
   "id": "a4adb74a",
   "metadata": {},
   "outputs": [
    {
     "data": {
      "text/plain": [
       "int"
      ]
     },
     "execution_count": 13,
     "metadata": {},
     "output_type": "execute_result"
    }
   ],
   "source": [
    "z= 1000\n",
    "type (z)"
   ]
  },
  {
   "cell_type": "code",
   "execution_count": 17,
   "id": "cbc9fa07",
   "metadata": {},
   "outputs": [
    {
     "name": "stdout",
     "output_type": "stream",
     "text": [
      "Hello, World!\n",
      "Python\n",
      "I am learning\n",
      "Text type\n",
      "String\n"
     ]
    }
   ],
   "source": [
    "a = \"Hello, World!\"\n",
    "\n",
    "b = \"Python\"\n",
    "\n",
    "c = \"I am learning\"\n",
    "\n",
    "d = \"Text type\"\n",
    "\n",
    "e = \"String\"\n",
    "print(a)\n",
    "print(b)\n",
    "print(c)\n",
    "print(d)\n",
    "print(e)"
   ]
  },
  {
   "cell_type": "code",
   "execution_count": 18,
   "id": "e727d8e3",
   "metadata": {},
   "outputs": [
    {
     "data": {
      "text/plain": [
       "str"
      ]
     },
     "execution_count": 18,
     "metadata": {},
     "output_type": "execute_result"
    }
   ],
   "source": [
    "type(a)"
   ]
  },
  {
   "cell_type": "code",
   "execution_count": 19,
   "id": "066d9368",
   "metadata": {},
   "outputs": [
    {
     "data": {
      "text/plain": [
       "str"
      ]
     },
     "execution_count": 19,
     "metadata": {},
     "output_type": "execute_result"
    }
   ],
   "source": [
    "type(b)"
   ]
  },
  {
   "cell_type": "code",
   "execution_count": 20,
   "id": "2da0d862",
   "metadata": {},
   "outputs": [
    {
     "data": {
      "text/plain": [
       "str"
      ]
     },
     "execution_count": 20,
     "metadata": {},
     "output_type": "execute_result"
    }
   ],
   "source": [
    "type(c)"
   ]
  },
  {
   "cell_type": "code",
   "execution_count": 21,
   "id": "9cb10e44",
   "metadata": {},
   "outputs": [
    {
     "data": {
      "text/plain": [
       "str"
      ]
     },
     "execution_count": 21,
     "metadata": {},
     "output_type": "execute_result"
    }
   ],
   "source": [
    "type(d)"
   ]
  },
  {
   "cell_type": "code",
   "execution_count": 22,
   "id": "45fcf0d0",
   "metadata": {},
   "outputs": [
    {
     "data": {
      "text/plain": [
       "str"
      ]
     },
     "execution_count": 22,
     "metadata": {},
     "output_type": "execute_result"
    }
   ],
   "source": [
    "type(e)"
   ]
  },
  {
   "cell_type": "code",
   "execution_count": 24,
   "id": "ec0993e8",
   "metadata": {},
   "outputs": [
    {
     "name": "stdout",
     "output_type": "stream",
     "text": [
      "True\n"
     ]
    }
   ],
   "source": [
    "Innomatics = True\n",
    "print(Innomatics)"
   ]
  },
  {
   "cell_type": "code",
   "execution_count": 25,
   "id": "c5949e9e",
   "metadata": {},
   "outputs": [
    {
     "name": "stdout",
     "output_type": "stream",
     "text": [
      "False\n"
     ]
    }
   ],
   "source": [
    "x = False\n",
    "print(x)"
   ]
  },
  {
   "cell_type": "code",
   "execution_count": 26,
   "id": "f34cb459",
   "metadata": {},
   "outputs": [
    {
     "name": "stdout",
     "output_type": "stream",
     "text": [
      "True\n"
     ]
    }
   ],
   "source": [
    "y= True\n",
    "print(y)"
   ]
  },
  {
   "cell_type": "code",
   "execution_count": 28,
   "id": "93f665f2",
   "metadata": {},
   "outputs": [
    {
     "name": "stdout",
     "output_type": "stream",
     "text": [
      "False\n"
     ]
    }
   ],
   "source": [
    "Car = False\n",
    "print(Car)"
   ]
  },
  {
   "cell_type": "code",
   "execution_count": 29,
   "id": "7954abce",
   "metadata": {},
   "outputs": [
    {
     "name": "stdout",
     "output_type": "stream",
     "text": [
      "True\n"
     ]
    }
   ],
   "source": [
    "a = True\n",
    "print (a)"
   ]
  }
 ],
 "metadata": {
  "kernelspec": {
   "display_name": "Python 3 (ipykernel)",
   "language": "python",
   "name": "python3"
  },
  "language_info": {
   "codemirror_mode": {
    "name": "ipython",
    "version": 3
   },
   "file_extension": ".py",
   "mimetype": "text/x-python",
   "name": "python",
   "nbconvert_exporter": "python",
   "pygments_lexer": "ipython3",
   "version": "3.11.4"
  }
 },
 "nbformat": 4,
 "nbformat_minor": 5
}
