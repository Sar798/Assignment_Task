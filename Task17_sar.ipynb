{
 "cells": [
  {
   "cell_type": "markdown",
   "id": "e727e620",
   "metadata": {},
   "source": [
    "### Task 1:\n",
    "\n",
    "#### Load the file 'about_python.txt'into your jupyter notebook.\n",
    "*  Correct wrong statements about python fatures\n",
    "*  How many charactaers present in the data\n",
    "*  How many times 'Python' word is repeated.\n",
    "*  after correcting all ..print complete valid features of the python."
   ]
  },
  {
   "cell_type": "code",
   "execution_count": 3,
   "id": "08e5218e",
   "metadata": {},
   "outputs": [],
   "source": [
    "file = open('about_python.txt','r')"
   ]
  },
  {
   "cell_type": "code",
   "execution_count": 4,
   "id": "e9088db3",
   "metadata": {},
   "outputs": [
    {
     "name": "stdout",
     "output_type": "stream",
     "text": [
      "Python supports object-oriented programming (OOP) concepts.\n",
      "Python is a compiled language.\n",
      "Python has a rich ecosystem of third-party libraries.\n",
      "Python is a paid programming language\n",
      "Python uses indentation for code block structuring.\n",
      "Python is statically Typed Language\n",
      "Python only supports double quotes for string literals.\n",
      "Python can only be used for web development.\n",
      "Python was created by Elon Musk.\n",
      "\n"
     ]
    }
   ],
   "source": [
    "print(file.read())"
   ]
  },
  {
   "cell_type": "code",
   "execution_count": 5,
   "id": "d174f8ce",
   "metadata": {},
   "outputs": [
    {
     "name": "stdout",
     "output_type": "stream",
     "text": [
      "Python supports object-oriented programming (OOP) concepts.\n",
      "Python is a interpreted language.\n",
      "Python has a rich ecosystem of third-party libraries.\n",
      "Python is a free and open-source programming language\n",
      "Python uses indentation for code block structuring.\n",
      "Python is dynamically Typed Language\n",
      "Python supports single and double quotes for string literals.\n",
      "Python can be used for web development,machine learning and data science,etc.\n",
      "Python was created by Guido van Rossum.\n",
      "\n"
     ]
    }
   ],
   "source": [
    "file = open(\"about_python.txt\",\"r\")       #Correcting statements\n",
    "string = file.read()\n",
    "string1= string.replace(\"compiled\",\"interpreted\")\n",
    "string2= string1.replace(\"paid\",\"free and open-source\")\n",
    "string3= string2.replace(\"statically\",\"dynamically\")\n",
    "string4= string3.replace(\"only supports\",\"supports single and\")\n",
    "string5= string4.replace(\"can only be used for web development.\",\"can be used for web development,machine learning and data science,etc.\")\n",
    "strings= string5.replace(\"Elon Musk\",\"Guido van Rossum\")\n",
    "\n",
    "print(strings)"
   ]
  },
  {
   "cell_type": "code",
   "execution_count": 6,
   "id": "ce09c430",
   "metadata": {},
   "outputs": [
    {
     "data": {
      "text/plain": [
       "414"
      ]
     },
     "execution_count": 6,
     "metadata": {},
     "output_type": "execute_result"
    }
   ],
   "source": [
    "file.tell()        #Character present in the data"
   ]
  },
  {
   "cell_type": "code",
   "execution_count": 7,
   "id": "be280a9c",
   "metadata": {},
   "outputs": [
    {
     "data": {
      "text/plain": [
       "9"
      ]
     },
     "execution_count": 7,
     "metadata": {},
     "output_type": "execute_result"
    }
   ],
   "source": [
    "string.count(\"Python\")      #Count of python in data"
   ]
  },
  {
   "cell_type": "code",
   "execution_count": 8,
   "id": "c14a9cac",
   "metadata": {},
   "outputs": [
    {
     "name": "stdout",
     "output_type": "stream",
     "text": [
      "Python supports object-oriented programming (OOP) concepts.\n",
      "Python is a interpreted language.\n",
      "Python has a rich ecosystem of third-party libraries.\n",
      "Python is a free and open-source programming language\n",
      "Python uses indentation for code block structuring.\n",
      "Python is dynamically Typed Language\n",
      "Python supports single and double quotes for string literals.\n",
      "Python can be used for web development,machine learning and data science,etc.\n",
      "Python was created by Guido van Rossum.\n",
      "\n"
     ]
    }
   ],
   "source": [
    "print(strings)         #Printing valid features of python"
   ]
  },
  {
   "cell_type": "markdown",
   "id": "640a3e15",
   "metadata": {},
   "source": [
    "### Task2:\n",
    "\n",
    "#### Create a file 'File.txt'which expalains python handling whatever you have learnt today(creating,reading,wring and appending...etc) in detail.That reaload the saved file(i.e File.txt) to jupyter notebook"
   ]
  },
  {
   "cell_type": "code",
   "execution_count": 30,
   "id": "936dc944",
   "metadata": {},
   "outputs": [],
   "source": [
    "file1 = open(\"File.txt\",'w')   #writing a file"
   ]
  },
  {
   "cell_type": "code",
   "execution_count": 31,
   "id": "377a4641",
   "metadata": {},
   "outputs": [
    {
     "data": {
      "text/plain": [
       "239"
      ]
     },
     "execution_count": 31,
     "metadata": {},
     "output_type": "execute_result"
    }
   ],
   "source": [
    "file1.write(\"File handling is the process of storing the data in file using python programming.file will be 2 type i.e text file and binary file. in structuree we are creating a file,opening the file,writing the file,appending the file,closing the file\")"
   ]
  },
  {
   "cell_type": "code",
   "execution_count": 35,
   "id": "7b7a1255",
   "metadata": {},
   "outputs": [],
   "source": [
    "file1 = open(\"File.txt\",'r')  "
   ]
  },
  {
   "cell_type": "code",
   "execution_count": 36,
   "id": "d0da883b",
   "metadata": {},
   "outputs": [
    {
     "name": "stdout",
     "output_type": "stream",
     "text": [
      "File handling is the process of storing the data in file using python programming.file will be 2 type i.e text file and binary file. in structuree we are creating a file,opening the file,writing the file,appending the file,closing the file\n"
     ]
    }
   ],
   "source": [
    "print(file1.read())    #reading a file"
   ]
  },
  {
   "cell_type": "code",
   "execution_count": 37,
   "id": "32f3523b",
   "metadata": {},
   "outputs": [],
   "source": [
    "file1.close()"
   ]
  },
  {
   "cell_type": "code",
   "execution_count": null,
   "id": "d67d6f04",
   "metadata": {},
   "outputs": [],
   "source": []
  }
 ],
 "metadata": {
  "kernelspec": {
   "display_name": "Python 3 (ipykernel)",
   "language": "python",
   "name": "python3"
  },
  "language_info": {
   "codemirror_mode": {
    "name": "ipython",
    "version": 3
   },
   "file_extension": ".py",
   "mimetype": "text/x-python",
   "name": "python",
   "nbconvert_exporter": "python",
   "pygments_lexer": "ipython3",
   "version": "3.11.4"
  }
 },
 "nbformat": 4,
 "nbformat_minor": 5
}
