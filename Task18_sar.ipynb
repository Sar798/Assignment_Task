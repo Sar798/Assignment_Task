{
 "cells": [
  {
   "cell_type": "markdown",
   "id": "4a8fdafd",
   "metadata": {},
   "source": [
    "```use context manager```\n",
    "\n",
    "* Create a file Write a Python program that creates a text file named \"data.txt\" and add data about python programming (should contain at least 5 lines)\n",
    "\n",
    "* Read and Display File Contents Write a Python program that reads a text file named \"data.txt\" and displays its contents on the screen.\n",
    "\n",
    "* Count Words in a File Write a Python program that reads a text file named \"data.txt\" and counts the total number of words in the file. Display the word count on the screen.\n",
    "\n",
    "* Search and Replace Create a Python program that reads a text file named \"data.txt\" and asks the user to enter a word to search for. If the word is found in the file, replace all occurrences of the word with a new word provided by the user.\n",
    "\n",
    "* Append to a File Write a Python program that prompts the user to enter a sentence. Append this sentence to an existing file named \"notes.txt\". Make sure the newly added sentence starts on a new line."
   ]
  },
  {
   "cell_type": "markdown",
   "id": "8413355a",
   "metadata": {},
   "source": [
    "### Create a file Write a Python program that creates a text file named \"data.txt\" and add data about python programming (should contain at least 5 lines)"
   ]
  },
  {
   "cell_type": "code",
   "execution_count": 29,
   "id": "dd77e0ed",
   "metadata": {},
   "outputs": [],
   "source": [
    "with open('data.txt','w+') as d:\n",
    "    d.write(\"Python supports object-oriented programming (OOP) concepts\\n Python is a compiled language\\n Python has a rich ecosystem of third-party libraries\\n Python is a paid programming language\\n Python uses indentation for code block structuring\\n Python is statically Typed Language\\n Python only supports double quotes for string literals\\n Python can only be used for web development\\n Python was created by Elon Musk\\n\")"
   ]
  },
  {
   "cell_type": "markdown",
   "id": "f9f0105c",
   "metadata": {},
   "source": [
    "### Read and Display File Contents Write a Python program that reads a text file named \"data.txt\" and displays its contents on the screen."
   ]
  },
  {
   "cell_type": "code",
   "execution_count": 30,
   "id": "14867efe",
   "metadata": {},
   "outputs": [
    {
     "name": "stdout",
     "output_type": "stream",
     "text": [
      "Python supports object-oriented programming (OOP) concepts\n",
      " Python is a compiled language\n",
      " Python has a rich ecosystem of third-party libraries\n",
      " Python is a paid programming language\n",
      " Python uses indentation for code block structuring\n",
      " Python is statically Typed Language\n",
      " Python only supports double quotes for string literals\n",
      " Python can only be used for web development\n",
      " Python was created by Elon Musk\n",
      "\n"
     ]
    }
   ],
   "source": [
    "with open('data.txt','r') as d1:\n",
    "    print(d1.read())"
   ]
  },
  {
   "cell_type": "markdown",
   "id": "f6c59f6c",
   "metadata": {},
   "source": [
    "### Count Words in a File Write a Python program that reads a text file named \"data.txt\" and counts the total number of words in the file. Display the word count on the screen."
   ]
  },
  {
   "cell_type": "code",
   "execution_count": 31,
   "id": "1add80b0",
   "metadata": {},
   "outputs": [
    {
     "name": "stdout",
     "output_type": "stream",
     "text": [
      "59\n"
     ]
    }
   ],
   "source": [
    "with open('data.txt','r') as d1:\n",
    "    new = d1.read()\n",
    "    string = new.split()\n",
    "print(len(string))"
   ]
  },
  {
   "cell_type": "markdown",
   "id": "1fafc907",
   "metadata": {},
   "source": [
    "### Search and Replace Create a Python program that reads a text file named \"data.txt\" and asks the user to enter a word to search for. If the word is found in the file, replace all occurrences of the word with a new word provided by the user."
   ]
  },
  {
   "cell_type": "code",
   "execution_count": 33,
   "id": "29fc3c46",
   "metadata": {},
   "outputs": [
    {
     "name": "stdout",
     "output_type": "stream",
     "text": [
      "Enter the search word: Python\n",
      "Enter the Replace word: Raheem\n",
      "Raheem supports object-oriented programming (OOP) concepts\n",
      " Raheem is a compiled language\n",
      " Raheem has a rich ecosystem of third-party libraries\n",
      " Raheem is a paid programming language\n",
      " Raheem uses indentation for code block structuring\n",
      " Raheem is statically Typed Language\n",
      " Raheem only supports double quotes for string literals\n",
      " Raheem can only be used for web development\n",
      " Raheem was created by Elon Musk\n",
      "\n"
     ]
    }
   ],
   "source": [
    "with open('data.txt','r') as d1:\n",
    "    new = d1.read()\n",
    "search = input(\"Enter the search word: \")\n",
    "replace =input(\"Enter the Replace word: \")\n",
    "if search in new:\n",
    "    print(new.replace(search,replace))\n",
    "else:\n",
    "        print(\"Enter valid word \")\n"
   ]
  },
  {
   "cell_type": "markdown",
   "id": "4664ce10",
   "metadata": {},
   "source": [
    "### Append to a File Write a Python program that prompts the user to enter a sentence. Append this sentence to an existing file named \"notes.txt\". Make sure the newly added sentence starts on a new line."
   ]
  },
  {
   "cell_type": "code",
   "execution_count": 34,
   "id": "be3b1384",
   "metadata": {},
   "outputs": [],
   "source": [
    "with open('data.txt','a+') as d1:\n",
    "    new = d1.write(\"I am learning Data science at Innomatics research Labs Hyderabad\\n.\")"
   ]
  },
  {
   "cell_type": "code",
   "execution_count": 35,
   "id": "3117e998",
   "metadata": {},
   "outputs": [
    {
     "name": "stdout",
     "output_type": "stream",
     "text": [
      "Python supports object-oriented programming (OOP) concepts\n",
      " Python is a compiled language\n",
      " Python has a rich ecosystem of third-party libraries\n",
      " Python is a paid programming language\n",
      " Python uses indentation for code block structuring\n",
      " Python is statically Typed Language\n",
      " Python only supports double quotes for string literals\n",
      " Python can only be used for web development\n",
      " Python was created by Elon Musk\n",
      "I am learning Data science at Innomatics research Labs Hyderabad\n",
      ".\n"
     ]
    }
   ],
   "source": [
    "with open('data.txt','r') as d1:\n",
    "    print(d1.read())"
   ]
  },
  {
   "cell_type": "code",
   "execution_count": null,
   "id": "187625ad",
   "metadata": {},
   "outputs": [],
   "source": []
  }
 ],
 "metadata": {
  "kernelspec": {
   "display_name": "Python 3 (ipykernel)",
   "language": "python",
   "name": "python3"
  },
  "language_info": {
   "codemirror_mode": {
    "name": "ipython",
    "version": 3
   },
   "file_extension": ".py",
   "mimetype": "text/x-python",
   "name": "python",
   "nbconvert_exporter": "python",
   "pygments_lexer": "ipython3",
   "version": "3.11.4"
  }
 },
 "nbformat": 4,
 "nbformat_minor": 5
}
