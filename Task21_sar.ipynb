{
 "cells": [
  {
   "cell_type": "markdown",
   "id": "61e0c342",
   "metadata": {},
   "source": [
    "### A restaurant management system is a software application that helps streamline various restaurant operations and facilitates efficient management. Here are some typical attributes and methods that such a system might have:\n",
    "* Take minimum 5 attributes and atleast 4 methods\n",
    "### Attributes:\n",
    "* 1.Menu: Represents the list of food and beverage items available in the restaurant, along with their prices and categories (appetizers, main courses, desserts, etc.).\n",
    "* 2.Tables: Contains information about the restaurant's seating arrangement, including table numbers, seating capacity, and current occupancy status.\n",
    "* 3.Orders: Keeps track of customer orders, including the items ordered, quantities, table number, total amount, and order status (in progress, served, completed, etc.).\n",
    "* 4.Staff: Contains information about restaurant employees, such as waiters, chefs, managers, and their respective roles, shifts, and contact details.\n",
    "* 5.Reservations: Tracks table reservations made by customers, including reservation time, date, party size, and customer contact information.\n",
    "* 6.Payments: Stores details of transactions, including payment method, total amount, payment status, and any applicable discounts or promotions.\n",
    "### Methods:\n",
    "* 1.Display Menu: Allows restaurant staff to view and update the menu, including adding new items, modifying prices, and removing discontinued items.\n",
    "* 2.Take Order: Enables waiters to take customer orders, add items to the order, specify quantities, and send the order to the kitchen for preparation.\n",
    "* 3.Manage Table Occupancy: Tracks table availability and occupancy status, allowing staff to assign tables to customers and mark tables as occupied or vacant.\n",
    "* 4.Process Order: Allows kitchen staff to view incoming orders, mark items as prepared, and inform the waiters when the order is ready for serving.\n",
    "* 5.Manage Reservations: Facilitates the process of making, modifying, and canceling table reservations based on customer requests and availability.\n",
    "* 6.Generate Bills: Calculates the total bill amount for each table based on the items ordered, applicable taxes, and any additional charges."
   ]
  },
  {
   "cell_type": "code",
   "execution_count": 26,
   "id": "1a496f70",
   "metadata": {},
   "outputs": [],
   "source": [
    "class menu:\n",
    "    '''please select your order from menu'''\n",
    "    def __init__(self,name,price,category):\n",
    "        self.name = name\n",
    "        self.category = category\n",
    "        self.price = price"
   ]
  },
  {
   "cell_type": "code",
   "execution_count": 27,
   "id": "2c12c0ad",
   "metadata": {},
   "outputs": [],
   "source": [
    "class table:\n",
    "    def __init__(self,tableno,seatingcapacity):\n",
    "        self.tableno = tableno\n",
    "        self.seatingcapacity = seatingcapacity"
   ]
  },
  {
   "cell_type": "code",
   "execution_count": 28,
   "id": "44fcdd56",
   "metadata": {},
   "outputs": [],
   "source": [
    "class orders:\n",
    "    def __init__(self,items,quantity,table_number,total_amount,order_status):\n",
    "        self.items = items\n",
    "        self.quantity= quantity\n",
    "        self.table_number = table_number\n",
    "        self.total_amount = total_amount\n",
    "        self.order_status = order_status"
   ]
  },
  {
   "cell_type": "code",
   "execution_count": 29,
   "id": "77d97ecc",
   "metadata": {},
   "outputs": [],
   "source": [
    "class staff:\n",
    "    def __init__(self,name,position,contact):\n",
    "        self.name=name\n",
    "        self.position=position\n",
    "        self.contact=contact"
   ]
  },
  {
   "cell_type": "code",
   "execution_count": 30,
   "id": "933f3e7f",
   "metadata": {},
   "outputs": [],
   "source": [
    "class reservation:\n",
    "    def __init__(self,name,reservation_time,date,party_size,contact_info):\n",
    "        self.name = name\n",
    "        self.reservation_time=reservation_time\n",
    "        self.date=date\n",
    "        self.party_size=party_size\n",
    "        self.contact_info=contact_info"
   ]
  },
  {
   "cell_type": "code",
   "execution_count": 31,
   "id": "188671fc",
   "metadata": {},
   "outputs": [],
   "source": [
    "class payments:\n",
    "    def __init__(self,paymentmethod,paymentmode,totalamount,paymentstatus):\n",
    "        self.paymentmethod=paymentmethod\n",
    "        self.paymentmode=paymentmode\n",
    "        self.totalamount=totalamount\n",
    "        self.paymentstatus=paymentstatus"
   ]
  },
  {
   "cell_type": "code",
   "execution_count": 32,
   "id": "520a60b6",
   "metadata": {},
   "outputs": [],
   "source": [
    "menu1=menu(\"idly\",\"tiffin\",30)\n",
    "menu2=menu(\"nahari\",\"breakfast\",100)\n",
    "menu3=menu(\"biriyani\",\"main_course\",150)\n",
    "menu4=menu(\"tahari\",\"main_course\",100)\n",
    "menu5=menu(\"mozito\",\"beverage\",50)\n",
    "\n",
    "table1=table(1,5)\n",
    "\n",
    "staff1=staff(\"Adnan\",\"manager\",\"adnan@gmail.com\")\n",
    "staff2=staff(\"mansoor\",\"waiter\",\"mansoor@gmail.com\")\n",
    "staff3=staff(\"satish\",\"cleaner\",\"satish@gmail.com\")\n",
    "staff4=staff(\"kinchiwa\",\"chef\",\"kinchiwa@gmail.com\")\n",
    "\n",
    "reserve1 =reservation(\"Mansoor\",\"9:30 pm\",\"6-oct-2023\",4,\"sk@gmail.com\")\n",
    "reserve2 =reservation(\"Adnan\",\"10:30 pm\",\"10-nov-2023\",3,\"srk@gmail.com\")\n",
    "reserve3 =reservation(\"Raheem\",\"11:30 pm\",\"31-dec-2023\",2,\"sar@gmail.com\")\n",
    "\n",
    "payment1=payments(\"Cash\",\"cash\",2000,\"sucess\")\n",
    "payment2=payments(\"debit card\",\"card\",3000,\"sucess\")\n",
    "payment3=payments(\"Gpay\",\"online\",5000,\"Fail\")"
   ]
  },
  {
   "cell_type": "code",
   "execution_count": 36,
   "id": "53160daa",
   "metadata": {},
   "outputs": [
    {
     "data": {
      "text/plain": [
       "'idly'"
      ]
     },
     "execution_count": 36,
     "metadata": {},
     "output_type": "execute_result"
    }
   ],
   "source": [
    "menu1.name"
   ]
  },
  {
   "cell_type": "code",
   "execution_count": 38,
   "id": "984fecdb",
   "metadata": {},
   "outputs": [
    {
     "data": {
      "text/plain": [
       "'adnan@gmail.com'"
      ]
     },
     "execution_count": 38,
     "metadata": {},
     "output_type": "execute_result"
    }
   ],
   "source": [
    "staff1.contact"
   ]
  },
  {
   "cell_type": "code",
   "execution_count": 39,
   "id": "ae6de4be",
   "metadata": {},
   "outputs": [
    {
     "data": {
      "text/plain": [
       "'mansoor'"
      ]
     },
     "execution_count": 39,
     "metadata": {},
     "output_type": "execute_result"
    }
   ],
   "source": [
    "staff2.name"
   ]
  },
  {
   "cell_type": "code",
   "execution_count": 40,
   "id": "aeb954c7",
   "metadata": {},
   "outputs": [
    {
     "data": {
      "text/plain": [
       "'cleaner'"
      ]
     },
     "execution_count": 40,
     "metadata": {},
     "output_type": "execute_result"
    }
   ],
   "source": [
    "staff3.position"
   ]
  },
  {
   "cell_type": "code",
   "execution_count": 41,
   "id": "899a0039",
   "metadata": {},
   "outputs": [
    {
     "data": {
      "text/plain": [
       "5"
      ]
     },
     "execution_count": 41,
     "metadata": {},
     "output_type": "execute_result"
    }
   ],
   "source": [
    "table1.seatingcapacity"
   ]
  },
  {
   "cell_type": "code",
   "execution_count": 42,
   "id": "3a36c3ea",
   "metadata": {},
   "outputs": [
    {
     "data": {
      "text/plain": [
       "1"
      ]
     },
     "execution_count": 42,
     "metadata": {},
     "output_type": "execute_result"
    }
   ],
   "source": [
    "table1.tableno"
   ]
  },
  {
   "cell_type": "code",
   "execution_count": 43,
   "id": "29a0280c",
   "metadata": {},
   "outputs": [
    {
     "data": {
      "text/plain": [
       "'sk@gmail.com'"
      ]
     },
     "execution_count": 43,
     "metadata": {},
     "output_type": "execute_result"
    }
   ],
   "source": [
    "reserve1.contact_info"
   ]
  },
  {
   "cell_type": "code",
   "execution_count": 44,
   "id": "92e61faa",
   "metadata": {},
   "outputs": [
    {
     "data": {
      "text/plain": [
       "3"
      ]
     },
     "execution_count": 44,
     "metadata": {},
     "output_type": "execute_result"
    }
   ],
   "source": [
    "reserve2.party_size"
   ]
  },
  {
   "cell_type": "code",
   "execution_count": 45,
   "id": "e6ae1d1c",
   "metadata": {},
   "outputs": [
    {
     "data": {
      "text/plain": [
       "'31-dec-2023'"
      ]
     },
     "execution_count": 45,
     "metadata": {},
     "output_type": "execute_result"
    }
   ],
   "source": [
    "reserve3.date"
   ]
  },
  {
   "cell_type": "code",
   "execution_count": 46,
   "id": "1ebb1ecd",
   "metadata": {},
   "outputs": [
    {
     "data": {
      "text/plain": [
       "'Mansoor'"
      ]
     },
     "execution_count": 46,
     "metadata": {},
     "output_type": "execute_result"
    }
   ],
   "source": [
    "reserve1.name"
   ]
  },
  {
   "cell_type": "code",
   "execution_count": 47,
   "id": "d92b886e",
   "metadata": {},
   "outputs": [
    {
     "data": {
      "text/plain": [
       "'10:30 pm'"
      ]
     },
     "execution_count": 47,
     "metadata": {},
     "output_type": "execute_result"
    }
   ],
   "source": [
    "reserve2.reservation_time"
   ]
  },
  {
   "cell_type": "code",
   "execution_count": 48,
   "id": "12cdb78d",
   "metadata": {},
   "outputs": [
    {
     "data": {
      "text/plain": [
       "'Cash'"
      ]
     },
     "execution_count": 48,
     "metadata": {},
     "output_type": "execute_result"
    }
   ],
   "source": [
    "payment1.paymentmethod"
   ]
  },
  {
   "cell_type": "code",
   "execution_count": 49,
   "id": "367aa5d9",
   "metadata": {},
   "outputs": [
    {
     "data": {
      "text/plain": [
       "'card'"
      ]
     },
     "execution_count": 49,
     "metadata": {},
     "output_type": "execute_result"
    }
   ],
   "source": [
    "payment2.paymentmode"
   ]
  },
  {
   "cell_type": "code",
   "execution_count": 50,
   "id": "bbaea84a",
   "metadata": {},
   "outputs": [
    {
     "data": {
      "text/plain": [
       "'Fail'"
      ]
     },
     "execution_count": 50,
     "metadata": {},
     "output_type": "execute_result"
    }
   ],
   "source": [
    "payment3.paymentstatus"
   ]
  },
  {
   "cell_type": "code",
   "execution_count": 51,
   "id": "075b0da7",
   "metadata": {},
   "outputs": [
    {
     "data": {
      "text/plain": [
       "2000"
      ]
     },
     "execution_count": 51,
     "metadata": {},
     "output_type": "execute_result"
    }
   ],
   "source": [
    "payment1.totalamount"
   ]
  },
  {
   "cell_type": "code",
   "execution_count": null,
   "id": "a9058547",
   "metadata": {},
   "outputs": [],
   "source": []
  }
 ],
 "metadata": {
  "kernelspec": {
   "display_name": "Python 3 (ipykernel)",
   "language": "python",
   "name": "python3"
  },
  "language_info": {
   "codemirror_mode": {
    "name": "ipython",
    "version": 3
   },
   "file_extension": ".py",
   "mimetype": "text/x-python",
   "name": "python",
   "nbconvert_exporter": "python",
   "pygments_lexer": "ipython3",
   "version": "3.11.4"
  }
 },
 "nbformat": 4,
 "nbformat_minor": 5
}
