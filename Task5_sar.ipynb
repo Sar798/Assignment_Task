{
 "cells": [
  {
   "cell_type": "markdown",
   "id": "f9cca2f0",
   "metadata": {},
   "source": [
    "**Task1: Append and Modify Elements**\n",
    "    \n",
    "* Create an empty list called numbers. Append the numbers 1, 2, and 3 to the list.\n",
    "* Modify the element at index 1 to be 4.\n",
    "* Print the updated list.\n",
    "\n",
    "**Task2: Slicing and Concatenation**\n",
    "\n",
    "* Create a list called fruits with elements 'apple', 'banana', 'orange', 'mango', and 'kiwi'. \n",
    "* Create a new list  by slicing fruits to include only the citrus fruits ('orange' and 'mango\"). * Create a new list called tropical by slicing fruits to include only the tropical fruits ('banana\" and \"kiwi'). \n",
    "* Concatenate citrus and tropical lists to create a new list called combined. Print combined.\n",
    "\n",
    "**Task3: Counting and Removing Elements**\n",
    "\n",
    "* Create a list called colors with repeated elements 'red', 'blue', 'red', 'green', 'red'. Print the number of occurrences of 'red' in the list. Remove all occurrences of 'red' from the list. Print the updated list.\n",
    "\n",
    "**Task 4: List Manipulation**\n",
    "\n",
    "* Add 'cheese' to the end of the list. Remove 'milk' from the list.\n",
    "* Create a list called groceries with initial items: 'bread', 'milk', 'eggs', 'butter'. Print the final list of groceries.\n",
    "* Insert 'yogurt' at index 1\n",
    "\n"
   ]
  },
  {
   "cell_type": "markdown",
   "id": "7077cf1a",
   "metadata": {},
   "source": [
    "## Task1: Append and Modify Elements\n",
    "\n",
    "#### Create an empty list called numbers. Append the numbers 1, 2, and 3 to the list.\n",
    "#### Modify the element at index 1 to be 4.\n",
    "#### Print the updated list."
   ]
  },
  {
   "cell_type": "code",
   "execution_count": 7,
   "id": "13fcfbe8",
   "metadata": {},
   "outputs": [],
   "source": [
    "num= list()"
   ]
  },
  {
   "cell_type": "code",
   "execution_count": 9,
   "id": "7f0c6ba8",
   "metadata": {},
   "outputs": [
    {
     "data": {
      "text/plain": [
       "list"
      ]
     },
     "execution_count": 9,
     "metadata": {},
     "output_type": "execute_result"
    }
   ],
   "source": [
    "type(num)"
   ]
  },
  {
   "cell_type": "code",
   "execution_count": 10,
   "id": "005d7840",
   "metadata": {},
   "outputs": [
    {
     "data": {
      "text/plain": [
       "[1, 2, 3]"
      ]
     },
     "execution_count": 10,
     "metadata": {},
     "output_type": "execute_result"
    }
   ],
   "source": [
    "num.append(1)\n",
    "num.append(2)\n",
    "num.append(3)\n",
    "num"
   ]
  },
  {
   "cell_type": "code",
   "execution_count": 11,
   "id": "f3b51722",
   "metadata": {},
   "outputs": [],
   "source": [
    "num[1]=4"
   ]
  },
  {
   "cell_type": "code",
   "execution_count": 12,
   "id": "1adbd7eb",
   "metadata": {},
   "outputs": [
    {
     "data": {
      "text/plain": [
       "[1, 4, 3]"
      ]
     },
     "execution_count": 12,
     "metadata": {},
     "output_type": "execute_result"
    }
   ],
   "source": [
    "num"
   ]
  },
  {
   "cell_type": "markdown",
   "id": "34cdb42e",
   "metadata": {},
   "source": [
    "### Task2: Slicing and Concatenation\n",
    "\n",
    "####  Create a list called fruits with elements 'apple', 'banana', 'orange', 'mango', and 'kiwi'.\n",
    "####  Create a new list by slicing fruits to include only the citrus fruits ('orange' and 'mango\"). * Create a new list called tropical by slicing fruits to include only the tropical fruits ('banana\" and \"kiwi').\n",
    "####  Concatenate citrus and tropical lists to create a new list called combined. Print combined."
   ]
  },
  {
   "cell_type": "code",
   "execution_count": 14,
   "id": "3b233170",
   "metadata": {},
   "outputs": [],
   "source": [
    "fruits =['apple', 'banana', 'orange', 'mango','kiwi']"
   ]
  },
  {
   "cell_type": "code",
   "execution_count": 16,
   "id": "926e0944",
   "metadata": {},
   "outputs": [
    {
     "data": {
      "text/plain": [
       "['banana', 'orange']"
      ]
     },
     "execution_count": 16,
     "metadata": {},
     "output_type": "execute_result"
    }
   ],
   "source": [
    "citrus_fruits= list(fruits[1:3])\n",
    "citrus_fruits"
   ]
  },
  {
   "cell_type": "code",
   "execution_count": 17,
   "id": "6d13a5bd",
   "metadata": {},
   "outputs": [],
   "source": [
    "tropical= list(fruits[1:5:3])"
   ]
  },
  {
   "cell_type": "code",
   "execution_count": 18,
   "id": "aa4cd877",
   "metadata": {},
   "outputs": [
    {
     "data": {
      "text/plain": [
       "['banana', 'kiwi']"
      ]
     },
     "execution_count": 18,
     "metadata": {},
     "output_type": "execute_result"
    }
   ],
   "source": [
    "tropical"
   ]
  },
  {
   "cell_type": "code",
   "execution_count": 19,
   "id": "c27775b4",
   "metadata": {},
   "outputs": [
    {
     "data": {
      "text/plain": [
       "['banana', 'orange', 'banana', 'kiwi']"
      ]
     },
     "execution_count": 19,
     "metadata": {},
     "output_type": "execute_result"
    }
   ],
   "source": [
    "combined= citrus_fruits+tropical\n",
    "combined"
   ]
  },
  {
   "cell_type": "markdown",
   "id": "ede248a2",
   "metadata": {},
   "source": [
    "## Task3: Counting and Removing Elements**\n",
    "\n",
    "####  Create a list called colors with repeated elements 'red', 'blue', 'red', 'green', 'red'. Print the number of occurrences of 'red' in the list. Remove all occurrences of 'red' from the list. Print the updated list."
   ]
  },
  {
   "cell_type": "code",
   "execution_count": 20,
   "id": "7e8a2a7d",
   "metadata": {},
   "outputs": [],
   "source": [
    "colors = ['red', 'blue', 'red', 'green', 'red']"
   ]
  },
  {
   "cell_type": "code",
   "execution_count": 22,
   "id": "ce6bafe8",
   "metadata": {},
   "outputs": [
    {
     "data": {
      "text/plain": [
       "3"
      ]
     },
     "execution_count": 22,
     "metadata": {},
     "output_type": "execute_result"
    }
   ],
   "source": [
    "colors.count('red')"
   ]
  },
  {
   "cell_type": "code",
   "execution_count": 23,
   "id": "1abac026",
   "metadata": {},
   "outputs": [],
   "source": [
    "colors.remove('red')"
   ]
  },
  {
   "cell_type": "code",
   "execution_count": 24,
   "id": "15e48fa0",
   "metadata": {},
   "outputs": [
    {
     "data": {
      "text/plain": [
       "['blue', 'red', 'green', 'red']"
      ]
     },
     "execution_count": 24,
     "metadata": {},
     "output_type": "execute_result"
    }
   ],
   "source": [
    "colors"
   ]
  },
  {
   "cell_type": "code",
   "execution_count": 26,
   "id": "8a530c8d",
   "metadata": {},
   "outputs": [
    {
     "data": {
      "text/plain": [
       "'red'"
      ]
     },
     "execution_count": 26,
     "metadata": {},
     "output_type": "execute_result"
    }
   ],
   "source": [
    "colors.pop(1)"
   ]
  },
  {
   "cell_type": "code",
   "execution_count": 27,
   "id": "508f3920",
   "metadata": {},
   "outputs": [
    {
     "data": {
      "text/plain": [
       "['blue', 'green', 'red']"
      ]
     },
     "execution_count": 27,
     "metadata": {},
     "output_type": "execute_result"
    }
   ],
   "source": [
    "colors"
   ]
  },
  {
   "cell_type": "code",
   "execution_count": 28,
   "id": "ab0e5c87",
   "metadata": {},
   "outputs": [
    {
     "data": {
      "text/plain": [
       "'red'"
      ]
     },
     "execution_count": 28,
     "metadata": {},
     "output_type": "execute_result"
    }
   ],
   "source": [
    "colors.pop(2)"
   ]
  },
  {
   "cell_type": "code",
   "execution_count": 29,
   "id": "cc479885",
   "metadata": {},
   "outputs": [
    {
     "data": {
      "text/plain": [
       "['blue', 'green']"
      ]
     },
     "execution_count": 29,
     "metadata": {},
     "output_type": "execute_result"
    }
   ],
   "source": [
    "colors"
   ]
  },
  {
   "cell_type": "markdown",
   "id": "d4a2920f",
   "metadata": {},
   "source": [
    "## Task 4: List Manipulation\n",
    "\n",
    "####  Add 'cheese' to the end of the list. Remove 'milk' from the list.\n",
    "####  Create a list called groceries with initial items: 'bread', 'milk', 'eggs', 'butter'. Print the final list of groceries.\n",
    "####  Insert 'yogurt' at index 1."
   ]
  },
  {
   "cell_type": "code",
   "execution_count": 30,
   "id": "b19404e0",
   "metadata": {},
   "outputs": [],
   "source": [
    "groceries = ['bread', 'milk', 'eggs', 'butter']"
   ]
  },
  {
   "cell_type": "code",
   "execution_count": 35,
   "id": "af0fa35d",
   "metadata": {},
   "outputs": [],
   "source": [
    "groceries.append(\"cheese\")"
   ]
  },
  {
   "cell_type": "code",
   "execution_count": 36,
   "id": "90401649",
   "metadata": {},
   "outputs": [
    {
     "data": {
      "text/plain": [
       "['bread', 'milk', 'eggs', 'butter', 'cheese']"
      ]
     },
     "execution_count": 36,
     "metadata": {},
     "output_type": "execute_result"
    }
   ],
   "source": [
    "groceries"
   ]
  },
  {
   "cell_type": "code",
   "execution_count": 37,
   "id": "ee4a8a24",
   "metadata": {},
   "outputs": [
    {
     "data": {
      "text/plain": [
       "'milk'"
      ]
     },
     "execution_count": 37,
     "metadata": {},
     "output_type": "execute_result"
    }
   ],
   "source": [
    "groceries.pop(1)"
   ]
  },
  {
   "cell_type": "code",
   "execution_count": 38,
   "id": "ea7e3230",
   "metadata": {},
   "outputs": [
    {
     "data": {
      "text/plain": [
       "['bread', 'eggs', 'butter', 'cheese']"
      ]
     },
     "execution_count": 38,
     "metadata": {},
     "output_type": "execute_result"
    }
   ],
   "source": [
    "groceries"
   ]
  },
  {
   "cell_type": "code",
   "execution_count": 42,
   "id": "f8455ec4",
   "metadata": {},
   "outputs": [
    {
     "data": {
      "text/plain": [
       "['bread', 'yogurt', 'eggs', 'butter', 'cheese']"
      ]
     },
     "execution_count": 42,
     "metadata": {},
     "output_type": "execute_result"
    }
   ],
   "source": [
    "groceries.insert(1, \"yogurt\")\n",
    "groceries"
   ]
  },
  {
   "cell_type": "code",
   "execution_count": null,
   "id": "1c827ab4",
   "metadata": {},
   "outputs": [],
   "source": []
  }
 ],
 "metadata": {
  "kernelspec": {
   "display_name": "Python 3 (ipykernel)",
   "language": "python",
   "name": "python3"
  },
  "language_info": {
   "codemirror_mode": {
    "name": "ipython",
    "version": 3
   },
   "file_extension": ".py",
   "mimetype": "text/x-python",
   "name": "python",
   "nbconvert_exporter": "python",
   "pygments_lexer": "ipython3",
   "version": "3.11.4"
  }
 },
 "nbformat": 4,
 "nbformat_minor": 5
}
