{
 "cells": [
  {
   "cell_type": "markdown",
   "id": "f02dc341",
   "metadata": {},
   "source": [
    "#### Print Numbers from 1 to N: Write a Python program that uses a for loop to print all numbers from 1 to N and substract 5from each number.where N is a positive integer entered by the user.\n",
    "\n",
    "#### Calculate the Sum of Numbers from 1 to N: Write a Python program that calculates and prints the sum of all numbers from 1 to N, where N is a positive integer entered by the user, using a for loop.\n",
    "\n",
    "#### Print Even Numbers: Write a Python program that prints all even numbers from 50 to 100 using a for loop.\n",
    "\n",
    "#### Reverse a String: Write a Python program that takes a string as input and uses a for loop to print the characters of the string in reverse order.\n",
    "\n",
    "#### Count Vowels in a String: name = \"innomatics research labs\" Write a Python program uses a for loop to count the number of vowels (a, e, i, o, u) in the string. Ignore case sensitivity.\n",
    "\n",
    "#### Generate a Multiplication Table: Write a Python program that generates and prints the multiplication table for 6."
   ]
  },
  {
   "cell_type": "markdown",
   "id": "e5e0e822",
   "metadata": {},
   "source": [
    "#### Print Numbers from 1 to N: Write a Python program that uses a for loop to print all numbers from 1 to N and substract 5from each number.where N is a positive integer entered by the user."
   ]
  },
  {
   "cell_type": "code",
   "execution_count": 7,
   "id": "e193aaf8",
   "metadata": {},
   "outputs": [
    {
     "name": "stdout",
     "output_type": "stream",
     "text": [
      "Enter a number: 5\n",
      "-4\n",
      "-3\n",
      "-2\n",
      "-1\n"
     ]
    }
   ],
   "source": [
    "n = int(input(\"Enter a number: \"))\n",
    "for i in range(1, n):\n",
    "    print(i - 5)"
   ]
  },
  {
   "cell_type": "markdown",
   "id": "7fe41336",
   "metadata": {},
   "source": [
    "#### Calculate the Sum of Numbers from 1 to N: Write a Python program that calculates and prints the sum of all numbers from 1 to N, where N is a positive integer entered by the user, using a for loop."
   ]
  },
  {
   "cell_type": "code",
   "execution_count": 5,
   "id": "186c07de",
   "metadata": {},
   "outputs": [
    {
     "name": "stdout",
     "output_type": "stream",
     "text": [
      "Enter a number: 5\n"
     ]
    }
   ],
   "source": [
    "n = int(input(\"Enter a number: \"))\n",
    "total=0\n",
    "for i in range(1,n):\n",
    "    total = total + i"
   ]
  },
  {
   "cell_type": "code",
   "execution_count": 6,
   "id": "e2c5d6ae",
   "metadata": {},
   "outputs": [
    {
     "name": "stdout",
     "output_type": "stream",
     "text": [
      "10\n"
     ]
    }
   ],
   "source": [
    "print(total)"
   ]
  },
  {
   "cell_type": "markdown",
   "id": "7e834f8c",
   "metadata": {},
   "source": [
    "#### Print Even Numbers: Write a Python program that prints all even numbers from 50 to 100 using a for loop."
   ]
  },
  {
   "cell_type": "code",
   "execution_count": 8,
   "id": "f1eed9f9",
   "metadata": {},
   "outputs": [
    {
     "name": "stdout",
     "output_type": "stream",
     "text": [
      "50\n",
      "52\n",
      "54\n",
      "56\n",
      "58\n",
      "60\n",
      "62\n",
      "64\n",
      "66\n",
      "68\n",
      "70\n",
      "72\n",
      "74\n",
      "76\n",
      "78\n",
      "80\n",
      "82\n",
      "84\n",
      "86\n",
      "88\n",
      "90\n",
      "92\n",
      "94\n",
      "96\n",
      "98\n"
     ]
    }
   ],
   "source": [
    "for i in range(50,100) :\n",
    "    if (i%2==0):\n",
    "        print(i)"
   ]
  },
  {
   "cell_type": "markdown",
   "id": "edd2be75",
   "metadata": {},
   "source": [
    "#### Reverse a String: Write a Python program that takes a string as input and uses a for loop to print the characters of the string in reverse order."
   ]
  },
  {
   "cell_type": "code",
   "execution_count": 12,
   "id": "729a6442",
   "metadata": {},
   "outputs": [
    {
     "name": "stdout",
     "output_type": "stream",
     "text": [
      "Enter A String: Raheem\n",
      "m\n",
      "e\n",
      "e\n",
      "h\n",
      "a\n",
      "R\n"
     ]
    }
   ],
   "source": [
    "str = input(\"Enter A String: \")\n",
    "for i in str[: :-1]:\n",
    "    print(i)"
   ]
  },
  {
   "cell_type": "markdown",
   "id": "95c6c103",
   "metadata": {},
   "source": [
    "#### Generate a Multiplication Table: Write a Python program that generates and prints the multiplication table for 6."
   ]
  },
  {
   "cell_type": "code",
   "execution_count": 26,
   "id": "185f24a9",
   "metadata": {},
   "outputs": [
    {
     "name": "stdout",
     "output_type": "stream",
     "text": [
      "Enter A Mul Number: 10\n",
      "6\n",
      "12\n",
      "18\n",
      "24\n",
      "30\n",
      "36\n",
      "42\n",
      "48\n",
      "54\n",
      "60\n"
     ]
    }
   ],
   "source": [
    "tab= 6\n",
    "n = int(input(\"Enter A Mul Number: \"))\n",
    "for i in range(1,n+1):\n",
    "    mul= i * tab\n",
    "    print(mul)   #firstmethod"
   ]
  },
  {
   "cell_type": "code",
   "execution_count": 32,
   "id": "d5e0bbec",
   "metadata": {},
   "outputs": [
    {
     "name": "stdout",
     "output_type": "stream",
     "text": [
      "Enter A Mul Number: 10\n",
      "6 * 1 = 6\n",
      "6 * 2 = 12\n",
      "6 * 3 = 18\n",
      "6 * 4 = 24\n",
      "6 * 5 = 30\n",
      "6 * 6 = 36\n",
      "6 * 7 = 42\n",
      "6 * 8 = 48\n",
      "6 * 9 = 54\n",
      "6 * 10 = 60\n"
     ]
    }
   ],
   "source": [
    "#second method\n",
    "tab= 6\n",
    "n = int(input(\"Enter A Mul Number: \"))\n",
    "for i in range(1,n+1):\n",
    "    mul = i * tab\n",
    "    print(f\"{tab} * {i} = {mul}\")"
   ]
  },
  {
   "cell_type": "markdown",
   "id": "2de17f2f",
   "metadata": {},
   "source": [
    "#### Count Vowels in a String: name = \"innomatics research labs\" Write a Python program uses a for loop to count the number of vowels (a, e, i, o, u) in the string. Ignore case sensitivity."
   ]
  },
  {
   "cell_type": "code",
   "execution_count": 37,
   "id": "063db167",
   "metadata": {},
   "outputs": [
    {
     "name": "stdout",
     "output_type": "stream",
     "text": [
      "['i', 'o', 'a', 'i', 'e', 'e', 'a', 'a']\n",
      "8\n"
     ]
    }
   ],
   "source": [
    "name = \"innomatics research labs\"\n",
    "vowels = []\n",
    "for i in name:\n",
    "    if i in [\"a\",\"e\",\"i\",\"o\",\"u\"]:\n",
    "        vowels.append(i)\n",
    "print(vowels)\n",
    "print(len(vowels))"
   ]
  },
  {
   "cell_type": "code",
   "execution_count": null,
   "id": "d411c27d",
   "metadata": {},
   "outputs": [],
   "source": []
  }
 ],
 "metadata": {
  "kernelspec": {
   "display_name": "Python 3 (ipykernel)",
   "language": "python",
   "name": "python3"
  },
  "language_info": {
   "codemirror_mode": {
    "name": "ipython",
    "version": 3
   },
   "file_extension": ".py",
   "mimetype": "text/x-python",
   "name": "python",
   "nbconvert_exporter": "python",
   "pygments_lexer": "ipython3",
   "version": "3.11.4"
  }
 },
 "nbformat": 4,
 "nbformat_minor": 5
}
