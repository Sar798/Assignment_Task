{
 "cells": [
  {
   "cell_type": "markdown",
   "id": "93bd8d16",
   "metadata": {},
   "source": [
    "* Task 1: Leap Year Checker\n",
    "\n",
    "Write a program that takes a year as input and determines whether it is a leap year or not. A leap year is a year that is divisible by 4, but not divisible by 100, unless it is also divisible by 400. Display an appropriate message indicating whether the year is a leap year or not.\n",
    "\n",
    "* Task 2: Grade Calculator\n",
    "\n",
    "Write a program that takes a student's score as input (out of 100) and determines their grade based on the following conditions: If the score is 90 or above, the grade is 'A'. If the score is between 80 and 89, the grade is 'B'. If the score is between 70 and 79, the grade is 'C'. If the score is between 60 and 69, the grade is 'D'. If the score is below 60, the grade is 'F'. Display the grade corresponding to the entered score.\n",
    "\n",
    "* Task 3: Calculator Write a program that takes two numbers as input and performs a mathematical operation (+, -, *, /) based on the user's choice. Use a conditional statement to determine the operation to be performed. Display the result of the calculation.\n",
    "\n",
    "* Task 4: Reverse String Write a Python function to reverse a string.\n",
    "\n",
    "* Task 5: Palindrome Write a Python function that checks whether a passed string is a palindrome or not.\n",
    "\n",
    "* Task 6: Counting Write a Python function that accepts a string and counts the number of upper and lower case letters."
   ]
  },
  {
   "cell_type": "code",
   "execution_count": 4,
   "id": "5c37007d",
   "metadata": {},
   "outputs": [
    {
     "name": "stdout",
     "output_type": "stream",
     "text": [
      "Enter a year: 2020\n",
      "Its not a leap year\n"
     ]
    }
   ],
   "source": [
    "y = int(input(\"Enter a year: \"))\n",
    "\n",
    "def leapyear(y):\n",
    "    if y%4 ==0 and y%400 ==0 and y%100 ==0:\n",
    "        print(\"Its a Leap year\")\n",
    "    else:\n",
    "        print(\"Its not a leap year\")\n",
    "leapyear(y)        "
   ]
  },
  {
   "cell_type": "code",
   "execution_count": 9,
   "id": "ce20a12a",
   "metadata": {},
   "outputs": [
    {
     "name": "stdout",
     "output_type": "stream",
     "text": [
      "Enter the students score: 50\n",
      "Grade F\n"
     ]
    }
   ],
   "source": [
    "def grade(n):\n",
    "    if (score>=90):\n",
    "        print(\"Grade A\")\n",
    "    elif (score>=80) and (score<=89):\n",
    "        print(\"Grade B\")    \n",
    "    elif (score>=70) and (score<=79):\n",
    "        print(\"Grade C\")\n",
    "    elif (score>=60) and (score<=69):\n",
    "        print(\"Grade D\")\n",
    "    elif (score < 0) or (score > 100):\n",
    "         print(\"it is not valid score\") \n",
    "    else:\n",
    "         print(\"Grade F\")\n",
    "score = int(input(\"Enter the students score: \"))\n",
    "grade(n)"
   ]
  },
  {
   "cell_type": "code",
   "execution_count": 11,
   "id": "00332947",
   "metadata": {},
   "outputs": [
    {
     "name": "stdout",
     "output_type": "stream",
     "text": [
      "Enter a number a: 5\n",
      "Enter a number b: 6\n",
      " + addition, - subtraction, * multiplication, / division*\n",
      "30 is multiplication of two numbers\n"
     ]
    }
   ],
   "source": [
    "a = int(input(\"Enter a number a: \"))\n",
    "b = int(input(\"Enter a number b: \"))\n",
    "\n",
    "operation = input(\"\"\" + addition, - subtraction, * multiplication, / division\"\"\")\n",
    "\n",
    "if (operation == '+'):\n",
    "    print(a+b,\"is addition of two numbers\")\n",
    "    \n",
    "elif (operation == '-'):\n",
    "    print(a-b,\"is subtraction of two numbers\")\n",
    "    \n",
    "elif (operation == '*'):\n",
    "    print(a*b,\"is multiplication of two numbers\")\n",
    "    \n",
    "elif (operation == '/'):\n",
    "    print(a/b,\"is division of two numbers\")\n",
    "    \n",
    "else:\n",
    "    print(\"enter a valid operator\")"
   ]
  },
  {
   "cell_type": "code",
   "execution_count": 17,
   "id": "4aeb2cb7",
   "metadata": {},
   "outputs": [
    {
     "name": "stdout",
     "output_type": "stream",
     "text": [
      "enter a name: Raheem'\n"
     ]
    },
    {
     "data": {
      "text/plain": [
       "\"'meehaR\""
      ]
     },
     "execution_count": 17,
     "metadata": {},
     "output_type": "execute_result"
    }
   ],
   "source": [
    "def string(name):\n",
    "    return name[-1: :-1]\n",
    "\n",
    "rev = input(\"enter a name: \")\n",
    "string(rev)"
   ]
  },
  {
   "cell_type": "code",
   "execution_count": 20,
   "id": "547c5e3c",
   "metadata": {},
   "outputs": [
    {
     "name": "stdout",
     "output_type": "stream",
     "text": [
      "enter a string: madam\n",
      "It is a plaindrome\n"
     ]
    }
   ],
   "source": [
    "def palindrome(name):\n",
    "    \n",
    "    while name:\n",
    "        \n",
    "        if name == name[-1: :-1]:\n",
    "            print(\"It is a plaindrome\")\n",
    "            break\n",
    "            \n",
    "        else:\n",
    "            print(\"It is not a palindrome\")\n",
    "            break\n",
    "            \n",
    "name = input(\"enter a string: \")\n",
    "palindrome(name)"
   ]
  },
  {
   "cell_type": "code",
   "execution_count": 3,
   "id": "aa54145a",
   "metadata": {},
   "outputs": [
    {
     "name": "stdout",
     "output_type": "stream",
     "text": [
      "Enter a string: RaHeEm\n",
      "['R', 'H', 'E']\n",
      "['a', 'e', 'm']\n",
      "Number of upper case letters are::  3\n",
      "Number of lower case letters are::  3\n"
     ]
    }
   ],
   "source": [
    "string = input(\"Enter a string: \")\n",
    "Upper=[]\n",
    "Lower=[]\n",
    "\n",
    "def count(string):\n",
    "    \n",
    "    upper = [chr(65+i) for i in range(0,26)]\n",
    "    lower = [chr(97+i) for i in range(0,26)]\n",
    "    \n",
    "    for i in string:\n",
    "        if i in upper:\n",
    "            Upper.append(i)\n",
    "        else :\n",
    "            Lower.append(i)\n",
    "            \n",
    "    print(Upper)\n",
    "    print(Lower)\n",
    "    print(\"Number of upper case letters are:: \", len(Upper))\n",
    "    print(\"Number of lower case letters are:: \", len(Lower))\n",
    "count(string)\n",
    "            "
   ]
  },
  {
   "cell_type": "code",
   "execution_count": null,
   "id": "8628804c",
   "metadata": {},
   "outputs": [],
   "source": []
  }
 ],
 "metadata": {
  "kernelspec": {
   "display_name": "Python 3 (ipykernel)",
   "language": "python",
   "name": "python3"
  },
  "language_info": {
   "codemirror_mode": {
    "name": "ipython",
    "version": 3
   },
   "file_extension": ".py",
   "mimetype": "text/x-python",
   "name": "python",
   "nbconvert_exporter": "python",
   "pygments_lexer": "ipython3",
   "version": "3.11.4"
  }
 },
 "nbformat": 4,
 "nbformat_minor": 5
}
