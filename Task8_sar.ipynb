{
 "cells": [
  {
   "cell_type": "markdown",
   "id": "3d94ec42",
   "metadata": {},
   "source": [
    "Task 1: Basic If-Else Statements Write a Python program that takes an integer as input from the user and prints whether it is multiple of 3 or not using if-else statements.\n",
    "\n",
    "Task 2: Nested If Statements Create a program that asks the user for their age and nationality. Depending on their age and nationality, display a different message using nested if statements. For example, if they are under 18 and from the USA, display \"You are a minor from the USA.\"\n",
    "\n",
    "Task 3: Grade Calculator Write a program that takes a student's score as input and converts it to a letter grade (A, B, C, D, or F) using if-elif-else statements. Use the following grading scale:\n",
    "\n",
    "A: 90-100 B: 80-89 C: 70-79 D: 60-69 F: Below 60\n",
    "\n",
    "Task 4: Leap Year Checker Create a Python program that checks if a given year is a leap year or not. Use conditional statements to determine whether the year is divisible by 4, 100, and 400 to decide if it's a leap year.\n",
    "\n",
    "Task 5: BMI Calculator Write a program that calculates a person's Body Mass Index (BMI) based on their height and weight. Then, use conditional statements to categorize the BMI as Underweight, Normal, Overweight, or Obese. Provide guidance on the healthy range for BMI.(use BMI Formula)\n",
    "\n",
    "Task 6: Calculator with Menu Build a simple calculator program that provides a menu with options for addition, subtraction, multiplication, and division. Take user input for two numbersand an operation choice. Use conditional statements to perform the selected operation and display the result.\n",
    "\n",
    "Task 7: Temperature Converter Write a program that converts temperatures between Celsius and Fahrenheit. Allow the user to choose the conversion direction and input the temperature value. Use conditional statements to perform the conversion based on the user's choice.(Do with conversion formula)"
   ]
  },
  {
   "cell_type": "markdown",
   "id": "001519e1",
   "metadata": {},
   "source": [
    "## Task 1: Basic If-Else Statements Write a Python program that takes an integer as input from the user and prints whether it is multiple of 3 or not using if-else statements."
   ]
  },
  {
   "cell_type": "code",
   "execution_count": 6,
   "id": "a9b30353",
   "metadata": {},
   "outputs": [
    {
     "name": "stdout",
     "output_type": "stream",
     "text": [
      "Enter A Number: 27\n",
      "its multiply of 3\n"
     ]
    }
   ],
   "source": [
    "num= int(input(\"Enter A Number: \"))\n",
    "if (num%3==0):\n",
    "    print(\"its multiply of 3\")\n",
    "else:\n",
    "    print(\"its not multiply of 3\")"
   ]
  },
  {
   "cell_type": "markdown",
   "id": "02277d3f",
   "metadata": {},
   "source": [
    "## Task 2: Nested If Statements Create a program that asks the user for their age and nationality. Depending on their age and nationality, display a different message using nested if statements. For example, if they are under 18 and from the USA, display \"You are a minor from the USA.\""
   ]
  },
  {
   "cell_type": "code",
   "execution_count": 3,
   "id": "76419910",
   "metadata": {},
   "outputs": [
    {
     "name": "stdout",
     "output_type": "stream",
     "text": [
      "Enter your age:: 20\n",
      "You are major from USA\n"
     ]
    }
   ],
   "source": [
    "age = int(input(\"Enter your age:: \"))\n",
    "\n",
    "if age < 18 :\n",
    "\n",
    "    nationality =  input(\"What is your nationality : \")\n",
    "\n",
    "    if nationality == \"USA\":\n",
    "        print(\"you are a minor from USA\")\n",
    "    else:\n",
    "        print(\"you are not from USA\")\n",
    "\n",
    "else:\n",
    "    print(\"You are major from USA\")"
   ]
  },
  {
   "cell_type": "markdown",
   "id": "07bce866",
   "metadata": {},
   "source": [
    "## Task 3: Grade Calculator Write a program that takes a student's score as input and converts it to a letter grade (A, B, C, D, or F) using if-elif-else statements. Use the following grading scale:\n",
    "\n",
    "### A: 90-100 B: 80-89 C: 70-79 D: 60-69 F: Below 60"
   ]
  },
  {
   "cell_type": "code",
   "execution_count": 7,
   "id": "bc3e2a38",
   "metadata": {},
   "outputs": [
    {
     "name": "stdout",
     "output_type": "stream",
     "text": [
      "Enter the Score: -25\n",
      "Enter a valid number\n"
     ]
    }
   ],
   "source": [
    "Score = int(input(\"Enter the Score: \"))\n",
    "if (Score>=90) and (Score<=100):\n",
    "    print(\"Grade A\")\n",
    "elif (Score>=80) and (Score<=89):\n",
    "    print(\"Grade B\")\n",
    "elif (Score>=70) and (Score<=79):\n",
    "    print(\"Grade C\")\n",
    "elif (Score>=60) and (Score<=69):\n",
    "    print(\"Grade D\")\n",
    "elif (Score<=0) or (Score>=100):\n",
    "    print(\"Enter a valid number\")\n",
    "else:\n",
    "    print(\"Grade F\")"
   ]
  },
  {
   "cell_type": "markdown",
   "id": "465ef18e",
   "metadata": {},
   "source": [
    "## Task 4: Leap Year Checker Create a Python program that checks if a given year is a leap year or not. Use conditional statements to determine whether the year is divisible by 4, 100, and 400 to decide if it's a leap year."
   ]
  },
  {
   "cell_type": "code",
   "execution_count": 8,
   "id": "f9cab922",
   "metadata": {},
   "outputs": [
    {
     "name": "stdout",
     "output_type": "stream",
     "text": [
      "Enter a Year: 2020\n",
      "Its Not a Leap year\n"
     ]
    }
   ],
   "source": [
    "year= int(input(\"Enter a Year: \"))\n",
    "if (year%4==0) and(year%100==0) and (year%400==0):\n",
    "    print(\"Its a Leap year\")\n",
    "else:\n",
    "    print(\"Its Not a Leap year\")"
   ]
  },
  {
   "cell_type": "markdown",
   "id": "29837014",
   "metadata": {},
   "source": [
    "## Task 5: BMI Calculator Write a program that calculates a person's Body Mass Index (BMI) based on their height and weight. Then, use conditional statements to categorize the BMI as Underweight, Normal, Overweight, or Obese. Provide guidance on the healthy range for BMI.(use BMI Formula)"
   ]
  },
  {
   "cell_type": "code",
   "execution_count": 4,
   "id": "30db58ea",
   "metadata": {},
   "outputs": [
    {
     "name": "stdout",
     "output_type": "stream",
     "text": [
      "Enter the height: 5.0\n",
      "Enter the weight: 80\n",
      "Under weight\n"
     ]
    }
   ],
   "source": [
    "height= float(input(\"Enter the height: \"))\n",
    "weight= float(input(\"Enter the weight: \"))\n",
    "BMI= weight/height**2  #BMI Formula \n",
    "if BMI <= 18.4:\n",
    "    print(\"Under weight\")\n",
    "elif (BMI>=18.5) and (BMI<=24.9):\n",
    "    print(\"Normal weight\")\n",
    "elif (BMI>=25.0) and (BMI<=39.9):\n",
    "    print(\"Over weight\")\n",
    "else:\n",
    "    print(\"Obese\")"
   ]
  },
  {
   "cell_type": "markdown",
   "id": "4ee9813a",
   "metadata": {},
   "source": [
    "## Task 6: Calculator with Menu Build a simple calculator program that provides a menu with options for addition, subtraction, multiplication, and division. Take user input for two numbersand an operation choice. Use conditional statements to perform the selected operation and display the result."
   ]
  },
  {
   "cell_type": "code",
   "execution_count": 6,
   "id": "b4c13f5d",
   "metadata": {},
   "outputs": [
    {
     "name": "stdout",
     "output_type": "stream",
     "text": [
      "Enter a Number : 4\n",
      "Enter a Number : 6\n",
      "Enter a operator : *\n",
      "multiplication of two numbers is  24.0\n"
     ]
    }
   ],
   "source": [
    "Num1 = float(input(\"Enter a Number : \"))\n",
    "Num2 = float(input(\"Enter a Number : \"))\n",
    "operation = input(\"Enter a operator : \")\n",
    "if operation  == \"+\":\n",
    "    add = Num1+Num2\n",
    "    print(\"Addition of two numbers is \",add)\n",
    "elif operation == \"-\":\n",
    "    sub = Num1 - Num2\n",
    "    print(\"subtraction of two numbers is \",sub)\n",
    "elif operation == \"*\":\n",
    "    mul = Num1*Num2\n",
    "    print(\"multiplication of two numbers is \",mul)\n",
    "elif operation == \"/\":\n",
    "    div = Num1/Num2\n",
    "    print(\"division of two numbers is \",div)\n",
    "else:\n",
    "    print(\"enter a valid operator\")"
   ]
  },
  {
   "cell_type": "markdown",
   "id": "dec62fd4",
   "metadata": {},
   "source": [
    "## Task 7: Temperature Converter Write a program that converts temperatures between Celsius and Fahrenheit. Allow the user to choose the conversion direction and input the temperature value. Use conditional statements to perform the conversion based on the user's choice.(Do with conversion formula)"
   ]
  },
  {
   "cell_type": "code",
   "execution_count": 10,
   "id": "9a8bc71b",
   "metadata": {},
   "outputs": [
    {
     "name": "stdout",
     "output_type": "stream",
     "text": [
      "Enter a Temperature: 16\n",
      "Enter a conversion: Celsius\n",
      "Celsius -8.88888888888889\n"
     ]
    }
   ],
   "source": [
    "Temp = float(input(\"Enter a Temperature: \"))\n",
    "conversion = input(\"Enter a conversion: \")\n",
    "if conversion == \"Celsius\":\n",
    "    Celsius = (Temp-32)/1.8\n",
    "    print(\"Celsius\",Celsius)\n",
    "elif conversion == \"Fahrenheit\":\n",
    "    fahrenheit = Temp * 1.8 + 32\n",
    "    print(\"Fahrenheit\",fahrenheit)\n",
    "else: \n",
    "    print(\"Enter a valid conversion\")"
   ]
  },
  {
   "cell_type": "code",
   "execution_count": null,
   "id": "4747d450",
   "metadata": {},
   "outputs": [],
   "source": []
  }
 ],
 "metadata": {
  "kernelspec": {
   "display_name": "Python 3 (ipykernel)",
   "language": "python",
   "name": "python3"
  },
  "language_info": {
   "codemirror_mode": {
    "name": "ipython",
    "version": 3
   },
   "file_extension": ".py",
   "mimetype": "text/x-python",
   "name": "python",
   "nbconvert_exporter": "python",
   "pygments_lexer": "ipython3",
   "version": "3.11.4"
  }
 },
 "nbformat": 4,
 "nbformat_minor": 5
}
