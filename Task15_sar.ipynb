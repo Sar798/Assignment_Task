{
 "cells": [
  {
   "cell_type": "code",
   "execution_count": 23,
   "id": "7ad97142",
   "metadata": {},
   "outputs": [
    {
     "data": {
      "text/plain": [
       "[4.5, 5.4, 6.4, 7.8]"
      ]
     },
     "execution_count": 23,
     "metadata": {},
     "output_type": "execute_result"
    }
   ],
   "source": [
    "list1 = [1,2,3,4,5,4.5,5.4,6.4,7.8,\"Raheem\",\"Mansoor\",\"Adnan\"] \n",
    "def func(n):\n",
    "    if type(n) == float :\n",
    "        return n\n",
    "    \n",
    "list(filter(func,list1))"
   ]
  },
  {
   "cell_type": "code",
   "execution_count": 24,
   "id": "d5c7a060",
   "metadata": {},
   "outputs": [
    {
     "data": {
      "text/plain": [
       "['Raheem', 'Mansoor', 'Adnan']"
      ]
     },
     "execution_count": 24,
     "metadata": {},
     "output_type": "execute_result"
    }
   ],
   "source": [
    "list1 = [1,2,3,4,5,4.5,5.4,6.4,7.8,\"Raheem\",\"Mansoor\",\"Adnan\"] \n",
    "def func(n):\n",
    "    if type(n) == str :\n",
    "        return n\n",
    "    \n",
    "list(filter(func,list1))"
   ]
  },
  {
   "cell_type": "code",
   "execution_count": 26,
   "id": "5ecd68db",
   "metadata": {},
   "outputs": [
    {
     "data": {
      "text/plain": [
       "['Integer',\n",
       " 'Integer',\n",
       " 'Integer',\n",
       " 'Integer',\n",
       " 'Integer',\n",
       " 'Float',\n",
       " 'Float',\n",
       " 'Float',\n",
       " 'Float',\n",
       " 'String',\n",
       " 'String',\n",
       " 'String']"
      ]
     },
     "execution_count": 26,
     "metadata": {},
     "output_type": "execute_result"
    }
   ],
   "source": [
    "list1 = [1,2,3,4,5,4.5,5.4,6.4,7.8,\"Raheem\",\"Mansoor\",\"Adnan\"]\n",
    "def func(n):\n",
    "    if type(n) == int :\n",
    "        return \"Integer\"\n",
    "    elif type(n) == str :\n",
    "        return \"String\"\n",
    "    else :\n",
    "        return \"Float\"\n",
    "    \n",
    "    \n",
    "    \n",
    "list(map(func,list1)) "
   ]
  },
  {
   "cell_type": "markdown",
   "id": "cf0896fc",
   "metadata": {},
   "source": [
    "#### Create a lambda function that takes two arguments and returns their sum.\n",
    "* Create another lambda function that takes a single argument and returns its square.\n",
    "* Use the lambda functions to calculate the sum and square of various numbers and print the results.\n",
    "#### Define a list of integers.\n",
    "* Use the filter function to create a new list that contains only the even numbers from the original list.\n",
    "* Use the filter function again to create a new list that contains only numbers greater than 10 from the original list.\n",
    "* Print both filtered lists.\n",
    "#### Define a list of strings where each string represents a number (e.g., [\"1\", \"2\", \"3\"]).\n",
    "* Use the map function to convert each string to an integer and store the result in a new list.\n",
    "* Use the map function again to square each integer in the new list and store the result in another new list.\n",
    "* Print both new lists.\n",
    "#### Create a list of dictionaries, where each dictionary represents a person with keys \"name\" and \"age\". Example: [{\"name\": \"Alice\", \"age\": 30}, {\"name\": \"Bob\", \"age\": 25}, ...]\n",
    "* Use the filter function to create a new list that contains only the people who are older than 25.\n",
    "* Use the map function to create a new list that contains the names of the filtered people.\n",
    "* Print the list of names.\n",
    "#### Create a program that reads a list of numbers from the user (you can use the input function for this).\n",
    "*Use map and filter functions to perform the following operations:\n",
    "*Square each number.\n",
    "* Filter out numbers that are not divisible by 3.\n",
    "* Print the result."
   ]
  },
  {
   "cell_type": "code",
   "execution_count": 4,
   "id": "405842f7",
   "metadata": {},
   "outputs": [],
   "source": [
    "#Q1.\n",
    "a = lambda *n : sum(n)"
   ]
  },
  {
   "cell_type": "code",
   "execution_count": 5,
   "id": "2f75161e",
   "metadata": {},
   "outputs": [
    {
     "data": {
      "text/plain": [
       "10"
      ]
     },
     "execution_count": 5,
     "metadata": {},
     "output_type": "execute_result"
    }
   ],
   "source": [
    "a(4,6)"
   ]
  },
  {
   "cell_type": "code",
   "execution_count": 6,
   "id": "b4e18734",
   "metadata": {},
   "outputs": [
    {
     "data": {
      "text/plain": [
       "16"
      ]
     },
     "execution_count": 6,
     "metadata": {},
     "output_type": "execute_result"
    }
   ],
   "source": [
    "b= lambda x: x*x\n",
    "b(4)"
   ]
  },
  {
   "cell_type": "code",
   "execution_count": 8,
   "id": "5a86466e",
   "metadata": {},
   "outputs": [],
   "source": [
    "c = lambda *n : sum(n) \n",
    "d = lambda n : n**2 "
   ]
  },
  {
   "cell_type": "code",
   "execution_count": 9,
   "id": "be727b9e",
   "metadata": {},
   "outputs": [
    {
     "name": "stdout",
     "output_type": "stream",
     "text": [
      "10\n",
      "25\n"
     ]
    }
   ],
   "source": [
    "print(c(4,6))\n",
    "print(d(5))"
   ]
  },
  {
   "cell_type": "code",
   "execution_count": 10,
   "id": "5160f185",
   "metadata": {},
   "outputs": [
    {
     "data": {
      "text/plain": [
       "[2, 4, 6, 8, 10, 12, 14, 16]"
      ]
     },
     "execution_count": 10,
     "metadata": {},
     "output_type": "execute_result"
    }
   ],
   "source": [
    "#Q2.\n",
    "def list1(n) :\n",
    "    if n%2==0 :\n",
    "        return n\n",
    "list2 = [1,2,3,4,5,6,7,8,9,10,11,12,13,14,15,16,17]\n",
    "list(filter(list1,list2))"
   ]
  },
  {
   "cell_type": "code",
   "execution_count": 17,
   "id": "bfd8ddcd",
   "metadata": {},
   "outputs": [],
   "source": [
    "list3 = [1,2,3,5,7,9,10,12,15,18,20,25,30,40,50]"
   ]
  },
  {
   "cell_type": "code",
   "execution_count": 18,
   "id": "3e23e7ed",
   "metadata": {},
   "outputs": [
    {
     "data": {
      "text/plain": [
       "[12, 15, 18, 20, 25, 30, 40, 50]"
      ]
     },
     "execution_count": 18,
     "metadata": {},
     "output_type": "execute_result"
    }
   ],
   "source": [
    "def list4(n) :\n",
    "    \n",
    "    if n>10 :\n",
    "        return n\n",
    "list(filter(list4,list3))"
   ]
  },
  {
   "cell_type": "code",
   "execution_count": 19,
   "id": "b7004d0b",
   "metadata": {},
   "outputs": [
    {
     "data": {
      "text/plain": [
       "[1, 2, 3, 4]"
      ]
     },
     "execution_count": 19,
     "metadata": {},
     "output_type": "execute_result"
    }
   ],
   "source": [
    "#Q3.\n",
    "def Str(n):\n",
    "    if list1[0] == int(n):\n",
    "        return n\n",
    "list1 = [\"1\",\"2\",\"3\",\"4\"]\n",
    "new_list = list(map(int,list1))\n",
    "new_list"
   ]
  },
  {
   "cell_type": "code",
   "execution_count": 20,
   "id": "7d6dd733",
   "metadata": {},
   "outputs": [
    {
     "data": {
      "text/plain": [
       "[1, 4, 9, 16]"
      ]
     },
     "execution_count": 20,
     "metadata": {},
     "output_type": "execute_result"
    }
   ],
   "source": [
    "def squ(n):\n",
    "    return n*n\n",
    "square_list = list(map(squ,new_list))\n",
    "square_list"
   ]
  },
  {
   "cell_type": "code",
   "execution_count": 21,
   "id": "4044a438",
   "metadata": {},
   "outputs": [
    {
     "data": {
      "text/plain": [
       "[{'Name': 'Raheem', 'age': 35}, {'Name': 'Adnan', 'age': 30}]"
      ]
     },
     "execution_count": 21,
     "metadata": {},
     "output_type": "execute_result"
    }
   ],
   "source": [
    "#Q4.\n",
    "def dict1(n):\n",
    "    if n[\"age\"] > 25:\n",
    "        return n\n",
    "Names = [{\"Name\" : \"Raheem\",\"age\" : 35},{\"Name\" : \"Adnan\",\"age\": 30},{\"Name\" : \"Mansoor\",\"age\": 25},{\"Name\" : \"Satish\",\"age\": 20}]\n",
    "b = list(filter(dict1,Names))\n",
    "b"
   ]
  },
  {
   "cell_type": "code",
   "execution_count": 22,
   "id": "5e14c00e",
   "metadata": {},
   "outputs": [
    {
     "data": {
      "text/plain": [
       "[{'Name': 'Raheem'}, {'Name': 'Adnan'}]"
      ]
     },
     "execution_count": 22,
     "metadata": {},
     "output_type": "execute_result"
    }
   ],
   "source": [
    "def dict1(n):\n",
    "    \n",
    "    return {\"Name\" : n[\"Name\"]}\n",
    "list(map(dict1,b))"
   ]
  },
  {
   "cell_type": "code",
   "execution_count": 28,
   "id": "3aae091a",
   "metadata": {},
   "outputs": [
    {
     "name": "stdout",
     "output_type": "stream",
     "text": [
      "How many number you want to enter: 2\n",
      "Enter a number: 4\n",
      "Enter a number: 6\n",
      "Enter a number: 8\n",
      "Original List :  [4, 6, 8]\n",
      "Square of each number:  [16, 36, 64]\n",
      "Numbers that are not divisible by3 :  [4, 8]\n"
     ]
    }
   ],
   "source": [
    "#Q5.\n",
    "def squ(n) :\n",
    "    return n*n\n",
    "list1 = []\n",
    "\n",
    "num = int(input(\"How many number you want to enter: \"))\n",
    "\n",
    "for i in range(0,num+1) :\n",
    "    num1 = int(input(\"Enter a number: \"))\n",
    "    list1.append(num1)\n",
    "print(\"Original List : \",list1)\n",
    "a = list(map(squ,list1))\n",
    "print(\"Square of each number: \",a)\n",
    "def divide(n):\n",
    "    return n%3!=0\n",
    "b = list(filter(divide,list1))\n",
    "print(\"Numbers that are not divisible by3 : \",b)"
   ]
  },
  {
   "cell_type": "code",
   "execution_count": null,
   "id": "781aa3e6",
   "metadata": {},
   "outputs": [],
   "source": []
  }
 ],
 "metadata": {
  "kernelspec": {
   "display_name": "Python 3 (ipykernel)",
   "language": "python",
   "name": "python3"
  },
  "language_info": {
   "codemirror_mode": {
    "name": "ipython",
    "version": 3
   },
   "file_extension": ".py",
   "mimetype": "text/x-python",
   "name": "python",
   "nbconvert_exporter": "python",
   "pygments_lexer": "ipython3",
   "version": "3.11.4"
  }
 },
 "nbformat": 4,
 "nbformat_minor": 5
}
