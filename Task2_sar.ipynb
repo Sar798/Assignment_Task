{
 "cells": [
  {
   "cell_type": "markdown",
   "id": "b8536ea7",
   "metadata": {},
   "source": [
    "* Write a program that calculates the `sum, difference, product, and quotient` of two numbers: 10 and 5.\n",
    "\n",
    "* Create a program that calculates the `area of a circle` with a radius of 4.5 units."
   ]
  },
  {
   "cell_type": "markdown",
   "id": "3f81b9d8",
   "metadata": {},
   "source": [
    "*  Write a program that `swaps` the values of two variables: x with a value of 5 and \"y\" with a value of 10.\n",
    "* Create a program that calculates `compound interest` for a principal amount of $1000, an interest rate of 5%, and a time period of 3 years."
   ]
  },
  {
   "cell_type": "markdown",
   "id": "768483d0",
   "metadata": {},
   "source": [
    "* Write a program that `compares` two numbers: 7 and 12, and determines whether the first number is greater than, less than, or equal to the second number.\n",
    "* Create a program that `checks` if a person of age 18 is eligible to vote based on the voting age requirement.(True/False)"
   ]
  },
  {
   "cell_type": "markdown",
   "id": "7881a204",
   "metadata": {},
   "source": [
    "* Create a program that `swaps` the values of two integers: `a` with a value of 10 and `b` with a value of 20 using\n",
    " *  bitwise XOR (^) operator.\n",
    " * Logical AND\n",
    " * Logical OR\n",
    " * Logical NOT"
   ]
  },
  {
   "cell_type": "markdown",
   "id": "1844e65c",
   "metadata": {},
   "source": [
    "*  Create a Python program that calculates the `area of a rectangle`. Prompt the `user to enter` the length and width of the rectangle, `store them` in variables, and compute the area using the formula:area length width.Finally, `print the calculated area.\n",
    "\n",
    "* Create a Python program that calculates the `average` of three exam scores. Prompt the user to enter the scores, `store them` in variables, calculate the average, and print the result.\n",
    "\n",
    "* Write a Python program that `converts` temperature from Celsius to Fahrenheit. Prompt the user to enter a temperature in Celsius, store it in a variable, and convert it to Fahrenheit using the formula: `Fahrenheit = (Celsius* 9/5)+32`, and print the converted temperature.\n",
    "\n",
    "* What are the `logical operators` in Python? Explain `each one` with an example.\n",
    "\n",
    "* What are the `membership` operators in Python? Explain their usage with examples\n",
    "\n",
    "* List and briefly explain the `basic data types` available in Python.\n",
    "\n",
    "* Write a Python code snippet that `assigns a value to a variable `and determines its `data type` using the type() function."
   ]
  },
  {
   "cell_type": "markdown",
   "id": "95ed62b5",
   "metadata": {},
   "source": [
    "Assignment: Basic Python Operators\n",
    "\n",
    "**Task 1: Arithmetic Operators**\n",
    "1. Write a Python program that takes two user-input numbers and displays their sum using the addition operator.\n",
    "2. Create a program to calculate the area of a rectangle. Prompt the user for the length and width, then use multiplication to find the area.\n",
    "3. Implement a program that converts temperature from Celsius to Fahrenheit using the formula: Fahrenheit = (Celsius * 9/5) + 32.\n",
    "\n",
    "**Task 2: Comparison Operators**\n",
    "1. Write a program that compares two user-input numbers and prints whether the first number is greater than the second number or not.\n",
    "2. Create a program that determines whether a user-input year is a leap year or not. A leap year is divisible by 4 and not divisible by 100, unless it is also divisible by 400.\n",
    "3. Implement a simple guessing game. Generate a random number between 1 and 100 and have the user guess the number. Provide feedback if their guess is too high or too low, and let them know when they've guessed correctly.\n",
    "\n",
    "**Task 3: Logical Operators**\n",
    "1. Write a program that checks whether a user-input number is positive and even using logical AND (`and`) operator.\n",
    "2. Create a login system where you define a correct username and password. Ask the user for their input and compare it with the correct credentials using logical OR (`or`) operator. Provide access if either the username or password is correct.\n",
    "3. Implement a program that determines whether a given year is a leap year and divisible by 7 using logical NOT (`not`) operator.\n",
    "\n",
    "**Task 4: Assignment Operators**\n",
    "1. Write a program to calculate the square of a number using the exponentiation operator (`**`) and assign it back to the same variable.\n",
    "2. Create a program that keeps track of the total score in a game. Prompt the user for their latest score and update the total score using the addition assignment operator (`+=`).\n",
    "3. Implement a program to convert seconds into hours, minutes, and remaining seconds using both division and modulo operators, and then assign each value using assignment operators.\n",
    "\n",
    "**Task 5: Bitwise Operators**\n",
    "1. Write a program that performs a bitwise AND operation between two user-input numbers and displays the result.\n",
    "2. Create a program to toggle the nth bit of a given number. Ask the user for the number and the value of n, then use bitwise XOR (^) operator to toggle the bit.\n",
    "3. Implement a program to swap the values of two variables without using a temporary variable, only using bitwise XOR (^) operator.\n",
    "\n"
   ]
  },
  {
   "cell_type": "markdown",
   "id": "3c54fad5",
   "metadata": {},
   "source": [
    "* Write a program that calculates the `sum, difference, product, and quotient` of two numbers: 10 and 5.*"
   ]
  },
  {
   "cell_type": "code",
   "execution_count": 22,
   "id": "81166db4",
   "metadata": {},
   "outputs": [
    {
     "name": "stdout",
     "output_type": "stream",
     "text": [
      "15\n"
     ]
    }
   ],
   "source": [
    "a=10\n",
    "b=5\n",
    "print(a+b) #sum"
   ]
  },
  {
   "cell_type": "code",
   "execution_count": 23,
   "id": "55dcefd9",
   "metadata": {},
   "outputs": [
    {
     "name": "stdout",
     "output_type": "stream",
     "text": [
      "5\n"
     ]
    }
   ],
   "source": [
    "print(a-b) #difference"
   ]
  },
  {
   "cell_type": "code",
   "execution_count": 24,
   "id": "ff29ef3f",
   "metadata": {},
   "outputs": [
    {
     "data": {
      "text/plain": [
       "50"
      ]
     },
     "execution_count": 24,
     "metadata": {},
     "output_type": "execute_result"
    }
   ],
   "source": [
    "a*b #product"
   ]
  },
  {
   "cell_type": "code",
   "execution_count": 25,
   "id": "2c97c482",
   "metadata": {},
   "outputs": [
    {
     "data": {
      "text/plain": [
       "2"
      ]
     },
     "execution_count": 25,
     "metadata": {},
     "output_type": "execute_result"
    }
   ],
   "source": [
    "a//b #quotient"
   ]
  },
  {
   "cell_type": "markdown",
   "id": "a60a173a",
   "metadata": {},
   "source": [
    "* Create a program that calculates the `area of a circle` with a radius of 4.5 units."
   ]
  },
  {
   "cell_type": "code",
   "execution_count": 26,
   "id": "cc4ef537",
   "metadata": {},
   "outputs": [],
   "source": [
    "r = 4.5\n",
    "pi= 3.14\n",
    "area= pi*r**2"
   ]
  },
  {
   "cell_type": "code",
   "execution_count": 27,
   "id": "6f0adc23",
   "metadata": {},
   "outputs": [
    {
     "name": "stdout",
     "output_type": "stream",
     "text": [
      "63.585\n"
     ]
    }
   ],
   "source": [
    "print(area)"
   ]
  },
  {
   "cell_type": "markdown",
   "id": "f0c000a4",
   "metadata": {},
   "source": [
    " * Write a program that `swaps` the values of two variables: x with a value of 5 and \"y\" with a value of 10"
   ]
  },
  {
   "cell_type": "code",
   "execution_count": 31,
   "id": "82e57688",
   "metadata": {},
   "outputs": [
    {
     "name": "stdout",
     "output_type": "stream",
     "text": [
      "x= 10\n",
      "y= 5\n"
     ]
    }
   ],
   "source": [
    "x=5\n",
    "y=10\n",
    "x,y=y,x\n",
    "print(\"x=\", x)\n",
    "print(\"y=\", y)"
   ]
  },
  {
   "cell_type": "markdown",
   "id": "fb1d0503",
   "metadata": {},
   "source": [
    "* Create a program that calculates `compound interest` for a principal amount of $1000, an interest rate of 5%, and a time period of 3 years."
   ]
  },
  {
   "cell_type": "code",
   "execution_count": 35,
   "id": "dca97d81",
   "metadata": {},
   "outputs": [
    {
     "name": "stdout",
     "output_type": "stream",
     "text": [
      "157.62500000000023\n"
     ]
    }
   ],
   "source": [
    "p= 1000\n",
    "r= 5\n",
    "t= 3\n",
    "a= p* (1 + r / 100)**t \n",
    "ci= a-p\n",
    "print(ci)"
   ]
  },
  {
   "cell_type": "markdown",
   "id": "8800a4df",
   "metadata": {},
   "source": [
    "* Write a program that `compares` two numbers: 7 and 12, and determines whether the first number is greater than, less than, or equal to the second number."
   ]
  },
  {
   "cell_type": "code",
   "execution_count": 36,
   "id": "8b517d59",
   "metadata": {},
   "outputs": [
    {
     "name": "stdout",
     "output_type": "stream",
     "text": [
      "False\n"
     ]
    }
   ],
   "source": [
    "a=7\n",
    "b=12\n",
    "print(a>b)"
   ]
  },
  {
   "cell_type": "code",
   "execution_count": 37,
   "id": "fd216f6a",
   "metadata": {},
   "outputs": [
    {
     "name": "stdout",
     "output_type": "stream",
     "text": [
      "True\n"
     ]
    }
   ],
   "source": [
    "print(a<b)"
   ]
  },
  {
   "cell_type": "code",
   "execution_count": 38,
   "id": "99a95e13",
   "metadata": {},
   "outputs": [
    {
     "name": "stdout",
     "output_type": "stream",
     "text": [
      "False\n"
     ]
    }
   ],
   "source": [
    "print(a==b)"
   ]
  },
  {
   "cell_type": "code",
   "execution_count": 39,
   "id": "2225b983",
   "metadata": {},
   "outputs": [
    {
     "name": "stdout",
     "output_type": "stream",
     "text": [
      "True\n"
     ]
    }
   ],
   "source": [
    "print(a<=b)"
   ]
  },
  {
   "cell_type": "code",
   "execution_count": 41,
   "id": "0d52ac0e",
   "metadata": {},
   "outputs": [
    {
     "name": "stdout",
     "output_type": "stream",
     "text": [
      "False\n"
     ]
    }
   ],
   "source": [
    "print(a>=b)"
   ]
  },
  {
   "cell_type": "markdown",
   "id": "1715d66e",
   "metadata": {},
   "source": [
    "* Create a program that `checks` if a person of age 18 is eligible to vote based on the voting age requirement.(True/False)"
   ]
  },
  {
   "cell_type": "code",
   "execution_count": 76,
   "id": "540887fc",
   "metadata": {},
   "outputs": [
    {
     "name": "stdout",
     "output_type": "stream",
     "text": [
      "True\n"
     ]
    }
   ],
   "source": [
    "age = 18\n",
    "voting_age = 18\n",
    "print(age==voting_age)"
   ]
  },
  {
   "cell_type": "markdown",
   "id": "a986a585",
   "metadata": {},
   "source": [
    "* Create a program that swaps the values of two integers: a with a value of 10 and b with a value of 20 using\n",
    "* bitwise XOR (^) operator.\n",
    "* Logical AND\n",
    "* Logical OR\n",
    "* Logical NOT"
   ]
  },
  {
   "cell_type": "code",
   "execution_count": 12,
   "id": "2d72a492",
   "metadata": {},
   "outputs": [],
   "source": [
    "a=10\n",
    "b=20\n",
    "a = a^b  #bitwise xor"
   ]
  },
  {
   "cell_type": "code",
   "execution_count": 13,
   "id": "b9905d03",
   "metadata": {},
   "outputs": [],
   "source": [
    "b = a^b"
   ]
  },
  {
   "cell_type": "code",
   "execution_count": 14,
   "id": "58c72ec9",
   "metadata": {},
   "outputs": [],
   "source": [
    "a = a^b"
   ]
  },
  {
   "cell_type": "code",
   "execution_count": 15,
   "id": "bc8557b9",
   "metadata": {},
   "outputs": [
    {
     "data": {
      "text/plain": [
       "20"
      ]
     },
     "execution_count": 15,
     "metadata": {},
     "output_type": "execute_result"
    }
   ],
   "source": [
    "a"
   ]
  },
  {
   "cell_type": "code",
   "execution_count": 16,
   "id": "c1f55b65",
   "metadata": {},
   "outputs": [
    {
     "data": {
      "text/plain": [
       "10"
      ]
     },
     "execution_count": 16,
     "metadata": {},
     "output_type": "execute_result"
    }
   ],
   "source": [
    "b"
   ]
  },
  {
   "cell_type": "code",
   "execution_count": 58,
   "id": "6b794f1c",
   "metadata": {},
   "outputs": [
    {
     "name": "stdout",
     "output_type": "stream",
     "text": [
      "20\n"
     ]
    }
   ],
   "source": [
    "a= 10\n",
    "b= 20\n",
    "a= a and b\n",
    "print (a)"
   ]
  },
  {
   "cell_type": "code",
   "execution_count": 64,
   "id": "45ae4b78",
   "metadata": {},
   "outputs": [],
   "source": [
    "a=10\n",
    "b=20\n",
    "b= b and a"
   ]
  },
  {
   "cell_type": "code",
   "execution_count": 65,
   "id": "5e220271",
   "metadata": {},
   "outputs": [
    {
     "name": "stdout",
     "output_type": "stream",
     "text": [
      "10\n"
     ]
    }
   ],
   "source": [
    "print (b)"
   ]
  },
  {
   "cell_type": "code",
   "execution_count": 66,
   "id": "0a74b710",
   "metadata": {},
   "outputs": [
    {
     "name": "stdout",
     "output_type": "stream",
     "text": [
      "10\n"
     ]
    }
   ],
   "source": [
    "a=10\n",
    "b=20\n",
    "a= a or b\n",
    "print (a)"
   ]
  },
  {
   "cell_type": "code",
   "execution_count": 72,
   "id": "6df90a33",
   "metadata": {},
   "outputs": [],
   "source": [
    "a=10\n",
    "b=20\n",
    "b= b or a"
   ]
  },
  {
   "cell_type": "code",
   "execution_count": 73,
   "id": "08f919b1",
   "metadata": {},
   "outputs": [
    {
     "name": "stdout",
     "output_type": "stream",
     "text": [
      "20\n"
     ]
    }
   ],
   "source": [
    "print(b)"
   ]
  },
  {
   "cell_type": "code",
   "execution_count": 78,
   "id": "1739e7d9",
   "metadata": {},
   "outputs": [
    {
     "data": {
      "text/plain": [
       "False"
      ]
     },
     "execution_count": 78,
     "metadata": {},
     "output_type": "execute_result"
    }
   ],
   "source": [
    "a= 10\n",
    "b= 20\n",
    "not (a<b)"
   ]
  },
  {
   "cell_type": "markdown",
   "id": "0b6ded57",
   "metadata": {},
   "source": [
    "* we cant swap for numbers for not operator. In not operator we can do either true or false"
   ]
  },
  {
   "cell_type": "markdown",
   "id": "0cc71108",
   "metadata": {},
   "source": [
    "### Create a Python program that calculates the area of a rectangle. Prompt the user to enter the length and width of the rectangle, store them in variables, and compute the area using the formula:area length width.Finally, `print the calculated area."
   ]
  },
  {
   "cell_type": "code",
   "execution_count": 84,
   "id": "f49ed002",
   "metadata": {},
   "outputs": [
    {
     "name": "stdout",
     "output_type": "stream",
     "text": [
      "Enter the number of length: 10\n",
      "Enter the number of width: 5\n",
      "area =  50\n"
     ]
    }
   ],
   "source": [
    "length= int(input(\"Enter the number of length: \"))\n",
    "width= int(input(\"Enter the number of width: \"))\n",
    "area = length * width\n",
    "print(\"area = \", area)"
   ]
  },
  {
   "cell_type": "markdown",
   "id": "f4e3f671",
   "metadata": {},
   "source": [
    "### Create a Python program that calculates the average of three exam scores. Prompt the user to enter the scores, store them in variables, calculate the average, and print the result."
   ]
  },
  {
   "cell_type": "code",
   "execution_count": 2,
   "id": "529b4151",
   "metadata": {},
   "outputs": [
    {
     "name": "stdout",
     "output_type": "stream",
     "text": [
      "Enter Math Score: 50\n",
      "Enter Urdu Score: 40\n",
      "Enter Hindi Score: 60\n",
      "result=  150\n",
      "avg=  50.0\n"
     ]
    }
   ],
   "source": [
    "math= int(input(\"Enter Math Score: \"))\n",
    "urdu= int(input(\"Enter Urdu Score: \"))\n",
    "hindi= int(input(\"Enter Hindi Score: \"))\n",
    "result= math+ urdu+ hindi\n",
    "avg= result/3\n",
    "print(\"result= \", result)\n",
    "print(\"avg= \", avg)"
   ]
  },
  {
   "cell_type": "markdown",
   "id": "94d51a5b",
   "metadata": {},
   "source": [
    "### Write a Python program that converts temperature from Celsius to Fahrenheit. Prompt the user to enter a temperature in Celsius, store it in a variable, and convert it to Fahrenheit using the formula: Fahrenheit = (Celsius* 9/5)+32, and print the converted temperature."
   ]
  },
  {
   "cell_type": "code",
   "execution_count": 6,
   "id": "5b40a4c4",
   "metadata": {},
   "outputs": [
    {
     "name": "stdout",
     "output_type": "stream",
     "text": [
      "Enter the celsius number: 10\n",
      "Fahrenheit=  50.0\n"
     ]
    }
   ],
   "source": [
    "celsius= int(input(\"Enter the celsius number: \"))\n",
    "Fahrenheit = (celsius* 9/5)+32\n",
    "print(\"Fahrenheit= \", Fahrenheit)"
   ]
  },
  {
   "cell_type": "markdown",
   "id": "8f5ea23b",
   "metadata": {},
   "source": [
    "### What are the logical operators in Python? Explain each one with an example."
   ]
  },
  {
   "cell_type": "markdown",
   "id": "2f7ebbfe",
   "metadata": {},
   "source": [
    "#### Logical Operator are consist of 3 types\n",
    "* Logical And - In logical And, if both conditions are True then value will be True or else false.\n",
    "ex:- a=true, b=true then c= true. \n",
    "* logical And will last value.\n",
    "\n",
    "* Logical Or - In logical Or, if both conditions are False then the value will be False or else True\n",
    "ex:- a=true, b=false then c= true.\n",
    "* Logical Or will take first value.\n",
    "\n",
    "* Logical Not - In Logical Not, it will make the true operand into false\n",
    "ex:- a= true then a=false"
   ]
  },
  {
   "cell_type": "markdown",
   "id": "b86c341e",
   "metadata": {},
   "source": [
    "### What are the membership operators in Python? Explain their usage with examples"
   ]
  },
  {
   "cell_type": "raw",
   "id": "d3f84728",
   "metadata": {},
   "source": [
    " Membership operator is a part of special operator. it can be classified in 2 types.\n",
    "* in- \n",
    "for ex: a=\"innmoatics research lab\"\n",
    "        research in a\n",
    "        output:- true\n",
    "* not in-\n",
    "for ex: a=\"innmoatics research lab\"\n",
    "        research not in a\n",
    "        output:- false"
   ]
  },
  {
   "cell_type": "markdown",
   "id": "fb849364",
   "metadata": {},
   "source": [
    "### List and briefly explain the basic data types available in Python."
   ]
  },
  {
   "cell_type": "raw",
   "id": "73428aba",
   "metadata": {},
   "source": [
    "Data Types --(1) Basic Data Type--(1) Numerical--\n",
    "                                                1. Integer(int) - All the whole values will comes under in integer. for ex:- 15\n",
    "                                                2. Float(float) - All Decimal value will comes under in Float. for ex:- 3.15\n",
    "                                                3.Complex(complex) - Complex value means one real value and one imaginery                                                                            value. for ex:- 3+4j.\n",
    "                                  (2) Non Numerical--1.Boolean(bool) - True or False comes under boolean.\n",
    "                                                     2.String(str) - The text which will be written in single and double quotes is known as string. for ex:- \"Hello world\"."
   ]
  },
  {
   "cell_type": "markdown",
   "id": "fb02ce1d",
   "metadata": {},
   "source": [
    "### Write a Python code snippet that assigns a value to a variable and determines its data type using the type() function."
   ]
  },
  {
   "cell_type": "code",
   "execution_count": 7,
   "id": "98782f51",
   "metadata": {},
   "outputs": [],
   "source": [
    "a=25\n",
    "b=12.5\n",
    "c=3+4j\n",
    "d=True\n",
    "e=\"Hello World\""
   ]
  },
  {
   "cell_type": "code",
   "execution_count": 8,
   "id": "626ea97c",
   "metadata": {},
   "outputs": [
    {
     "data": {
      "text/plain": [
       "int"
      ]
     },
     "execution_count": 8,
     "metadata": {},
     "output_type": "execute_result"
    }
   ],
   "source": [
    "type(a)"
   ]
  },
  {
   "cell_type": "code",
   "execution_count": 9,
   "id": "7ae3c9fd",
   "metadata": {},
   "outputs": [
    {
     "data": {
      "text/plain": [
       "float"
      ]
     },
     "execution_count": 9,
     "metadata": {},
     "output_type": "execute_result"
    }
   ],
   "source": [
    "type(b)"
   ]
  },
  {
   "cell_type": "code",
   "execution_count": 10,
   "id": "91ab231b",
   "metadata": {},
   "outputs": [
    {
     "data": {
      "text/plain": [
       "complex"
      ]
     },
     "execution_count": 10,
     "metadata": {},
     "output_type": "execute_result"
    }
   ],
   "source": [
    "type(c)"
   ]
  },
  {
   "cell_type": "code",
   "execution_count": 11,
   "id": "6de2a9de",
   "metadata": {},
   "outputs": [
    {
     "data": {
      "text/plain": [
       "bool"
      ]
     },
     "execution_count": 11,
     "metadata": {},
     "output_type": "execute_result"
    }
   ],
   "source": [
    "type(d)"
   ]
  },
  {
   "cell_type": "code",
   "execution_count": 12,
   "id": "10bac402",
   "metadata": {},
   "outputs": [
    {
     "data": {
      "text/plain": [
       "str"
      ]
     },
     "execution_count": 12,
     "metadata": {},
     "output_type": "execute_result"
    }
   ],
   "source": [
    "type(e)"
   ]
  },
  {
   "cell_type": "markdown",
   "id": "540cc2b1",
   "metadata": {},
   "source": [
    "# Assignment: Basic Python Operators\n",
    "\n",
    "## Task 1: Arithmetic Operators\n",
    "\n",
    "### Write a Python program that takes two user-input numbers and displays their sum using the addition operator."
   ]
  },
  {
   "cell_type": "code",
   "execution_count": 13,
   "id": "a8bbe9d4",
   "metadata": {},
   "outputs": [
    {
     "name": "stdout",
     "output_type": "stream",
     "text": [
      "Enter the First Number: 10\n",
      "Enter the Second Number: 20\n",
      "30\n"
     ]
    }
   ],
   "source": [
    "a=int(input(\"Enter the First Number: \"))\n",
    "b=int(input(\"Enter the Second Number: \"))\n",
    "c=a+b #sum\n",
    "print(c)"
   ]
  },
  {
   "cell_type": "markdown",
   "id": "87e1fc3b",
   "metadata": {},
   "source": [
    "### Create a program to calculate the area of a rectangle. Prompt the user for the length and width, then use multiplication to find the area."
   ]
  },
  {
   "cell_type": "code",
   "execution_count": 18,
   "id": "c85a031a",
   "metadata": {},
   "outputs": [
    {
     "name": "stdout",
     "output_type": "stream",
     "text": [
      "Enter the Length Number: 10\n",
      "Enter the width Number: 20\n",
      "area=  200\n"
     ]
    }
   ],
   "source": [
    "length = int(input(\"Enter the Length Number: \"))\n",
    "width = int(input(\"Enter the width Number: \"))\n",
    "area = length * width\n",
    "print(\"area= \", area)"
   ]
  },
  {
   "cell_type": "markdown",
   "id": "eac7d0de",
   "metadata": {},
   "source": [
    "### Implement a program that converts temperature from Celsius to Fahrenheit using the formula: Fahrenheit = (Celsius * 9/5) + 32."
   ]
  },
  {
   "cell_type": "code",
   "execution_count": 20,
   "id": "4db180e6",
   "metadata": {},
   "outputs": [
    {
     "name": "stdout",
     "output_type": "stream",
     "text": [
      "enter any value of celsius: 1.5\n",
      "34.7\n"
     ]
    }
   ],
   "source": [
    "celsius = float(input(\"enter any value of celsius: \"))\n",
    "Fahrenheit = (celsius *9/5) +32\n",
    "print(Fahrenheit)"
   ]
  },
  {
   "cell_type": "markdown",
   "id": "eb47d664",
   "metadata": {},
   "source": [
    "## Task 2: Comparison Operators\n",
    "\n",
    "### Write a program that compares two user-input numbers and prints whether the first number is greater than the second number or not."
   ]
  },
  {
   "cell_type": "code",
   "execution_count": 21,
   "id": "7dc6ebc1",
   "metadata": {},
   "outputs": [
    {
     "name": "stdout",
     "output_type": "stream",
     "text": [
      "Enter the First number: 10\n",
      "Enter the Second number: 20\n"
     ]
    },
    {
     "data": {
      "text/plain": [
       "False"
      ]
     },
     "execution_count": 21,
     "metadata": {},
     "output_type": "execute_result"
    }
   ],
   "source": [
    "first= int(input(\"Enter the First number: \"))\n",
    "second= int(input(\"Enter the Second number: \"))\n",
    "first>second"
   ]
  },
  {
   "cell_type": "code",
   "execution_count": 29,
   "id": "b3a5f8b5",
   "metadata": {},
   "outputs": [
    {
     "name": "stdout",
     "output_type": "stream",
     "text": [
      "Enter the First number: 15\n",
      "Enter the Second number: 20\n",
      "A is Less than B\n"
     ]
    }
   ],
   "source": [
    "a= int(input(\"Enter the First number: \"))\n",
    "b= int(input(\"Enter the Second number: \")) \n",
    "if a>b:\n",
    "       print(\"A is greater than B\")\n",
    "else:\n",
    "       print(\"A is Less than B\")"
   ]
  },
  {
   "cell_type": "markdown",
   "id": "7836faf1",
   "metadata": {},
   "source": [
    "## Create a program that determines whether a user-input year is a leap year or not. A leap year is divisible by 4 and not divisible by 100, unless it is also divisible by 400."
   ]
  },
  {
   "cell_type": "code",
   "execution_count": 39,
   "id": "560f9cba",
   "metadata": {},
   "outputs": [
    {
     "name": "stdout",
     "output_type": "stream",
     "text": [
      "Enter a leap year: 2020\n",
      "Its a leap year\n"
     ]
    }
   ],
   "source": [
    "year= int(input(\"Enter a leap year: \"))\n",
    "if(year%4 == 0 and year % 100 !=0 or (year % 400 ==0)):\n",
    "    print(\"Its a leap year\")\n",
    "else:\n",
    "    print(\"its not a leap year\")"
   ]
  },
  {
   "cell_type": "markdown",
   "id": "72fce9fe",
   "metadata": {},
   "source": [
    "## Task 3: Logical Operators\n",
    "\n",
    "### Write a program that checks whether a user-input number is positive and even using logical AND (and) operator."
   ]
  },
  {
   "cell_type": "code",
   "execution_count": 49,
   "id": "98875411",
   "metadata": {},
   "outputs": [
    {
     "name": "stdout",
     "output_type": "stream",
     "text": [
      "Enter the number: 2\n",
      "number is even and positive\n"
     ]
    }
   ],
   "source": [
    "num= int(input(\"Enter the number: \"))\n",
    "if (num % 2==0 and num>=0) :\n",
    "     print(\"number is even and positive\")\n",
    "else:\n",
    "     print(\"number is not odd and not positive\")"
   ]
  },
  {
   "cell_type": "markdown",
   "id": "f26760b8",
   "metadata": {},
   "source": [
    "### Create a login system where you define a correct username and password. Ask the user for their input and compare it with the correct credentials using logical OR (or) operator. Provide access if either the username or password is correct."
   ]
  },
  {
   "cell_type": "code",
   "execution_count": 5,
   "id": "cb4124f4",
   "metadata": {},
   "outputs": [
    {
     "name": "stdout",
     "output_type": "stream",
     "text": [
      "enter username: Raheem\n",
      "enter the password: 2229\n"
     ]
    },
    {
     "data": {
      "text/plain": [
       "True"
      ]
     },
     "execution_count": 5,
     "metadata": {},
     "output_type": "execute_result"
    }
   ],
   "source": [
    "username=input(\"enter username: \")\n",
    "pwd=int(input(\"enter the password: \"))\n",
    "username=\"Raheem\"\n",
    "password=2229\n",
    "(username==username)or(pwd==pwd)"
   ]
  },
  {
   "cell_type": "markdown",
   "id": "a717f203",
   "metadata": {},
   "source": [
    "### Implement a program that determines whether a given year is a leap year and divisible by 7 using logical NOT (not) operator."
   ]
  },
  {
   "cell_type": "code",
   "execution_count": 11,
   "id": "1fb1a4ba",
   "metadata": {},
   "outputs": [
    {
     "name": "stdout",
     "output_type": "stream",
     "text": [
      "enter any year: 2020\n",
      "leap year and divisible by 7\n"
     ]
    }
   ],
   "source": [
    "year=int(input(\"enter any year: \"))\n",
    "if(year%4 == 0 and year % 100 !=0 or (year % 400 ==0)and not(year%7!=0)):\n",
    "    print(\"leap year and divisible by 7\")\n",
    "else:\n",
    "    print(\"not leap year and not divisible 7\")"
   ]
  },
  {
   "cell_type": "markdown",
   "id": "4898d599",
   "metadata": {},
   "source": [
    "## Task 4: Assignment Operators\n",
    "\n",
    "###  Write a program to calculate the square of a number using the exponentiation operator (**) and assign it back to the same variable."
   ]
  },
  {
   "cell_type": "code",
   "execution_count": 12,
   "id": "57d7a99c",
   "metadata": {},
   "outputs": [
    {
     "name": "stdout",
     "output_type": "stream",
     "text": [
      "enter any Number: 4\n",
      "16\n"
     ]
    }
   ],
   "source": [
    "num=int(input(\"enter any Number: \"))\n",
    "a=num**2\n",
    "print(a)"
   ]
  },
  {
   "cell_type": "markdown",
   "id": "6255d65e",
   "metadata": {},
   "source": [
    "### Implement a program to convert seconds into hours, minutes, and remaining seconds using both division and modulo operators, and then assign each value using assignment operators."
   ]
  },
  {
   "cell_type": "code",
   "execution_count": 1,
   "id": "31c6d036",
   "metadata": {},
   "outputs": [
    {
     "name": "stdout",
     "output_type": "stream",
     "text": [
      "enter any number of seconds: 10\n",
      "hours in second:  0\n",
      "minutes in seconds  0\n",
      "seconds in seconds:  10\n"
     ]
    }
   ],
   "source": [
    "seconds=int(input(\"enter any number of seconds: \"))\n",
    "\n",
    "hours=seconds//3600\n",
    "minutes=(seconds%3600)//60\n",
    "remaining_seconds=seconds%60\n",
    "\n",
    "print(\"hours in second: \",hours)\n",
    "print(\"minutes in seconds \",minutes)\n",
    "print(\"seconds in seconds: \",remaining_seconds)"
   ]
  },
  {
   "cell_type": "markdown",
   "id": "0f3c9633",
   "metadata": {},
   "source": [
    "## Task 5: Bitwise Operators\n",
    "\n",
    "###  Write a program that performs a bitwise AND operation between two user-input numbers and displays the result."
   ]
  },
  {
   "cell_type": "code",
   "execution_count": 1,
   "id": "3ecf6317",
   "metadata": {},
   "outputs": [
    {
     "name": "stdout",
     "output_type": "stream",
     "text": [
      "enter x number: 5\n",
      "enter y number: 10\n",
      "0\n"
     ]
    }
   ],
   "source": [
    "x=int(input(\"enter x number: \"))\n",
    "y=int(input(\"enter y number: \"))\n",
    "z= x & y\n",
    "print(z)"
   ]
  },
  {
   "cell_type": "markdown",
   "id": "9df2fe78",
   "metadata": {},
   "source": [
    "###  Implement a program to swap the values of two variables without using a temporary variable, only using bitwise XOR (^) operator."
   ]
  },
  {
   "cell_type": "code",
   "execution_count": 3,
   "id": "e352d53d",
   "metadata": {},
   "outputs": [
    {
     "name": "stdout",
     "output_type": "stream",
     "text": [
      "20\n",
      "10\n"
     ]
    }
   ],
   "source": [
    "a = 10\n",
    "b = 20\n",
    "a = a^b\n",
    "b = a^b\n",
    "a = a^b\n",
    "print(a)\n",
    "print(b)"
   ]
  },
  {
   "cell_type": "code",
   "execution_count": null,
   "id": "32053749",
   "metadata": {},
   "outputs": [],
   "source": []
  }
 ],
 "metadata": {
  "kernelspec": {
   "display_name": "Python 3 (ipykernel)",
   "language": "python",
   "name": "python3"
  },
  "language_info": {
   "codemirror_mode": {
    "name": "ipython",
    "version": 3
   },
   "file_extension": ".py",
   "mimetype": "text/x-python",
   "name": "python",
   "nbconvert_exporter": "python",
   "pygments_lexer": "ipython3",
   "version": "3.11.4"
  }
 },
 "nbformat": 4,
 "nbformat_minor": 5
}
