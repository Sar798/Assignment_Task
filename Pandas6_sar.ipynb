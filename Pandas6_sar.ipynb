{
 "cells": [
  {
   "cell_type": "markdown",
   "id": "cd2d1ab4",
   "metadata": {},
   "source": [
    "### Data Description"
   ]
  },
  {
   "cell_type": "raw",
   "id": "0f80885e",
   "metadata": {},
   "source": [
    "Customer ID - Unique identifier for each customer\n",
    "Age - Age of the customer\n",
    "Gender - Gender of the customer (Male/Female)\n",
    "Item Purchased - The item purchased by the customer\n",
    "Category - Category of the item purchased\n",
    "Purchase Amount (USD) - The amount of the purchase in USD\n",
    "Location - Location where the purchase was made\n",
    "Size - Size of the purchased item\n",
    "Color - Color of the purchased item\n",
    "Season - Season during which the purchase was made\n",
    "Review Rating - Rating given by the customer for the purchased item\n",
    "Subscription Status - Indicates if the customer has a subscription (Yes/No)\n",
    "Shipping Type - Type of shipping chosen by the customer\n",
    "Discount Applied - Indicates if a discount was applied to the purchase (Yes/No)\n",
    "Promo Code Used - Indicates if a promo code was used for the purchase (Yes/No)\n",
    "Previous Purchases - The total count of transactions concluded by the customer at the store, excluding the ongoing transaction\n",
    "Payment Method - Customer's most preferred payment method\n",
    "Frequency of Purchases - Frequency at which the customer makes purchases (e.g., Weekly, Fortnightly, Monthly)"
   ]
  },
  {
   "cell_type": "code",
   "execution_count": 1,
   "id": "549988dd",
   "metadata": {},
   "outputs": [],
   "source": [
    "import pandas as pd\n",
    "import numpy as np"
   ]
  },
  {
   "cell_type": "code",
   "execution_count": 2,
   "id": "f971cb92",
   "metadata": {},
   "outputs": [],
   "source": [
    "df = pd.read_excel(r\"C:\\Users\\m\\DSpython\\shopping.xlsx\")"
   ]
  },
  {
   "cell_type": "code",
   "execution_count": 3,
   "id": "8da404c3",
   "metadata": {},
   "outputs": [],
   "source": [
    "df.columns = df.columns.str.replace(\" \",\"\")"
   ]
  },
  {
   "cell_type": "code",
   "execution_count": 4,
   "id": "9464571c",
   "metadata": {},
   "outputs": [],
   "source": [
    "df.drop(\"CustomerID\",axis = 1,inplace=True)"
   ]
  },
  {
   "cell_type": "code",
   "execution_count": 5,
   "id": "b69697c5",
   "metadata": {},
   "outputs": [
    {
     "data": {
      "text/plain": [
       "Age                     2\n",
       "Gender                  5\n",
       "ItemPurchased           4\n",
       "Category                4\n",
       "PurchaseAmount(USD)     0\n",
       "Location                2\n",
       "Size                    0\n",
       "Color                   4\n",
       "Season                  3\n",
       "ReviewRating            2\n",
       "SubscriptionStatus      2\n",
       "ShippingType            0\n",
       "DiscountApplied         7\n",
       "PromoCodeUsed           7\n",
       "PreviousPurchases       0\n",
       "PaymentMethod           4\n",
       "FrequencyofPurchases    3\n",
       "dtype: int64"
      ]
     },
     "execution_count": 5,
     "metadata": {},
     "output_type": "execute_result"
    }
   ],
   "source": [
    "df.isnull().sum()"
   ]
  },
  {
   "cell_type": "code",
   "execution_count": 6,
   "id": "afbb806d",
   "metadata": {},
   "outputs": [],
   "source": [
    "df[\"Age\"].fillna(df[\"Age\"].median(),inplace=True)\n",
    "\n",
    "df[\"Gender\"].fillna(df[\"Gender\"].mode()[0],inplace=True)\n",
    "\n",
    "df[\"ItemPurchased\"].fillna(df[\"ItemPurchased\"].mode()[0],inplace=True)\n",
    "\n",
    "df[\"Category\"].fillna(df[\"Category\"].mode()[0],inplace=True)\n",
    "\n",
    "df[\"Location\"].fillna(df[\"Location\"].mode()[0],inplace=True)\n",
    "\n",
    "df[\"Color\"].fillna(df[\"Color\"].mode()[0],inplace=True)\n",
    "\n",
    "df[\"Season\"].fillna(df[\"Season\"].mode()[0],inplace=True)\n",
    "\n",
    "df[\"SubscriptionStatus\"].fillna(df[\"SubscriptionStatus\"].mode()[0],inplace=True)\n",
    "\n",
    "df[\"DiscountApplied\"].fillna(df[\"DiscountApplied\"].mode()[0],inplace=True)\n",
    "\n",
    "df[\"PromoCodeUsed\"].fillna(df[\"PromoCodeUsed\"].mode()[0],inplace=True)\n",
    "\n",
    "df[\"PaymentMethod\"].fillna(df[\"PaymentMethod\"].mode()[0],inplace=True)\n",
    "\n",
    "df[\"FrequencyofPurchases\"].fillna(df[\"FrequencyofPurchases\"].mode()[0],inplace=True)"
   ]
  },
  {
   "cell_type": "code",
   "execution_count": 7,
   "id": "9bab3eb3",
   "metadata": {},
   "outputs": [],
   "source": [
    "df.dropna(axis=0,inplace=True)"
   ]
  },
  {
   "cell_type": "code",
   "execution_count": 8,
   "id": "d43236b0",
   "metadata": {},
   "outputs": [
    {
     "name": "stdout",
     "output_type": "stream",
     "text": [
      "<class 'pandas.core.frame.DataFrame'>\n",
      "Index: 2680 entries, 0 to 2681\n",
      "Data columns (total 17 columns):\n",
      " #   Column                Non-Null Count  Dtype  \n",
      "---  ------                --------------  -----  \n",
      " 0   Age                   2680 non-null   float64\n",
      " 1   Gender                2680 non-null   object \n",
      " 2   ItemPurchased         2680 non-null   object \n",
      " 3   Category              2680 non-null   object \n",
      " 4   PurchaseAmount(USD)   2680 non-null   int64  \n",
      " 5   Location              2680 non-null   object \n",
      " 6   Size                  2680 non-null   object \n",
      " 7   Color                 2680 non-null   object \n",
      " 8   Season                2680 non-null   object \n",
      " 9   ReviewRating          2680 non-null   float64\n",
      " 10  SubscriptionStatus    2680 non-null   object \n",
      " 11  ShippingType          2680 non-null   object \n",
      " 12  DiscountApplied       2680 non-null   object \n",
      " 13  PromoCodeUsed         2680 non-null   object \n",
      " 14  PreviousPurchases     2680 non-null   int64  \n",
      " 15  PaymentMethod         2680 non-null   object \n",
      " 16  FrequencyofPurchases  2680 non-null   object \n",
      "dtypes: float64(2), int64(2), object(13)\n",
      "memory usage: 376.9+ KB\n"
     ]
    }
   ],
   "source": [
    "df.info()"
   ]
  },
  {
   "cell_type": "markdown",
   "id": "96d8551b",
   "metadata": {},
   "source": [
    "### Outliers"
   ]
  },
  {
   "cell_type": "code",
   "execution_count": 9,
   "id": "b1f0622b",
   "metadata": {},
   "outputs": [],
   "source": [
    "df[(df[\"Age\"]>100) | (df[\"Age\"]<0)] = 35"
   ]
  },
  {
   "cell_type": "code",
   "execution_count": 10,
   "id": "167eba35",
   "metadata": {},
   "outputs": [],
   "source": [
    "df.drop(df[(df[\"ReviewRating\"]>5) | (df[\"ReviewRating\"]<0)].index,inplace=True)"
   ]
  },
  {
   "cell_type": "markdown",
   "id": "aad3dca0",
   "metadata": {},
   "source": [
    "### Duplicates"
   ]
  },
  {
   "cell_type": "code",
   "execution_count": 11,
   "id": "6cca8de6",
   "metadata": {},
   "outputs": [],
   "source": [
    "df.drop_duplicates(inplace=True)"
   ]
  },
  {
   "cell_type": "code",
   "execution_count": 12,
   "id": "2adb6c45",
   "metadata": {},
   "outputs": [
    {
     "data": {
      "text/plain": [
       "0"
      ]
     },
     "execution_count": 12,
     "metadata": {},
     "output_type": "execute_result"
    }
   ],
   "source": [
    "df.duplicated().sum()"
   ]
  },
  {
   "cell_type": "markdown",
   "id": "a6108a6b",
   "metadata": {},
   "source": [
    "### Type Casting "
   ]
  },
  {
   "cell_type": "code",
   "execution_count": 13,
   "id": "69d487b0",
   "metadata": {},
   "outputs": [
    {
     "name": "stdout",
     "output_type": "stream",
     "text": [
      "<class 'pandas.core.frame.DataFrame'>\n",
      "Index: 2644 entries, 0 to 2667\n",
      "Data columns (total 17 columns):\n",
      " #   Column                Non-Null Count  Dtype  \n",
      "---  ------                --------------  -----  \n",
      " 0   Age                   2644 non-null   float64\n",
      " 1   Gender                2644 non-null   object \n",
      " 2   ItemPurchased         2644 non-null   object \n",
      " 3   Category              2644 non-null   object \n",
      " 4   PurchaseAmount(USD)   2644 non-null   int64  \n",
      " 5   Location              2644 non-null   object \n",
      " 6   Size                  2644 non-null   object \n",
      " 7   Color                 2644 non-null   object \n",
      " 8   Season                2644 non-null   object \n",
      " 9   ReviewRating          2644 non-null   float64\n",
      " 10  SubscriptionStatus    2644 non-null   object \n",
      " 11  ShippingType          2644 non-null   object \n",
      " 12  DiscountApplied       2644 non-null   object \n",
      " 13  PromoCodeUsed         2644 non-null   object \n",
      " 14  PreviousPurchases     2644 non-null   int64  \n",
      " 15  PaymentMethod         2644 non-null   object \n",
      " 16  FrequencyofPurchases  2644 non-null   object \n",
      "dtypes: float64(2), int64(2), object(13)\n",
      "memory usage: 371.8+ KB\n"
     ]
    }
   ],
   "source": [
    "df.info()"
   ]
  },
  {
   "cell_type": "code",
   "execution_count": 14,
   "id": "2acf75eb",
   "metadata": {},
   "outputs": [],
   "source": [
    "df[\"Age\"] = df[\"Age\"].astype(\"float64\")\n",
    "\n",
    "df[\"ReviewRating\"] = df[\"ReviewRating\"].astype(\"float16\")\n",
    "\n",
    "df[\"PreviousPurchases\"] = df[\"PreviousPurchases\"].astype(\"int8\")\n",
    "\n",
    "df[\"PurchaseAmount(USD)\"] = df[\"PurchaseAmount(USD)\"].astype(\"int8\")"
   ]
  },
  {
   "cell_type": "markdown",
   "id": "09b4e1aa",
   "metadata": {},
   "source": [
    "### Variance Check"
   ]
  },
  {
   "cell_type": "code",
   "execution_count": 15,
   "id": "c996eb86",
   "metadata": {},
   "outputs": [
    {
     "data": {
      "text/html": [
       "<div>\n",
       "<style scoped>\n",
       "    .dataframe tbody tr th:only-of-type {\n",
       "        vertical-align: middle;\n",
       "    }\n",
       "\n",
       "    .dataframe tbody tr th {\n",
       "        vertical-align: top;\n",
       "    }\n",
       "\n",
       "    .dataframe thead th {\n",
       "        text-align: right;\n",
       "    }\n",
       "</style>\n",
       "<table border=\"1\" class=\"dataframe\">\n",
       "  <thead>\n",
       "    <tr style=\"text-align: right;\">\n",
       "      <th></th>\n",
       "      <th>Age</th>\n",
       "      <th>Gender</th>\n",
       "      <th>ItemPurchased</th>\n",
       "      <th>Category</th>\n",
       "      <th>PurchaseAmount(USD)</th>\n",
       "      <th>Location</th>\n",
       "      <th>Size</th>\n",
       "      <th>Color</th>\n",
       "      <th>Season</th>\n",
       "      <th>ReviewRating</th>\n",
       "      <th>SubscriptionStatus</th>\n",
       "      <th>ShippingType</th>\n",
       "      <th>DiscountApplied</th>\n",
       "      <th>PromoCodeUsed</th>\n",
       "      <th>PreviousPurchases</th>\n",
       "      <th>PaymentMethod</th>\n",
       "      <th>FrequencyofPurchases</th>\n",
       "    </tr>\n",
       "  </thead>\n",
       "  <tbody>\n",
       "    <tr>\n",
       "      <th>0</th>\n",
       "      <td>55.0</td>\n",
       "      <td>Male</td>\n",
       "      <td>Blouse</td>\n",
       "      <td>Clothing</td>\n",
       "      <td>53</td>\n",
       "      <td>Kentucky</td>\n",
       "      <td>L</td>\n",
       "      <td>Gray</td>\n",
       "      <td>Winter</td>\n",
       "      <td>3.099609</td>\n",
       "      <td>Yes</td>\n",
       "      <td>Express</td>\n",
       "      <td>Yes</td>\n",
       "      <td>Yes</td>\n",
       "      <td>14</td>\n",
       "      <td>Venmo</td>\n",
       "      <td>Fortnightly</td>\n",
       "    </tr>\n",
       "    <tr>\n",
       "      <th>2</th>\n",
       "      <td>50.0</td>\n",
       "      <td>Male</td>\n",
       "      <td>Jeans</td>\n",
       "      <td>Clothing</td>\n",
       "      <td>73</td>\n",
       "      <td>Massachusetts</td>\n",
       "      <td>S</td>\n",
       "      <td>Maroon</td>\n",
       "      <td>Spring</td>\n",
       "      <td>3.099609</td>\n",
       "      <td>Yes</td>\n",
       "      <td>Free Shipping</td>\n",
       "      <td>Yes</td>\n",
       "      <td>Yes</td>\n",
       "      <td>23</td>\n",
       "      <td>Credit Card</td>\n",
       "      <td>Weekly</td>\n",
       "    </tr>\n",
       "    <tr>\n",
       "      <th>3</th>\n",
       "      <td>21.0</td>\n",
       "      <td>Male</td>\n",
       "      <td>Sandals</td>\n",
       "      <td>Footwear</td>\n",
       "      <td>90</td>\n",
       "      <td>Rhode Island</td>\n",
       "      <td>M</td>\n",
       "      <td>Maroon</td>\n",
       "      <td>Spring</td>\n",
       "      <td>3.500000</td>\n",
       "      <td>Yes</td>\n",
       "      <td>Next Day Air</td>\n",
       "      <td>Yes</td>\n",
       "      <td>Yes</td>\n",
       "      <td>49</td>\n",
       "      <td>PayPal</td>\n",
       "      <td>Weekly</td>\n",
       "    </tr>\n",
       "    <tr>\n",
       "      <th>5</th>\n",
       "      <td>46.0</td>\n",
       "      <td>Male</td>\n",
       "      <td>Sneakers</td>\n",
       "      <td>Footwear</td>\n",
       "      <td>20</td>\n",
       "      <td>Wyoming</td>\n",
       "      <td>M</td>\n",
       "      <td>White</td>\n",
       "      <td>Summer</td>\n",
       "      <td>2.900391</td>\n",
       "      <td>Yes</td>\n",
       "      <td>Standard</td>\n",
       "      <td>Yes</td>\n",
       "      <td>Yes</td>\n",
       "      <td>14</td>\n",
       "      <td>Venmo</td>\n",
       "      <td>Weekly</td>\n",
       "    </tr>\n",
       "    <tr>\n",
       "      <th>6</th>\n",
       "      <td>63.0</td>\n",
       "      <td>Male</td>\n",
       "      <td>Shirt</td>\n",
       "      <td>Clothing</td>\n",
       "      <td>85</td>\n",
       "      <td>Montana</td>\n",
       "      <td>M</td>\n",
       "      <td>Gray</td>\n",
       "      <td>Fall</td>\n",
       "      <td>3.199219</td>\n",
       "      <td>Yes</td>\n",
       "      <td>Free Shipping</td>\n",
       "      <td>Yes</td>\n",
       "      <td>Yes</td>\n",
       "      <td>49</td>\n",
       "      <td>Cash</td>\n",
       "      <td>Quarterly</td>\n",
       "    </tr>\n",
       "  </tbody>\n",
       "</table>\n",
       "</div>"
      ],
      "text/plain": [
       "    Age Gender ItemPurchased  Category  PurchaseAmount(USD)       Location  \\\n",
       "0  55.0   Male        Blouse  Clothing                   53       Kentucky   \n",
       "2  50.0   Male         Jeans  Clothing                   73  Massachusetts   \n",
       "3  21.0   Male       Sandals  Footwear                   90   Rhode Island   \n",
       "5  46.0   Male      Sneakers  Footwear                   20        Wyoming   \n",
       "6  63.0   Male         Shirt  Clothing                   85        Montana   \n",
       "\n",
       "  Size   Color  Season  ReviewRating SubscriptionStatus   ShippingType  \\\n",
       "0    L    Gray  Winter      3.099609                Yes        Express   \n",
       "2    S  Maroon  Spring      3.099609                Yes  Free Shipping   \n",
       "3    M  Maroon  Spring      3.500000                Yes   Next Day Air   \n",
       "5    M   White  Summer      2.900391                Yes       Standard   \n",
       "6    M    Gray    Fall      3.199219                Yes  Free Shipping   \n",
       "\n",
       "  DiscountApplied PromoCodeUsed  PreviousPurchases PaymentMethod  \\\n",
       "0             Yes           Yes                 14         Venmo   \n",
       "2             Yes           Yes                 23   Credit Card   \n",
       "3             Yes           Yes                 49        PayPal   \n",
       "5             Yes           Yes                 14         Venmo   \n",
       "6             Yes           Yes                 49          Cash   \n",
       "\n",
       "  FrequencyofPurchases  \n",
       "0          Fortnightly  \n",
       "2               Weekly  \n",
       "3               Weekly  \n",
       "5               Weekly  \n",
       "6            Quarterly  "
      ]
     },
     "execution_count": 15,
     "metadata": {},
     "output_type": "execute_result"
    }
   ],
   "source": [
    "df.head()"
   ]
  },
  {
   "cell_type": "code",
   "execution_count": 16,
   "id": "e5dc9818",
   "metadata": {},
   "outputs": [
    {
     "data": {
      "text/plain": [
       "234.70148246474147"
      ]
     },
     "execution_count": 16,
     "metadata": {},
     "output_type": "execute_result"
    }
   ],
   "source": [
    "df.Age.var()"
   ]
  },
  {
   "cell_type": "code",
   "execution_count": 17,
   "id": "1e5d524c",
   "metadata": {},
   "outputs": [],
   "source": [
    "df.Gender.nunique()\n",
    "\n",
    "df.drop(\"Gender\",axis=1,inplace=True)"
   ]
  },
  {
   "cell_type": "code",
   "execution_count": 18,
   "id": "80a41c42",
   "metadata": {},
   "outputs": [
    {
     "data": {
      "text/plain": [
       "25"
      ]
     },
     "execution_count": 18,
     "metadata": {},
     "output_type": "execute_result"
    }
   ],
   "source": [
    "df.ItemPurchased.nunique()"
   ]
  },
  {
   "cell_type": "code",
   "execution_count": 19,
   "id": "094bd90b",
   "metadata": {},
   "outputs": [
    {
     "data": {
      "text/plain": [
       "4"
      ]
     },
     "execution_count": 19,
     "metadata": {},
     "output_type": "execute_result"
    }
   ],
   "source": [
    "df.Category.nunique()"
   ]
  },
  {
   "cell_type": "code",
   "execution_count": 20,
   "id": "31f7d086",
   "metadata": {},
   "outputs": [
    {
     "data": {
      "text/plain": [
       "567.925853294433"
      ]
     },
     "execution_count": 20,
     "metadata": {},
     "output_type": "execute_result"
    }
   ],
   "source": [
    "df[\"PurchaseAmount(USD)\"].var()"
   ]
  },
  {
   "cell_type": "code",
   "execution_count": 21,
   "id": "cb5ae01a",
   "metadata": {},
   "outputs": [
    {
     "data": {
      "text/plain": [
       "50"
      ]
     },
     "execution_count": 21,
     "metadata": {},
     "output_type": "execute_result"
    }
   ],
   "source": [
    "df.Location.nunique()"
   ]
  },
  {
   "cell_type": "code",
   "execution_count": 23,
   "id": "e5199087",
   "metadata": {},
   "outputs": [
    {
     "data": {
      "text/plain": [
       "4"
      ]
     },
     "execution_count": 23,
     "metadata": {},
     "output_type": "execute_result"
    }
   ],
   "source": [
    "df.Size.nunique()"
   ]
  },
  {
   "cell_type": "code",
   "execution_count": 24,
   "id": "f7f3d84d",
   "metadata": {},
   "outputs": [
    {
     "data": {
      "text/plain": [
       "25"
      ]
     },
     "execution_count": 24,
     "metadata": {},
     "output_type": "execute_result"
    }
   ],
   "source": [
    "df.Color.nunique()"
   ]
  },
  {
   "cell_type": "code",
   "execution_count": 25,
   "id": "b54324f5",
   "metadata": {},
   "outputs": [
    {
     "data": {
      "text/plain": [
       "4"
      ]
     },
     "execution_count": 25,
     "metadata": {},
     "output_type": "execute_result"
    }
   ],
   "source": [
    "df.Season.nunique()"
   ]
  },
  {
   "cell_type": "code",
   "execution_count": 26,
   "id": "5f197273",
   "metadata": {},
   "outputs": [
    {
     "data": {
      "text/plain": [
       "0.5093"
      ]
     },
     "execution_count": 26,
     "metadata": {},
     "output_type": "execute_result"
    }
   ],
   "source": [
    "df.ReviewRating.var()"
   ]
  },
  {
   "cell_type": "code",
   "execution_count": 27,
   "id": "81f71a0e",
   "metadata": {},
   "outputs": [
    {
     "data": {
      "text/plain": [
       "2"
      ]
     },
     "execution_count": 27,
     "metadata": {},
     "output_type": "execute_result"
    }
   ],
   "source": [
    "df.SubscriptionStatus.nunique()"
   ]
  },
  {
   "cell_type": "code",
   "execution_count": 28,
   "id": "9e3f88d6",
   "metadata": {},
   "outputs": [
    {
     "data": {
      "text/plain": [
       "6"
      ]
     },
     "execution_count": 28,
     "metadata": {},
     "output_type": "execute_result"
    }
   ],
   "source": [
    "df.ShippingType.nunique()"
   ]
  },
  {
   "cell_type": "code",
   "execution_count": 29,
   "id": "1bd0a76b",
   "metadata": {},
   "outputs": [
    {
     "data": {
      "text/plain": [
       "2"
      ]
     },
     "execution_count": 29,
     "metadata": {},
     "output_type": "execute_result"
    }
   ],
   "source": [
    "df.DiscountApplied.nunique()"
   ]
  },
  {
   "cell_type": "code",
   "execution_count": 30,
   "id": "02dbd9f8",
   "metadata": {},
   "outputs": [
    {
     "data": {
      "text/plain": [
       "2"
      ]
     },
     "execution_count": 30,
     "metadata": {},
     "output_type": "execute_result"
    }
   ],
   "source": [
    "df.PromoCodeUsed.nunique()"
   ]
  },
  {
   "cell_type": "code",
   "execution_count": 31,
   "id": "985b1e9a",
   "metadata": {},
   "outputs": [
    {
     "data": {
      "text/plain": [
       "206.13516135734906"
      ]
     },
     "execution_count": 31,
     "metadata": {},
     "output_type": "execute_result"
    }
   ],
   "source": [
    "df.PreviousPurchases.var()"
   ]
  },
  {
   "cell_type": "code",
   "execution_count": 32,
   "id": "419b279f",
   "metadata": {},
   "outputs": [
    {
     "data": {
      "text/plain": [
       "6"
      ]
     },
     "execution_count": 32,
     "metadata": {},
     "output_type": "execute_result"
    }
   ],
   "source": [
    "df.PaymentMethod.nunique()"
   ]
  },
  {
   "cell_type": "code",
   "execution_count": 33,
   "id": "3cf8665d",
   "metadata": {},
   "outputs": [
    {
     "data": {
      "text/plain": [
       "7"
      ]
     },
     "execution_count": 33,
     "metadata": {},
     "output_type": "execute_result"
    }
   ],
   "source": [
    "df.FrequencyofPurchases.nunique()"
   ]
  },
  {
   "cell_type": "code",
   "execution_count": 34,
   "id": "3fe1d7ca",
   "metadata": {},
   "outputs": [
    {
     "data": {
      "text/html": [
       "<div>\n",
       "<style scoped>\n",
       "    .dataframe tbody tr th:only-of-type {\n",
       "        vertical-align: middle;\n",
       "    }\n",
       "\n",
       "    .dataframe tbody tr th {\n",
       "        vertical-align: top;\n",
       "    }\n",
       "\n",
       "    .dataframe thead th {\n",
       "        text-align: right;\n",
       "    }\n",
       "</style>\n",
       "<table border=\"1\" class=\"dataframe\">\n",
       "  <thead>\n",
       "    <tr style=\"text-align: right;\">\n",
       "      <th></th>\n",
       "      <th>Age</th>\n",
       "      <th>ItemPurchased</th>\n",
       "      <th>Category</th>\n",
       "      <th>PurchaseAmount(USD)</th>\n",
       "      <th>Location</th>\n",
       "      <th>Size</th>\n",
       "      <th>Color</th>\n",
       "      <th>Season</th>\n",
       "      <th>ReviewRating</th>\n",
       "      <th>SubscriptionStatus</th>\n",
       "      <th>ShippingType</th>\n",
       "      <th>DiscountApplied</th>\n",
       "      <th>PromoCodeUsed</th>\n",
       "      <th>PreviousPurchases</th>\n",
       "      <th>PaymentMethod</th>\n",
       "      <th>FrequencyofPurchases</th>\n",
       "    </tr>\n",
       "  </thead>\n",
       "  <tbody>\n",
       "    <tr>\n",
       "      <th>0</th>\n",
       "      <td>55.0</td>\n",
       "      <td>Blouse</td>\n",
       "      <td>Clothing</td>\n",
       "      <td>53</td>\n",
       "      <td>Kentucky</td>\n",
       "      <td>L</td>\n",
       "      <td>Gray</td>\n",
       "      <td>Winter</td>\n",
       "      <td>3.099609</td>\n",
       "      <td>Yes</td>\n",
       "      <td>Express</td>\n",
       "      <td>Yes</td>\n",
       "      <td>Yes</td>\n",
       "      <td>14</td>\n",
       "      <td>Venmo</td>\n",
       "      <td>Fortnightly</td>\n",
       "    </tr>\n",
       "    <tr>\n",
       "      <th>2</th>\n",
       "      <td>50.0</td>\n",
       "      <td>Jeans</td>\n",
       "      <td>Clothing</td>\n",
       "      <td>73</td>\n",
       "      <td>Massachusetts</td>\n",
       "      <td>S</td>\n",
       "      <td>Maroon</td>\n",
       "      <td>Spring</td>\n",
       "      <td>3.099609</td>\n",
       "      <td>Yes</td>\n",
       "      <td>Free Shipping</td>\n",
       "      <td>Yes</td>\n",
       "      <td>Yes</td>\n",
       "      <td>23</td>\n",
       "      <td>Credit Card</td>\n",
       "      <td>Weekly</td>\n",
       "    </tr>\n",
       "    <tr>\n",
       "      <th>3</th>\n",
       "      <td>21.0</td>\n",
       "      <td>Sandals</td>\n",
       "      <td>Footwear</td>\n",
       "      <td>90</td>\n",
       "      <td>Rhode Island</td>\n",
       "      <td>M</td>\n",
       "      <td>Maroon</td>\n",
       "      <td>Spring</td>\n",
       "      <td>3.500000</td>\n",
       "      <td>Yes</td>\n",
       "      <td>Next Day Air</td>\n",
       "      <td>Yes</td>\n",
       "      <td>Yes</td>\n",
       "      <td>49</td>\n",
       "      <td>PayPal</td>\n",
       "      <td>Weekly</td>\n",
       "    </tr>\n",
       "    <tr>\n",
       "      <th>5</th>\n",
       "      <td>46.0</td>\n",
       "      <td>Sneakers</td>\n",
       "      <td>Footwear</td>\n",
       "      <td>20</td>\n",
       "      <td>Wyoming</td>\n",
       "      <td>M</td>\n",
       "      <td>White</td>\n",
       "      <td>Summer</td>\n",
       "      <td>2.900391</td>\n",
       "      <td>Yes</td>\n",
       "      <td>Standard</td>\n",
       "      <td>Yes</td>\n",
       "      <td>Yes</td>\n",
       "      <td>14</td>\n",
       "      <td>Venmo</td>\n",
       "      <td>Weekly</td>\n",
       "    </tr>\n",
       "    <tr>\n",
       "      <th>6</th>\n",
       "      <td>63.0</td>\n",
       "      <td>Shirt</td>\n",
       "      <td>Clothing</td>\n",
       "      <td>85</td>\n",
       "      <td>Montana</td>\n",
       "      <td>M</td>\n",
       "      <td>Gray</td>\n",
       "      <td>Fall</td>\n",
       "      <td>3.199219</td>\n",
       "      <td>Yes</td>\n",
       "      <td>Free Shipping</td>\n",
       "      <td>Yes</td>\n",
       "      <td>Yes</td>\n",
       "      <td>49</td>\n",
       "      <td>Cash</td>\n",
       "      <td>Quarterly</td>\n",
       "    </tr>\n",
       "  </tbody>\n",
       "</table>\n",
       "</div>"
      ],
      "text/plain": [
       "    Age ItemPurchased  Category  PurchaseAmount(USD)       Location Size  \\\n",
       "0  55.0        Blouse  Clothing                   53       Kentucky    L   \n",
       "2  50.0         Jeans  Clothing                   73  Massachusetts    S   \n",
       "3  21.0       Sandals  Footwear                   90   Rhode Island    M   \n",
       "5  46.0      Sneakers  Footwear                   20        Wyoming    M   \n",
       "6  63.0         Shirt  Clothing                   85        Montana    M   \n",
       "\n",
       "    Color  Season  ReviewRating SubscriptionStatus   ShippingType  \\\n",
       "0    Gray  Winter      3.099609                Yes        Express   \n",
       "2  Maroon  Spring      3.099609                Yes  Free Shipping   \n",
       "3  Maroon  Spring      3.500000                Yes   Next Day Air   \n",
       "5   White  Summer      2.900391                Yes       Standard   \n",
       "6    Gray    Fall      3.199219                Yes  Free Shipping   \n",
       "\n",
       "  DiscountApplied PromoCodeUsed  PreviousPurchases PaymentMethod  \\\n",
       "0             Yes           Yes                 14         Venmo   \n",
       "2             Yes           Yes                 23   Credit Card   \n",
       "3             Yes           Yes                 49        PayPal   \n",
       "5             Yes           Yes                 14         Venmo   \n",
       "6             Yes           Yes                 49          Cash   \n",
       "\n",
       "  FrequencyofPurchases  \n",
       "0          Fortnightly  \n",
       "2               Weekly  \n",
       "3               Weekly  \n",
       "5               Weekly  \n",
       "6            Quarterly  "
      ]
     },
     "execution_count": 34,
     "metadata": {},
     "output_type": "execute_result"
    }
   ],
   "source": [
    "df.head()"
   ]
  },
  {
   "cell_type": "markdown",
   "id": "c6cf4523",
   "metadata": {},
   "source": [
    "### Dummy variable\n",
    "\n",
    "### One Hot Encoding"
   ]
  },
  {
   "cell_type": "code",
   "execution_count": 35,
   "id": "3832e6e5",
   "metadata": {},
   "outputs": [
    {
     "data": {
      "text/html": [
       "<div>\n",
       "<style scoped>\n",
       "    .dataframe tbody tr th:only-of-type {\n",
       "        vertical-align: middle;\n",
       "    }\n",
       "\n",
       "    .dataframe tbody tr th {\n",
       "        vertical-align: top;\n",
       "    }\n",
       "\n",
       "    .dataframe thead th {\n",
       "        text-align: right;\n",
       "    }\n",
       "</style>\n",
       "<table border=\"1\" class=\"dataframe\">\n",
       "  <thead>\n",
       "    <tr style=\"text-align: right;\">\n",
       "      <th></th>\n",
       "      <th>Accessories</th>\n",
       "      <th>Clothing</th>\n",
       "      <th>Footwear</th>\n",
       "      <th>Outerwear</th>\n",
       "    </tr>\n",
       "  </thead>\n",
       "  <tbody>\n",
       "    <tr>\n",
       "      <th>0</th>\n",
       "      <td>0</td>\n",
       "      <td>1</td>\n",
       "      <td>0</td>\n",
       "      <td>0</td>\n",
       "    </tr>\n",
       "    <tr>\n",
       "      <th>2</th>\n",
       "      <td>0</td>\n",
       "      <td>1</td>\n",
       "      <td>0</td>\n",
       "      <td>0</td>\n",
       "    </tr>\n",
       "    <tr>\n",
       "      <th>3</th>\n",
       "      <td>0</td>\n",
       "      <td>0</td>\n",
       "      <td>1</td>\n",
       "      <td>0</td>\n",
       "    </tr>\n",
       "    <tr>\n",
       "      <th>5</th>\n",
       "      <td>0</td>\n",
       "      <td>0</td>\n",
       "      <td>1</td>\n",
       "      <td>0</td>\n",
       "    </tr>\n",
       "    <tr>\n",
       "      <th>6</th>\n",
       "      <td>0</td>\n",
       "      <td>1</td>\n",
       "      <td>0</td>\n",
       "      <td>0</td>\n",
       "    </tr>\n",
       "    <tr>\n",
       "      <th>...</th>\n",
       "      <td>...</td>\n",
       "      <td>...</td>\n",
       "      <td>...</td>\n",
       "      <td>...</td>\n",
       "    </tr>\n",
       "    <tr>\n",
       "      <th>2663</th>\n",
       "      <td>0</td>\n",
       "      <td>0</td>\n",
       "      <td>1</td>\n",
       "      <td>0</td>\n",
       "    </tr>\n",
       "    <tr>\n",
       "      <th>2664</th>\n",
       "      <td>0</td>\n",
       "      <td>1</td>\n",
       "      <td>0</td>\n",
       "      <td>0</td>\n",
       "    </tr>\n",
       "    <tr>\n",
       "      <th>2665</th>\n",
       "      <td>1</td>\n",
       "      <td>0</td>\n",
       "      <td>0</td>\n",
       "      <td>0</td>\n",
       "    </tr>\n",
       "    <tr>\n",
       "      <th>2666</th>\n",
       "      <td>0</td>\n",
       "      <td>1</td>\n",
       "      <td>0</td>\n",
       "      <td>0</td>\n",
       "    </tr>\n",
       "    <tr>\n",
       "      <th>2667</th>\n",
       "      <td>0</td>\n",
       "      <td>0</td>\n",
       "      <td>1</td>\n",
       "      <td>0</td>\n",
       "    </tr>\n",
       "  </tbody>\n",
       "</table>\n",
       "<p>2644 rows × 4 columns</p>\n",
       "</div>"
      ],
      "text/plain": [
       "      Accessories  Clothing  Footwear  Outerwear\n",
       "0               0         1         0          0\n",
       "2               0         1         0          0\n",
       "3               0         0         1          0\n",
       "5               0         0         1          0\n",
       "6               0         1         0          0\n",
       "...           ...       ...       ...        ...\n",
       "2663            0         0         1          0\n",
       "2664            0         1         0          0\n",
       "2665            1         0         0          0\n",
       "2666            0         1         0          0\n",
       "2667            0         0         1          0\n",
       "\n",
       "[2644 rows x 4 columns]"
      ]
     },
     "execution_count": 35,
     "metadata": {},
     "output_type": "execute_result"
    }
   ],
   "source": [
    "pd.get_dummies(df[\"Category\"],dtype=int)"
   ]
  },
  {
   "cell_type": "code",
   "execution_count": 36,
   "id": "1cd66508",
   "metadata": {},
   "outputs": [
    {
     "data": {
      "text/html": [
       "<div>\n",
       "<style scoped>\n",
       "    .dataframe tbody tr th:only-of-type {\n",
       "        vertical-align: middle;\n",
       "    }\n",
       "\n",
       "    .dataframe tbody tr th {\n",
       "        vertical-align: top;\n",
       "    }\n",
       "\n",
       "    .dataframe thead th {\n",
       "        text-align: right;\n",
       "    }\n",
       "</style>\n",
       "<table border=\"1\" class=\"dataframe\">\n",
       "  <thead>\n",
       "    <tr style=\"text-align: right;\">\n",
       "      <th></th>\n",
       "      <th>L</th>\n",
       "      <th>M</th>\n",
       "      <th>S</th>\n",
       "      <th>XL</th>\n",
       "    </tr>\n",
       "  </thead>\n",
       "  <tbody>\n",
       "    <tr>\n",
       "      <th>0</th>\n",
       "      <td>1</td>\n",
       "      <td>0</td>\n",
       "      <td>0</td>\n",
       "      <td>0</td>\n",
       "    </tr>\n",
       "    <tr>\n",
       "      <th>2</th>\n",
       "      <td>0</td>\n",
       "      <td>0</td>\n",
       "      <td>1</td>\n",
       "      <td>0</td>\n",
       "    </tr>\n",
       "    <tr>\n",
       "      <th>3</th>\n",
       "      <td>0</td>\n",
       "      <td>1</td>\n",
       "      <td>0</td>\n",
       "      <td>0</td>\n",
       "    </tr>\n",
       "    <tr>\n",
       "      <th>5</th>\n",
       "      <td>0</td>\n",
       "      <td>1</td>\n",
       "      <td>0</td>\n",
       "      <td>0</td>\n",
       "    </tr>\n",
       "    <tr>\n",
       "      <th>6</th>\n",
       "      <td>0</td>\n",
       "      <td>1</td>\n",
       "      <td>0</td>\n",
       "      <td>0</td>\n",
       "    </tr>\n",
       "    <tr>\n",
       "      <th>...</th>\n",
       "      <td>...</td>\n",
       "      <td>...</td>\n",
       "      <td>...</td>\n",
       "      <td>...</td>\n",
       "    </tr>\n",
       "    <tr>\n",
       "      <th>2663</th>\n",
       "      <td>0</td>\n",
       "      <td>1</td>\n",
       "      <td>0</td>\n",
       "      <td>0</td>\n",
       "    </tr>\n",
       "    <tr>\n",
       "      <th>2664</th>\n",
       "      <td>0</td>\n",
       "      <td>1</td>\n",
       "      <td>0</td>\n",
       "      <td>0</td>\n",
       "    </tr>\n",
       "    <tr>\n",
       "      <th>2665</th>\n",
       "      <td>0</td>\n",
       "      <td>1</td>\n",
       "      <td>0</td>\n",
       "      <td>0</td>\n",
       "    </tr>\n",
       "    <tr>\n",
       "      <th>2666</th>\n",
       "      <td>1</td>\n",
       "      <td>0</td>\n",
       "      <td>0</td>\n",
       "      <td>0</td>\n",
       "    </tr>\n",
       "    <tr>\n",
       "      <th>2667</th>\n",
       "      <td>0</td>\n",
       "      <td>1</td>\n",
       "      <td>0</td>\n",
       "      <td>0</td>\n",
       "    </tr>\n",
       "  </tbody>\n",
       "</table>\n",
       "<p>2644 rows × 4 columns</p>\n",
       "</div>"
      ],
      "text/plain": [
       "      L  M  S  XL\n",
       "0     1  0  0   0\n",
       "2     0  0  1   0\n",
       "3     0  1  0   0\n",
       "5     0  1  0   0\n",
       "6     0  1  0   0\n",
       "...  .. .. ..  ..\n",
       "2663  0  1  0   0\n",
       "2664  0  1  0   0\n",
       "2665  0  1  0   0\n",
       "2666  1  0  0   0\n",
       "2667  0  1  0   0\n",
       "\n",
       "[2644 rows x 4 columns]"
      ]
     },
     "execution_count": 36,
     "metadata": {},
     "output_type": "execute_result"
    }
   ],
   "source": [
    "pd.get_dummies(df[\"Size\"],dtype=int)"
   ]
  },
  {
   "cell_type": "code",
   "execution_count": 38,
   "id": "0fb218ee",
   "metadata": {},
   "outputs": [
    {
     "data": {
      "text/html": [
       "<div>\n",
       "<style scoped>\n",
       "    .dataframe tbody tr th:only-of-type {\n",
       "        vertical-align: middle;\n",
       "    }\n",
       "\n",
       "    .dataframe tbody tr th {\n",
       "        vertical-align: top;\n",
       "    }\n",
       "\n",
       "    .dataframe thead th {\n",
       "        text-align: right;\n",
       "    }\n",
       "</style>\n",
       "<table border=\"1\" class=\"dataframe\">\n",
       "  <thead>\n",
       "    <tr style=\"text-align: right;\">\n",
       "      <th></th>\n",
       "      <th>No</th>\n",
       "      <th>Yes</th>\n",
       "    </tr>\n",
       "  </thead>\n",
       "  <tbody>\n",
       "    <tr>\n",
       "      <th>0</th>\n",
       "      <td>0</td>\n",
       "      <td>1</td>\n",
       "    </tr>\n",
       "    <tr>\n",
       "      <th>2</th>\n",
       "      <td>0</td>\n",
       "      <td>1</td>\n",
       "    </tr>\n",
       "    <tr>\n",
       "      <th>3</th>\n",
       "      <td>0</td>\n",
       "      <td>1</td>\n",
       "    </tr>\n",
       "    <tr>\n",
       "      <th>5</th>\n",
       "      <td>0</td>\n",
       "      <td>1</td>\n",
       "    </tr>\n",
       "    <tr>\n",
       "      <th>6</th>\n",
       "      <td>0</td>\n",
       "      <td>1</td>\n",
       "    </tr>\n",
       "    <tr>\n",
       "      <th>...</th>\n",
       "      <td>...</td>\n",
       "      <td>...</td>\n",
       "    </tr>\n",
       "    <tr>\n",
       "      <th>2663</th>\n",
       "      <td>1</td>\n",
       "      <td>0</td>\n",
       "    </tr>\n",
       "    <tr>\n",
       "      <th>2664</th>\n",
       "      <td>1</td>\n",
       "      <td>0</td>\n",
       "    </tr>\n",
       "    <tr>\n",
       "      <th>2665</th>\n",
       "      <td>1</td>\n",
       "      <td>0</td>\n",
       "    </tr>\n",
       "    <tr>\n",
       "      <th>2666</th>\n",
       "      <td>1</td>\n",
       "      <td>0</td>\n",
       "    </tr>\n",
       "    <tr>\n",
       "      <th>2667</th>\n",
       "      <td>1</td>\n",
       "      <td>0</td>\n",
       "    </tr>\n",
       "  </tbody>\n",
       "</table>\n",
       "<p>2644 rows × 2 columns</p>\n",
       "</div>"
      ],
      "text/plain": [
       "      No  Yes\n",
       "0      0    1\n",
       "2      0    1\n",
       "3      0    1\n",
       "5      0    1\n",
       "6      0    1\n",
       "...   ..  ...\n",
       "2663   1    0\n",
       "2664   1    0\n",
       "2665   1    0\n",
       "2666   1    0\n",
       "2667   1    0\n",
       "\n",
       "[2644 rows x 2 columns]"
      ]
     },
     "execution_count": 38,
     "metadata": {},
     "output_type": "execute_result"
    }
   ],
   "source": [
    "pd.get_dummies(df[\"SubscriptionStatus\"],dtype=int)"
   ]
  },
  {
   "cell_type": "code",
   "execution_count": 39,
   "id": "f7895e02",
   "metadata": {},
   "outputs": [
    {
     "data": {
      "text/html": [
       "<div>\n",
       "<style scoped>\n",
       "    .dataframe tbody tr th:only-of-type {\n",
       "        vertical-align: middle;\n",
       "    }\n",
       "\n",
       "    .dataframe tbody tr th {\n",
       "        vertical-align: top;\n",
       "    }\n",
       "\n",
       "    .dataframe thead th {\n",
       "        text-align: right;\n",
       "    }\n",
       "</style>\n",
       "<table border=\"1\" class=\"dataframe\">\n",
       "  <thead>\n",
       "    <tr style=\"text-align: right;\">\n",
       "      <th></th>\n",
       "      <th>Fall</th>\n",
       "      <th>Spring</th>\n",
       "      <th>Summer</th>\n",
       "      <th>Winter</th>\n",
       "    </tr>\n",
       "  </thead>\n",
       "  <tbody>\n",
       "    <tr>\n",
       "      <th>0</th>\n",
       "      <td>0</td>\n",
       "      <td>0</td>\n",
       "      <td>0</td>\n",
       "      <td>1</td>\n",
       "    </tr>\n",
       "    <tr>\n",
       "      <th>2</th>\n",
       "      <td>0</td>\n",
       "      <td>1</td>\n",
       "      <td>0</td>\n",
       "      <td>0</td>\n",
       "    </tr>\n",
       "    <tr>\n",
       "      <th>3</th>\n",
       "      <td>0</td>\n",
       "      <td>1</td>\n",
       "      <td>0</td>\n",
       "      <td>0</td>\n",
       "    </tr>\n",
       "    <tr>\n",
       "      <th>5</th>\n",
       "      <td>0</td>\n",
       "      <td>0</td>\n",
       "      <td>1</td>\n",
       "      <td>0</td>\n",
       "    </tr>\n",
       "    <tr>\n",
       "      <th>6</th>\n",
       "      <td>1</td>\n",
       "      <td>0</td>\n",
       "      <td>0</td>\n",
       "      <td>0</td>\n",
       "    </tr>\n",
       "    <tr>\n",
       "      <th>...</th>\n",
       "      <td>...</td>\n",
       "      <td>...</td>\n",
       "      <td>...</td>\n",
       "      <td>...</td>\n",
       "    </tr>\n",
       "    <tr>\n",
       "      <th>2663</th>\n",
       "      <td>0</td>\n",
       "      <td>0</td>\n",
       "      <td>1</td>\n",
       "      <td>0</td>\n",
       "    </tr>\n",
       "    <tr>\n",
       "      <th>2664</th>\n",
       "      <td>0</td>\n",
       "      <td>1</td>\n",
       "      <td>0</td>\n",
       "      <td>0</td>\n",
       "    </tr>\n",
       "    <tr>\n",
       "      <th>2665</th>\n",
       "      <td>1</td>\n",
       "      <td>0</td>\n",
       "      <td>0</td>\n",
       "      <td>0</td>\n",
       "    </tr>\n",
       "    <tr>\n",
       "      <th>2666</th>\n",
       "      <td>0</td>\n",
       "      <td>0</td>\n",
       "      <td>1</td>\n",
       "      <td>0</td>\n",
       "    </tr>\n",
       "    <tr>\n",
       "      <th>2667</th>\n",
       "      <td>0</td>\n",
       "      <td>0</td>\n",
       "      <td>1</td>\n",
       "      <td>0</td>\n",
       "    </tr>\n",
       "  </tbody>\n",
       "</table>\n",
       "<p>2644 rows × 4 columns</p>\n",
       "</div>"
      ],
      "text/plain": [
       "      Fall  Spring  Summer  Winter\n",
       "0        0       0       0       1\n",
       "2        0       1       0       0\n",
       "3        0       1       0       0\n",
       "5        0       0       1       0\n",
       "6        1       0       0       0\n",
       "...    ...     ...     ...     ...\n",
       "2663     0       0       1       0\n",
       "2664     0       1       0       0\n",
       "2665     1       0       0       0\n",
       "2666     0       0       1       0\n",
       "2667     0       0       1       0\n",
       "\n",
       "[2644 rows x 4 columns]"
      ]
     },
     "execution_count": 39,
     "metadata": {},
     "output_type": "execute_result"
    }
   ],
   "source": [
    "pd.get_dummies(df[\"Season\"],dtype=int)"
   ]
  },
  {
   "cell_type": "code",
   "execution_count": 40,
   "id": "d9f290f4",
   "metadata": {},
   "outputs": [
    {
     "data": {
      "text/html": [
       "<div>\n",
       "<style scoped>\n",
       "    .dataframe tbody tr th:only-of-type {\n",
       "        vertical-align: middle;\n",
       "    }\n",
       "\n",
       "    .dataframe tbody tr th {\n",
       "        vertical-align: top;\n",
       "    }\n",
       "\n",
       "    .dataframe thead th {\n",
       "        text-align: right;\n",
       "    }\n",
       "</style>\n",
       "<table border=\"1\" class=\"dataframe\">\n",
       "  <thead>\n",
       "    <tr style=\"text-align: right;\">\n",
       "      <th></th>\n",
       "      <th>No</th>\n",
       "      <th>Yes</th>\n",
       "    </tr>\n",
       "  </thead>\n",
       "  <tbody>\n",
       "    <tr>\n",
       "      <th>0</th>\n",
       "      <td>0</td>\n",
       "      <td>1</td>\n",
       "    </tr>\n",
       "    <tr>\n",
       "      <th>2</th>\n",
       "      <td>0</td>\n",
       "      <td>1</td>\n",
       "    </tr>\n",
       "    <tr>\n",
       "      <th>3</th>\n",
       "      <td>0</td>\n",
       "      <td>1</td>\n",
       "    </tr>\n",
       "    <tr>\n",
       "      <th>5</th>\n",
       "      <td>0</td>\n",
       "      <td>1</td>\n",
       "    </tr>\n",
       "    <tr>\n",
       "      <th>6</th>\n",
       "      <td>0</td>\n",
       "      <td>1</td>\n",
       "    </tr>\n",
       "    <tr>\n",
       "      <th>...</th>\n",
       "      <td>...</td>\n",
       "      <td>...</td>\n",
       "    </tr>\n",
       "    <tr>\n",
       "      <th>2663</th>\n",
       "      <td>1</td>\n",
       "      <td>0</td>\n",
       "    </tr>\n",
       "    <tr>\n",
       "      <th>2664</th>\n",
       "      <td>1</td>\n",
       "      <td>0</td>\n",
       "    </tr>\n",
       "    <tr>\n",
       "      <th>2665</th>\n",
       "      <td>1</td>\n",
       "      <td>0</td>\n",
       "    </tr>\n",
       "    <tr>\n",
       "      <th>2666</th>\n",
       "      <td>1</td>\n",
       "      <td>0</td>\n",
       "    </tr>\n",
       "    <tr>\n",
       "      <th>2667</th>\n",
       "      <td>1</td>\n",
       "      <td>0</td>\n",
       "    </tr>\n",
       "  </tbody>\n",
       "</table>\n",
       "<p>2644 rows × 2 columns</p>\n",
       "</div>"
      ],
      "text/plain": [
       "      No  Yes\n",
       "0      0    1\n",
       "2      0    1\n",
       "3      0    1\n",
       "5      0    1\n",
       "6      0    1\n",
       "...   ..  ...\n",
       "2663   1    0\n",
       "2664   1    0\n",
       "2665   1    0\n",
       "2666   1    0\n",
       "2667   1    0\n",
       "\n",
       "[2644 rows x 2 columns]"
      ]
     },
     "execution_count": 40,
     "metadata": {},
     "output_type": "execute_result"
    }
   ],
   "source": [
    "pd.get_dummies(df[\"DiscountApplied\"],dtype=int)"
   ]
  },
  {
   "cell_type": "code",
   "execution_count": 41,
   "id": "aaee9805",
   "metadata": {},
   "outputs": [
    {
     "data": {
      "text/html": [
       "<div>\n",
       "<style scoped>\n",
       "    .dataframe tbody tr th:only-of-type {\n",
       "        vertical-align: middle;\n",
       "    }\n",
       "\n",
       "    .dataframe tbody tr th {\n",
       "        vertical-align: top;\n",
       "    }\n",
       "\n",
       "    .dataframe thead th {\n",
       "        text-align: right;\n",
       "    }\n",
       "</style>\n",
       "<table border=\"1\" class=\"dataframe\">\n",
       "  <thead>\n",
       "    <tr style=\"text-align: right;\">\n",
       "      <th></th>\n",
       "      <th>No</th>\n",
       "      <th>Yes</th>\n",
       "    </tr>\n",
       "  </thead>\n",
       "  <tbody>\n",
       "    <tr>\n",
       "      <th>0</th>\n",
       "      <td>0</td>\n",
       "      <td>1</td>\n",
       "    </tr>\n",
       "    <tr>\n",
       "      <th>2</th>\n",
       "      <td>0</td>\n",
       "      <td>1</td>\n",
       "    </tr>\n",
       "    <tr>\n",
       "      <th>3</th>\n",
       "      <td>0</td>\n",
       "      <td>1</td>\n",
       "    </tr>\n",
       "    <tr>\n",
       "      <th>5</th>\n",
       "      <td>0</td>\n",
       "      <td>1</td>\n",
       "    </tr>\n",
       "    <tr>\n",
       "      <th>6</th>\n",
       "      <td>0</td>\n",
       "      <td>1</td>\n",
       "    </tr>\n",
       "    <tr>\n",
       "      <th>...</th>\n",
       "      <td>...</td>\n",
       "      <td>...</td>\n",
       "    </tr>\n",
       "    <tr>\n",
       "      <th>2663</th>\n",
       "      <td>1</td>\n",
       "      <td>0</td>\n",
       "    </tr>\n",
       "    <tr>\n",
       "      <th>2664</th>\n",
       "      <td>1</td>\n",
       "      <td>0</td>\n",
       "    </tr>\n",
       "    <tr>\n",
       "      <th>2665</th>\n",
       "      <td>1</td>\n",
       "      <td>0</td>\n",
       "    </tr>\n",
       "    <tr>\n",
       "      <th>2666</th>\n",
       "      <td>1</td>\n",
       "      <td>0</td>\n",
       "    </tr>\n",
       "    <tr>\n",
       "      <th>2667</th>\n",
       "      <td>1</td>\n",
       "      <td>0</td>\n",
       "    </tr>\n",
       "  </tbody>\n",
       "</table>\n",
       "<p>2644 rows × 2 columns</p>\n",
       "</div>"
      ],
      "text/plain": [
       "      No  Yes\n",
       "0      0    1\n",
       "2      0    1\n",
       "3      0    1\n",
       "5      0    1\n",
       "6      0    1\n",
       "...   ..  ...\n",
       "2663   1    0\n",
       "2664   1    0\n",
       "2665   1    0\n",
       "2666   1    0\n",
       "2667   1    0\n",
       "\n",
       "[2644 rows x 2 columns]"
      ]
     },
     "execution_count": 41,
     "metadata": {},
     "output_type": "execute_result"
    }
   ],
   "source": [
    "pd.get_dummies(df[\"PromoCodeUsed\"],dtype=int)"
   ]
  },
  {
   "cell_type": "markdown",
   "id": "a073807c",
   "metadata": {},
   "source": [
    "### Scaling"
   ]
  },
  {
   "cell_type": "code",
   "execution_count": 42,
   "id": "cf4a38b3",
   "metadata": {},
   "outputs": [
    {
     "data": {
      "text/html": [
       "<div>\n",
       "<style scoped>\n",
       "    .dataframe tbody tr th:only-of-type {\n",
       "        vertical-align: middle;\n",
       "    }\n",
       "\n",
       "    .dataframe tbody tr th {\n",
       "        vertical-align: top;\n",
       "    }\n",
       "\n",
       "    .dataframe thead th {\n",
       "        text-align: right;\n",
       "    }\n",
       "</style>\n",
       "<table border=\"1\" class=\"dataframe\">\n",
       "  <thead>\n",
       "    <tr style=\"text-align: right;\">\n",
       "      <th></th>\n",
       "      <th>Age</th>\n",
       "      <th>ItemPurchased</th>\n",
       "      <th>Category</th>\n",
       "      <th>PurchaseAmount(USD)</th>\n",
       "      <th>Location</th>\n",
       "      <th>Size</th>\n",
       "      <th>Color</th>\n",
       "      <th>Season</th>\n",
       "      <th>ReviewRating</th>\n",
       "      <th>SubscriptionStatus</th>\n",
       "      <th>ShippingType</th>\n",
       "      <th>DiscountApplied</th>\n",
       "      <th>PromoCodeUsed</th>\n",
       "      <th>PreviousPurchases</th>\n",
       "      <th>PaymentMethod</th>\n",
       "      <th>FrequencyofPurchases</th>\n",
       "    </tr>\n",
       "  </thead>\n",
       "  <tbody>\n",
       "    <tr>\n",
       "      <th>0</th>\n",
       "      <td>55.0</td>\n",
       "      <td>Blouse</td>\n",
       "      <td>Clothing</td>\n",
       "      <td>53</td>\n",
       "      <td>Kentucky</td>\n",
       "      <td>L</td>\n",
       "      <td>Gray</td>\n",
       "      <td>Winter</td>\n",
       "      <td>3.099609</td>\n",
       "      <td>Yes</td>\n",
       "      <td>Express</td>\n",
       "      <td>Yes</td>\n",
       "      <td>Yes</td>\n",
       "      <td>14</td>\n",
       "      <td>Venmo</td>\n",
       "      <td>Fortnightly</td>\n",
       "    </tr>\n",
       "    <tr>\n",
       "      <th>2</th>\n",
       "      <td>50.0</td>\n",
       "      <td>Jeans</td>\n",
       "      <td>Clothing</td>\n",
       "      <td>73</td>\n",
       "      <td>Massachusetts</td>\n",
       "      <td>S</td>\n",
       "      <td>Maroon</td>\n",
       "      <td>Spring</td>\n",
       "      <td>3.099609</td>\n",
       "      <td>Yes</td>\n",
       "      <td>Free Shipping</td>\n",
       "      <td>Yes</td>\n",
       "      <td>Yes</td>\n",
       "      <td>23</td>\n",
       "      <td>Credit Card</td>\n",
       "      <td>Weekly</td>\n",
       "    </tr>\n",
       "    <tr>\n",
       "      <th>3</th>\n",
       "      <td>21.0</td>\n",
       "      <td>Sandals</td>\n",
       "      <td>Footwear</td>\n",
       "      <td>90</td>\n",
       "      <td>Rhode Island</td>\n",
       "      <td>M</td>\n",
       "      <td>Maroon</td>\n",
       "      <td>Spring</td>\n",
       "      <td>3.500000</td>\n",
       "      <td>Yes</td>\n",
       "      <td>Next Day Air</td>\n",
       "      <td>Yes</td>\n",
       "      <td>Yes</td>\n",
       "      <td>49</td>\n",
       "      <td>PayPal</td>\n",
       "      <td>Weekly</td>\n",
       "    </tr>\n",
       "    <tr>\n",
       "      <th>5</th>\n",
       "      <td>46.0</td>\n",
       "      <td>Sneakers</td>\n",
       "      <td>Footwear</td>\n",
       "      <td>20</td>\n",
       "      <td>Wyoming</td>\n",
       "      <td>M</td>\n",
       "      <td>White</td>\n",
       "      <td>Summer</td>\n",
       "      <td>2.900391</td>\n",
       "      <td>Yes</td>\n",
       "      <td>Standard</td>\n",
       "      <td>Yes</td>\n",
       "      <td>Yes</td>\n",
       "      <td>14</td>\n",
       "      <td>Venmo</td>\n",
       "      <td>Weekly</td>\n",
       "    </tr>\n",
       "    <tr>\n",
       "      <th>6</th>\n",
       "      <td>63.0</td>\n",
       "      <td>Shirt</td>\n",
       "      <td>Clothing</td>\n",
       "      <td>85</td>\n",
       "      <td>Montana</td>\n",
       "      <td>M</td>\n",
       "      <td>Gray</td>\n",
       "      <td>Fall</td>\n",
       "      <td>3.199219</td>\n",
       "      <td>Yes</td>\n",
       "      <td>Free Shipping</td>\n",
       "      <td>Yes</td>\n",
       "      <td>Yes</td>\n",
       "      <td>49</td>\n",
       "      <td>Cash</td>\n",
       "      <td>Quarterly</td>\n",
       "    </tr>\n",
       "  </tbody>\n",
       "</table>\n",
       "</div>"
      ],
      "text/plain": [
       "    Age ItemPurchased  Category  PurchaseAmount(USD)       Location Size  \\\n",
       "0  55.0        Blouse  Clothing                   53       Kentucky    L   \n",
       "2  50.0         Jeans  Clothing                   73  Massachusetts    S   \n",
       "3  21.0       Sandals  Footwear                   90   Rhode Island    M   \n",
       "5  46.0      Sneakers  Footwear                   20        Wyoming    M   \n",
       "6  63.0         Shirt  Clothing                   85        Montana    M   \n",
       "\n",
       "    Color  Season  ReviewRating SubscriptionStatus   ShippingType  \\\n",
       "0    Gray  Winter      3.099609                Yes        Express   \n",
       "2  Maroon  Spring      3.099609                Yes  Free Shipping   \n",
       "3  Maroon  Spring      3.500000                Yes   Next Day Air   \n",
       "5   White  Summer      2.900391                Yes       Standard   \n",
       "6    Gray    Fall      3.199219                Yes  Free Shipping   \n",
       "\n",
       "  DiscountApplied PromoCodeUsed  PreviousPurchases PaymentMethod  \\\n",
       "0             Yes           Yes                 14         Venmo   \n",
       "2             Yes           Yes                 23   Credit Card   \n",
       "3             Yes           Yes                 49        PayPal   \n",
       "5             Yes           Yes                 14         Venmo   \n",
       "6             Yes           Yes                 49          Cash   \n",
       "\n",
       "  FrequencyofPurchases  \n",
       "0          Fortnightly  \n",
       "2               Weekly  \n",
       "3               Weekly  \n",
       "5               Weekly  \n",
       "6            Quarterly  "
      ]
     },
     "execution_count": 42,
     "metadata": {},
     "output_type": "execute_result"
    }
   ],
   "source": [
    "df.head(5)"
   ]
  },
  {
   "cell_type": "code",
   "execution_count": 43,
   "id": "2926c920",
   "metadata": {},
   "outputs": [
    {
     "data": {
      "text/plain": [
       "44.10287443267776"
      ]
     },
     "execution_count": 43,
     "metadata": {},
     "output_type": "execute_result"
    }
   ],
   "source": [
    "df['Age'].mean()"
   ]
  },
  {
   "cell_type": "code",
   "execution_count": 44,
   "id": "554cf17b",
   "metadata": {},
   "outputs": [
    {
     "data": {
      "text/plain": [
       "44.0"
      ]
     },
     "execution_count": 44,
     "metadata": {},
     "output_type": "execute_result"
    }
   ],
   "source": [
    "df['Age'].median()"
   ]
  },
  {
   "cell_type": "code",
   "execution_count": 45,
   "id": "627aa55f",
   "metadata": {},
   "outputs": [
    {
     "data": {
      "text/plain": [
       "0       0.711538\n",
       "2       0.615385\n",
       "3       0.057692\n",
       "5       0.538462\n",
       "6       0.865385\n",
       "          ...   \n",
       "2663    0.807692\n",
       "2664    0.634615\n",
       "2665    0.096154\n",
       "2666    0.038462\n",
       "2667    0.634615\n",
       "Name: Age, Length: 2644, dtype: float64"
      ]
     },
     "execution_count": 45,
     "metadata": {},
     "output_type": "execute_result"
    }
   ],
   "source": [
    "def normalization(x):\n",
    "    n = (x-df[\"Age\"].min())/(df[\"Age\"].max()-df[\"Age\"].min())\n",
    "    return n\n",
    "df[\"Age\"].apply(normalization)"
   ]
  },
  {
   "cell_type": "code",
   "execution_count": 47,
   "id": "89f86d90",
   "metadata": {},
   "outputs": [
    {
     "data": {
      "text/plain": [
       "59.55824508320726"
      ]
     },
     "execution_count": 47,
     "metadata": {},
     "output_type": "execute_result"
    }
   ],
   "source": [
    "df['PurchaseAmount(USD)'].mean()"
   ]
  },
  {
   "cell_type": "code",
   "execution_count": 48,
   "id": "02f2f888",
   "metadata": {},
   "outputs": [
    {
     "data": {
      "text/plain": [
       "60.0"
      ]
     },
     "execution_count": 48,
     "metadata": {},
     "output_type": "execute_result"
    }
   ],
   "source": [
    "df['PurchaseAmount(USD)'].median()"
   ]
  },
  {
   "cell_type": "code",
   "execution_count": 49,
   "id": "87e9afae",
   "metadata": {},
   "outputs": [
    {
     "data": {
      "text/plain": [
       "0       0.4125\n",
       "2       0.6625\n",
       "3       0.8750\n",
       "5       0.0000\n",
       "6       0.8125\n",
       "         ...  \n",
       "2663    0.4750\n",
       "2664    0.8000\n",
       "2665    0.0125\n",
       "2666    0.1875\n",
       "2667    0.2875\n",
       "Name: PurchaseAmount(USD), Length: 2644, dtype: float64"
      ]
     },
     "execution_count": 49,
     "metadata": {},
     "output_type": "execute_result"
    }
   ],
   "source": [
    "def normalization(x):\n",
    "    n = (x-df[\"PurchaseAmount(USD)\"].min())/(df[\"PurchaseAmount(USD)\"].max()-df[\"PurchaseAmount(USD)\"].min())\n",
    "    return n\n",
    "df[\"PurchaseAmount(USD)\"].apply(normalization)"
   ]
  },
  {
   "cell_type": "code",
   "execution_count": 50,
   "id": "f306c65e",
   "metadata": {},
   "outputs": [
    {
     "data": {
      "text/plain": [
       "3.756"
      ]
     },
     "execution_count": 50,
     "metadata": {},
     "output_type": "execute_result"
    }
   ],
   "source": [
    "df['ReviewRating'].mean()"
   ]
  },
  {
   "cell_type": "code",
   "execution_count": 51,
   "id": "4d214cab",
   "metadata": {},
   "outputs": [
    {
     "data": {
      "text/plain": [
       "3.8"
      ]
     },
     "execution_count": 51,
     "metadata": {},
     "output_type": "execute_result"
    }
   ],
   "source": [
    "df['ReviewRating'].median()"
   ]
  },
  {
   "cell_type": "code",
   "execution_count": 52,
   "id": "d5ae228b",
   "metadata": {},
   "outputs": [
    {
     "data": {
      "text/plain": [
       "0       0.239844\n",
       "2       0.239844\n",
       "3       0.400000\n",
       "5       0.160156\n",
       "6       0.279687\n",
       "          ...   \n",
       "2663    0.320312\n",
       "2664    0.560156\n",
       "2665    0.560156\n",
       "2666    0.679688\n",
       "2667    0.840625\n",
       "Name: ReviewRating, Length: 2644, dtype: float64"
      ]
     },
     "execution_count": 52,
     "metadata": {},
     "output_type": "execute_result"
    }
   ],
   "source": [
    "def normalization(x):\n",
    "    n = (x-df[\"ReviewRating\"].min())/(df[\"ReviewRating\"].max()-df[\"ReviewRating\"].min())\n",
    "    return n\n",
    "df[\"ReviewRating\"].apply(normalization)"
   ]
  },
  {
   "cell_type": "code",
   "execution_count": 53,
   "id": "19bd15c7",
   "metadata": {},
   "outputs": [
    {
     "data": {
      "text/plain": [
       "25.74735249621785"
      ]
     },
     "execution_count": 53,
     "metadata": {},
     "output_type": "execute_result"
    }
   ],
   "source": [
    "df['PreviousPurchases'].mean()"
   ]
  },
  {
   "cell_type": "code",
   "execution_count": 54,
   "id": "b7f4ef1a",
   "metadata": {},
   "outputs": [
    {
     "data": {
      "text/plain": [
       "26.0"
      ]
     },
     "execution_count": 54,
     "metadata": {},
     "output_type": "execute_result"
    }
   ],
   "source": [
    "df['PreviousPurchases'].median()"
   ]
  },
  {
   "cell_type": "code",
   "execution_count": 55,
   "id": "43b06883",
   "metadata": {},
   "outputs": [
    {
     "data": {
      "text/plain": [
       "0       0.265306\n",
       "2       0.448980\n",
       "3       0.979592\n",
       "5       0.265306\n",
       "6       0.979592\n",
       "          ...   \n",
       "2663    0.489796\n",
       "2664    0.265306\n",
       "2665    0.265306\n",
       "2666    0.918367\n",
       "2667    0.530612\n",
       "Name: PreviousPurchases, Length: 2644, dtype: float64"
      ]
     },
     "execution_count": 55,
     "metadata": {},
     "output_type": "execute_result"
    }
   ],
   "source": [
    "def normalization(x):\n",
    "    n = (x-df[\"PreviousPurchases\"].min())/(df[\"PreviousPurchases\"].max()-df[\"PreviousPurchases\"].min())\n",
    "    return n\n",
    "df[\"PreviousPurchases\"].apply(normalization)"
   ]
  },
  {
   "cell_type": "code",
   "execution_count": null,
   "id": "bccda6ac",
   "metadata": {},
   "outputs": [],
   "source": []
  }
 ],
 "metadata": {
  "kernelspec": {
   "display_name": "Python 3 (ipykernel)",
   "language": "python",
   "name": "python3"
  },
  "language_info": {
   "codemirror_mode": {
    "name": "ipython",
    "version": 3
   },
   "file_extension": ".py",
   "mimetype": "text/x-python",
   "name": "python",
   "nbconvert_exporter": "python",
   "pygments_lexer": "ipython3",
   "version": "3.11.4"
  }
 },
 "nbformat": 4,
 "nbformat_minor": 5
}
