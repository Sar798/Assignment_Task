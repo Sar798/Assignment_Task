{
 "cells": [
  {
   "cell_type": "markdown",
   "id": "d1069618",
   "metadata": {},
   "source": [
    "## creating dict and gives names fruits and prices?\n",
    "### what are the fruits available in the basket\n",
    "### write a progrm if i  purchase 3apple 2 orange\n",
    "### add fruit+\"fruit\" for every dict\n",
    "### find the avg of fruits\n",
    "### which fruit is containig less than 5 character"
   ]
  },
  {
   "cell_type": "code",
   "execution_count": 9,
   "id": "64370d57",
   "metadata": {},
   "outputs": [
    {
     "data": {
      "text/plain": [
       "{'apple': 15, 'orange': 20, 'grape': 40, 'kiwi': 80, 'dragon': 100}"
      ]
     },
     "execution_count": 9,
     "metadata": {},
     "output_type": "execute_result"
    }
   ],
   "source": [
    "Fruits = {\"apple\":15, \"orange\": 20, \"grape\":40, \"kiwi\":80, \"dragon\":100}\n",
    "Fruits"
   ]
  },
  {
   "cell_type": "code",
   "execution_count": 10,
   "id": "9138a895",
   "metadata": {},
   "outputs": [
    {
     "name": "stdout",
     "output_type": "stream",
     "text": [
      "apple fruit\n",
      "orange fruit\n",
      "grape fruit\n",
      "kiwi fruit\n",
      "dragon fruit\n"
     ]
    }
   ],
   "source": [
    "for i in Fruits:\n",
    "    print(i + \" fruit\")"
   ]
  },
  {
   "cell_type": "code",
   "execution_count": 11,
   "id": "27343c09",
   "metadata": {},
   "outputs": [
    {
     "name": "stdout",
     "output_type": "stream",
     "text": [
      "apple\n",
      "orange\n",
      "grape\n",
      "kiwi\n",
      "dragon\n"
     ]
    }
   ],
   "source": [
    "for i in Fruits:\n",
    "    print(i)"
   ]
  },
  {
   "cell_type": "code",
   "execution_count": 12,
   "id": "5dd80c54",
   "metadata": {},
   "outputs": [
    {
     "name": "stdout",
     "output_type": "stream",
     "text": [
      "kiwi\n"
     ]
    }
   ],
   "source": [
    "for i in Fruits:\n",
    "    if len(i)<5:\n",
    "        print(i)"
   ]
  },
  {
   "cell_type": "code",
   "execution_count": 14,
   "id": "a7cad83f",
   "metadata": {},
   "outputs": [
    {
     "name": "stdout",
     "output_type": "stream",
     "text": [
      "85\n"
     ]
    }
   ],
   "source": [
    "for i in Fruits:\n",
    "    if i == \"orange\" or i == \"apple\":\n",
    "        if i == \"orange\":\n",
    "            org = Fruits[i]*2\n",
    "        else:\n",
    "            apple = Fruits[i]*3\n",
    "print(org+apple)"
   ]
  },
  {
   "cell_type": "code",
   "execution_count": 17,
   "id": "c966caa6",
   "metadata": {},
   "outputs": [
    {
     "name": "stdout",
     "output_type": "stream",
     "text": [
      "51.0\n"
     ]
    }
   ],
   "source": [
    "Sum = 0  \n",
    "for i in Fruits.values():\n",
    "    Sum  += i\n",
    "no_of_val = len(Fruits)\n",
    "avg = Sum/no_of_val\n",
    "print(avg) "
   ]
  },
  {
   "cell_type": "code",
   "execution_count": null,
   "id": "093908b7",
   "metadata": {},
   "outputs": [],
   "source": []
  },
  {
   "cell_type": "code",
   "execution_count": null,
   "id": "6077ec36",
   "metadata": {},
   "outputs": [],
   "source": []
  }
 ],
 "metadata": {
  "kernelspec": {
   "display_name": "Python 3 (ipykernel)",
   "language": "python",
   "name": "python3"
  },
  "language_info": {
   "codemirror_mode": {
    "name": "ipython",
    "version": 3
   },
   "file_extension": ".py",
   "mimetype": "text/x-python",
   "name": "python",
   "nbconvert_exporter": "python",
   "pygments_lexer": "ipython3",
   "version": "3.11.4"
  }
 },
 "nbformat": 4,
 "nbformat_minor": 5
}
