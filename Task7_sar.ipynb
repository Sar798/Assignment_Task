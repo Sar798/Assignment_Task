{
 "cells": [
  {
   "cell_type": "markdown",
   "id": "74539b1c",
   "metadata": {},
   "source": [
    "Task 1: Dictionary Basics Create a Python program that defines a dictionary to store information about your favorite book. Include the title, author, publication year, and genre as key-value pairs. Print out the dictionary.and do atleast 5 dictionary methods on it.\n",
    "\n",
    "Task 2: Dictionary Lookup Write a Python program that simulates a simple dictionary for translating English words to Spanish. Define a dictionary containing a few English words as keys and their corresponding Spanish translations as values. Allow users to enter an English word, and then display its Spanish translation if it exists in the dictionary.(use google for English to Spanish translator)\n",
    "\n",
    "Task 3: Student Grades Create a Python program that stores the grades of five students in a dictionary. Allow users to input the names of the students and their respective grades. Calculate and display the average grade of the students.\n",
    "\n",
    "Task 4: Contact List Build a basic contact list using a dictionary. Initially, the dictionary can be empty. Allow users to add new contacts with names and phone numbers. Users should also be able to search for contacts by name and display their phone numbers(use in operator).\n",
    "\n",
    "Task 5: Dictionary Iteration Write a Python program that defines a dictionary containing the names of fruits as keys and their corresponding colors as values (e.g., 'apple': 'red').Do atleast 5 dictionary methods on it."
   ]
  },
  {
   "cell_type": "markdown",
   "id": "fac4c1e4",
   "metadata": {},
   "source": [
    "## Task 1: Dictionary Basics Create a Python program that defines a dictionary to store information about your favorite book. Include the title, author, publication year, and genre as key-value pairs. Print out the dictionary.and do atleast 5 dictionary methods on it."
   ]
  },
  {
   "cell_type": "code",
   "execution_count": 1,
   "id": "8b1713fc",
   "metadata": {},
   "outputs": [
    {
     "data": {
      "text/plain": [
       "{'Title': 'DotNet',\n",
       " 'Author': 'SharadKumar',\n",
       " 'Publication_year': 2009,\n",
       " 'genre': 'High_Education'}"
      ]
     },
     "execution_count": 1,
     "metadata": {},
     "output_type": "execute_result"
    }
   ],
   "source": [
    "book = {\"Title\":\"DotNet\",\"Author\":\"SharadKumar\",\"Publication_year\":2009,\"genre\":\"High_Education\"}\n",
    "book"
   ]
  },
  {
   "cell_type": "code",
   "execution_count": 2,
   "id": "8e796aa2",
   "metadata": {},
   "outputs": [
    {
     "data": {
      "text/plain": [
       "dict_keys(['Title', 'Author', 'Publication_year', 'genre'])"
      ]
     },
     "execution_count": 2,
     "metadata": {},
     "output_type": "execute_result"
    }
   ],
   "source": [
    "book.keys()"
   ]
  },
  {
   "cell_type": "code",
   "execution_count": 3,
   "id": "dd0b375b",
   "metadata": {},
   "outputs": [
    {
     "data": {
      "text/plain": [
       "dict_values(['DotNet', 'SharadKumar', 2009, 'High_Education'])"
      ]
     },
     "execution_count": 3,
     "metadata": {},
     "output_type": "execute_result"
    }
   ],
   "source": [
    "book.values()"
   ]
  },
  {
   "cell_type": "code",
   "execution_count": 7,
   "id": "d70ecb2e",
   "metadata": {},
   "outputs": [
    {
     "data": {
      "text/plain": [
       "'SharadKumar'"
      ]
     },
     "execution_count": 7,
     "metadata": {},
     "output_type": "execute_result"
    }
   ],
   "source": [
    "book.get(\"Author\")"
   ]
  },
  {
   "cell_type": "code",
   "execution_count": 9,
   "id": "11eb3e2e",
   "metadata": {},
   "outputs": [
    {
     "data": {
      "text/plain": [
       "dict"
      ]
     },
     "execution_count": 9,
     "metadata": {},
     "output_type": "execute_result"
    }
   ],
   "source": [
    "type(book)"
   ]
  },
  {
   "cell_type": "code",
   "execution_count": 10,
   "id": "820b168a",
   "metadata": {},
   "outputs": [
    {
     "data": {
      "text/plain": [
       "dict_items([('Title', 'DotNet'), ('Author', 'SharadKumar'), ('Publication_year', 2009), ('genre', 'High_Education')])"
      ]
     },
     "execution_count": 10,
     "metadata": {},
     "output_type": "execute_result"
    }
   ],
   "source": [
    "book.items()"
   ]
  },
  {
   "cell_type": "code",
   "execution_count": 12,
   "id": "c1842258",
   "metadata": {},
   "outputs": [],
   "source": [
    "book.update({\"language\": \"English\"})"
   ]
  },
  {
   "cell_type": "code",
   "execution_count": 13,
   "id": "0cd1a1ea",
   "metadata": {},
   "outputs": [
    {
     "data": {
      "text/plain": [
       "{'Title': 'DotNet',\n",
       " 'Author': 'SharadKumar',\n",
       " 'Publication_year': 2009,\n",
       " 'genre': 'High_Education',\n",
       " 'language': 'English'}"
      ]
     },
     "execution_count": 13,
     "metadata": {},
     "output_type": "execute_result"
    }
   ],
   "source": [
    "book"
   ]
  },
  {
   "cell_type": "markdown",
   "id": "2f689391",
   "metadata": {},
   "source": [
    "#### Task 2: Dictionary Lookup Write a Python program that simulates a simple dictionary for translating English words to Spanish. Define a dictionary containing a few English words as keys and their corresponding Spanish translations as values. Allow users to enter an English word, and then display its Spanish translation if it exists in the dictionary.(use google for English to Spanish translator)"
   ]
  },
  {
   "cell_type": "code",
   "execution_count": 14,
   "id": "979d408e",
   "metadata": {},
   "outputs": [],
   "source": [
    "Eng_Spa= {\"please\":\"por_favor\",\"Sorry\":\"Lo_siento\",\"hello\":\"hola\",\"goodbye\":\"adios\",\"Why\":\"por_que\"}"
   ]
  },
  {
   "cell_type": "code",
   "execution_count": 15,
   "id": "79a1871d",
   "metadata": {},
   "outputs": [
    {
     "data": {
      "text/plain": [
       "{'please': 'por_favor',\n",
       " 'Sorry': 'Lo_siento',\n",
       " 'hello': 'hola',\n",
       " 'goodbye': 'adios',\n",
       " 'Why': 'por_que'}"
      ]
     },
     "execution_count": 15,
     "metadata": {},
     "output_type": "execute_result"
    }
   ],
   "source": [
    "Eng_Spa"
   ]
  },
  {
   "cell_type": "code",
   "execution_count": 16,
   "id": "870ce254",
   "metadata": {},
   "outputs": [
    {
     "data": {
      "text/plain": [
       "'por_favor'"
      ]
     },
     "execution_count": 16,
     "metadata": {},
     "output_type": "execute_result"
    }
   ],
   "source": [
    "Eng_Spa[\"please\"]"
   ]
  },
  {
   "cell_type": "code",
   "execution_count": 17,
   "id": "5a35c2b1",
   "metadata": {},
   "outputs": [
    {
     "data": {
      "text/plain": [
       "'adios'"
      ]
     },
     "execution_count": 17,
     "metadata": {},
     "output_type": "execute_result"
    }
   ],
   "source": [
    "Eng_Spa[\"goodbye\"]"
   ]
  },
  {
   "cell_type": "markdown",
   "id": "63f374f5",
   "metadata": {},
   "source": [
    "####  Task 3: Student Grades Create a Python program that stores the grades of five students in a dictionary. Allow users to input the names of the students and their respective grades. Calculate and display the average grade of the students."
   ]
  },
  {
   "cell_type": "code",
   "execution_count": 1,
   "id": "b878846a",
   "metadata": {},
   "outputs": [
    {
     "name": "stdout",
     "output_type": "stream",
     "text": [
      "Enter first Name: Raheem\n",
      "Enter second Name: Adnan\n",
      "Enter third Name: Mansoor\n",
      "Enter fourth Name: Masum\n",
      "Enter fifth Name: Satish\n",
      "Enter 1stgrade: 95\n",
      "Enter 2ndgrade: 85\n",
      "Enter 3rdgrade: 75\n",
      "Enter 4thgrade: 65\n",
      "Enter 5thgrade: 55\n"
     ]
    },
    {
     "data": {
      "text/plain": [
       "{'Raheem': 95, 'Adnan': 85, 'Mansoor': 75, 'Masum': 65, 'Satish': 55}"
      ]
     },
     "execution_count": 1,
     "metadata": {},
     "output_type": "execute_result"
    }
   ],
   "source": [
    "Name1 = input(\"Enter first Name: \")\n",
    "Name2 = input(\"Enter second Name: \")\n",
    "Name3 = input(\"Enter third Name: \")\n",
    "Name4 = input(\"Enter fourth Name: \")\n",
    "Name5 = input(\"Enter fifth Name: \")\n",
    "grade1 = int(input(\"Enter 1stgrade: \"))\n",
    "grade2 = int(input(\"Enter 2ndgrade: \"))\n",
    "grade3 = int(input(\"Enter 3rdgrade: \"))\n",
    "grade4 = int(input(\"Enter 4thgrade: \"))\n",
    "grade5 = int(input(\"Enter 5thgrade: \"))\n",
    "\n",
    "Names = [Name1,Name2,Name3,Name4,Name5]\n",
    "grades = [grade1,grade2,grade3,grade4,grade5]\n",
    "Students = dict(zip(Names,grades))\n",
    "Students"
   ]
  },
  {
   "cell_type": "code",
   "execution_count": 9,
   "id": "d9ae3cdd",
   "metadata": {},
   "outputs": [],
   "source": [
    "avg = grade1 + grade2 + grade3 + grade4 + grade5/5"
   ]
  },
  {
   "cell_type": "code",
   "execution_count": 10,
   "id": "b5bdcf37",
   "metadata": {},
   "outputs": [
    {
     "data": {
      "text/plain": [
       "331.0"
      ]
     },
     "execution_count": 10,
     "metadata": {},
     "output_type": "execute_result"
    }
   ],
   "source": [
    "avg"
   ]
  },
  {
   "cell_type": "markdown",
   "id": "894c5bcf",
   "metadata": {},
   "source": [
    "####  Task 4: Contact List Build a basic contact list using a dictionary. Initially, the dictionary can be empty. Allow users to add new contacts with names and phone numbers. Users should also be able to search for contacts by name and display their phone numbers(use in operator)."
   ]
  },
  {
   "cell_type": "code",
   "execution_count": 11,
   "id": "a9455274",
   "metadata": {},
   "outputs": [
    {
     "name": "stdout",
     "output_type": "stream",
     "text": [
      "Enter 1st Name: Raheem\n",
      "Enter 2nd Name: Adnan\n",
      "Enter 3rd Name: Mansoor\n",
      "enter Phone_Number: 7981255555\n",
      "enter Phone_Number: 9874563210\n",
      "enter Phone_Number: 8686741236\n"
     ]
    },
    {
     "data": {
      "text/plain": [
       "{'Raheem': 7981255555, 'Adnan': 9874563210, 'Mansoor': 8686741236}"
      ]
     },
     "execution_count": 11,
     "metadata": {},
     "output_type": "execute_result"
    }
   ],
   "source": [
    "Contact = {}\n",
    "Name1 = input(\"Enter 1st Name: \")\n",
    "Name2 = input(\"Enter 2nd Name: \")\n",
    "Name3 = input(\"Enter 3rd Name: \")\n",
    "Phno1 = int(input(\"enter Phone_Number: \"))\n",
    "Phno2 = int(input(\"enter Phone_Number: \"))\n",
    "Phno3 = int(input(\"enter Phone_Number: \"))\n",
    "Contact.update({Name1:Phno1, Name2:Phno2 , Name3:Phno3})\n",
    "Contact"
   ]
  },
  {
   "cell_type": "code",
   "execution_count": 12,
   "id": "f77c157c",
   "metadata": {},
   "outputs": [
    {
     "name": "stdout",
     "output_type": "stream",
     "text": [
      "Enter Name: Raheem\n"
     ]
    },
    {
     "data": {
      "text/plain": [
       "7981255555"
      ]
     },
     "execution_count": 12,
     "metadata": {},
     "output_type": "execute_result"
    }
   ],
   "source": [
    "Cont = input(\"Enter Name: \")\n",
    "Contact[Cont]"
   ]
  },
  {
   "cell_type": "code",
   "execution_count": 15,
   "id": "72836db0",
   "metadata": {},
   "outputs": [
    {
     "data": {
      "text/plain": [
       "True"
      ]
     },
     "execution_count": 15,
     "metadata": {},
     "output_type": "execute_result"
    }
   ],
   "source": [
    "\"Adnan\" in Contact"
   ]
  },
  {
   "cell_type": "markdown",
   "id": "5441cdfe",
   "metadata": {},
   "source": [
    "#### Task 5: Dictionary Iteration Write a Python program that defines a dictionary containing the names of fruits as keys and their corresponding colors as values (e.g., 'apple': 'red').Do atleast 5 dictionary methods on it."
   ]
  },
  {
   "cell_type": "code",
   "execution_count": 1,
   "id": "fb39cba3",
   "metadata": {},
   "outputs": [],
   "source": [
    "fruits= {\"apple\":\"red\",\"banana\":\"yellow\",\"strawberry\":\"pink\",\"orange\":\"orange\",\"watermelon\":\"green\"}"
   ]
  },
  {
   "cell_type": "code",
   "execution_count": 2,
   "id": "b82875c6",
   "metadata": {},
   "outputs": [
    {
     "data": {
      "text/plain": [
       "{'apple': 'red',\n",
       " 'banana': 'yellow',\n",
       " 'strawberry': 'pink',\n",
       " 'orange': 'orange',\n",
       " 'watermelon': 'green'}"
      ]
     },
     "execution_count": 2,
     "metadata": {},
     "output_type": "execute_result"
    }
   ],
   "source": [
    "fruits"
   ]
  },
  {
   "cell_type": "code",
   "execution_count": 3,
   "id": "092f2b67",
   "metadata": {},
   "outputs": [
    {
     "data": {
      "text/plain": [
       "dict_items([('apple', 'red'), ('banana', 'yellow'), ('strawberry', 'pink'), ('orange', 'orange'), ('watermelon', 'green')])"
      ]
     },
     "execution_count": 3,
     "metadata": {},
     "output_type": "execute_result"
    }
   ],
   "source": [
    "fruits.items()"
   ]
  },
  {
   "cell_type": "code",
   "execution_count": 4,
   "id": "bcef51e4",
   "metadata": {},
   "outputs": [
    {
     "data": {
      "text/plain": [
       "dict_keys(['apple', 'banana', 'strawberry', 'orange', 'watermelon'])"
      ]
     },
     "execution_count": 4,
     "metadata": {},
     "output_type": "execute_result"
    }
   ],
   "source": [
    "fruits.keys()"
   ]
  },
  {
   "cell_type": "code",
   "execution_count": 5,
   "id": "87cd2826",
   "metadata": {},
   "outputs": [
    {
     "data": {
      "text/plain": [
       "dict_values(['red', 'yellow', 'pink', 'orange', 'green'])"
      ]
     },
     "execution_count": 5,
     "metadata": {},
     "output_type": "execute_result"
    }
   ],
   "source": [
    "fruits.values()"
   ]
  },
  {
   "cell_type": "code",
   "execution_count": 6,
   "id": "04d1ee48",
   "metadata": {},
   "outputs": [
    {
     "data": {
      "text/plain": [
       "'orange'"
      ]
     },
     "execution_count": 6,
     "metadata": {},
     "output_type": "execute_result"
    }
   ],
   "source": [
    "fruits.pop(\"orange\")"
   ]
  },
  {
   "cell_type": "code",
   "execution_count": 8,
   "id": "f6ff0dfd",
   "metadata": {},
   "outputs": [],
   "source": [
    "fruits.update({\"kiwi\": \"brown\"})"
   ]
  },
  {
   "cell_type": "code",
   "execution_count": 9,
   "id": "1142a709",
   "metadata": {},
   "outputs": [
    {
     "data": {
      "text/plain": [
       "{'apple': 'red',\n",
       " 'banana': 'yellow',\n",
       " 'strawberry': 'pink',\n",
       " 'watermelon': 'green',\n",
       " 'kiwi': 'brown'}"
      ]
     },
     "execution_count": 9,
     "metadata": {},
     "output_type": "execute_result"
    }
   ],
   "source": [
    "fruits"
   ]
  },
  {
   "cell_type": "code",
   "execution_count": 10,
   "id": "e13be6bc",
   "metadata": {},
   "outputs": [],
   "source": [
    "fruits.clear()"
   ]
  },
  {
   "cell_type": "code",
   "execution_count": 11,
   "id": "214c978e",
   "metadata": {},
   "outputs": [
    {
     "data": {
      "text/plain": [
       "{}"
      ]
     },
     "execution_count": 11,
     "metadata": {},
     "output_type": "execute_result"
    }
   ],
   "source": [
    "fruits"
   ]
  },
  {
   "cell_type": "code",
   "execution_count": null,
   "id": "7cf0433f",
   "metadata": {},
   "outputs": [],
   "source": []
  }
 ],
 "metadata": {
  "kernelspec": {
   "display_name": "Python 3 (ipykernel)",
   "language": "python",
   "name": "python3"
  },
  "language_info": {
   "codemirror_mode": {
    "name": "ipython",
    "version": 3
   },
   "file_extension": ".py",
   "mimetype": "text/x-python",
   "name": "python",
   "nbconvert_exporter": "python",
   "pygments_lexer": "ipython3",
   "version": "3.11.4"
  }
 },
 "nbformat": 4,
 "nbformat_minor": 5
}
