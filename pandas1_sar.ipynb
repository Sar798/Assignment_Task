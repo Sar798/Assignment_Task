{
 "cells": [
  {
   "cell_type": "markdown",
   "id": "7ac25992",
   "metadata": {},
   "source": [
    "### pandas Series\n",
    "\n",
    "1. Create pandas series with different data types in different ways\n",
    "2. Find the attributes of Series of [10,30,40,1,3,6,14,18,23] with index starts from 100\n",
    "3. create salaries of 30 employee salaries randomly from 30000-90000 then measure and describe the data using pandas series.\n",
    "4. What are the similaraties and differences between pandas series and nnumpy array.Prove it with code.\n",
    "5. create pandas series with ranges from 100 to 150 then apply indexing and slicing on it."
   ]
  },
  {
   "cell_type": "code",
   "execution_count": 1,
   "id": "85fbb19d",
   "metadata": {},
   "outputs": [],
   "source": [
    "#Create pandas series with different data types in different ways\n",
    "\n",
    "import pandas as pd\n",
    "import numpy as np"
   ]
  },
  {
   "cell_type": "code",
   "execution_count": 2,
   "id": "92a375e9",
   "metadata": {},
   "outputs": [],
   "source": [
    "#using list\n",
    "list1 = list(range(1,10))"
   ]
  },
  {
   "cell_type": "code",
   "execution_count": 3,
   "id": "9120574b",
   "metadata": {},
   "outputs": [
    {
     "data": {
      "text/plain": [
       "0    1\n",
       "1    2\n",
       "2    3\n",
       "3    4\n",
       "4    5\n",
       "5    6\n",
       "6    7\n",
       "7    8\n",
       "8    9\n",
       "dtype: int64"
      ]
     },
     "execution_count": 3,
     "metadata": {},
     "output_type": "execute_result"
    }
   ],
   "source": [
    "pd.Series(list1)"
   ]
  },
  {
   "cell_type": "code",
   "execution_count": 4,
   "id": "40402a4f",
   "metadata": {},
   "outputs": [],
   "source": [
    "#using tuple\n",
    "tup = (1,2,3,4,5,6,7,8,9)"
   ]
  },
  {
   "cell_type": "code",
   "execution_count": 5,
   "id": "003bc191",
   "metadata": {},
   "outputs": [
    {
     "data": {
      "text/plain": [
       "0    1\n",
       "1    2\n",
       "2    3\n",
       "3    4\n",
       "4    5\n",
       "5    6\n",
       "6    7\n",
       "7    8\n",
       "8    9\n",
       "dtype: int64"
      ]
     },
     "execution_count": 5,
     "metadata": {},
     "output_type": "execute_result"
    }
   ],
   "source": [
    "pd.Series(tup)"
   ]
  },
  {
   "cell_type": "code",
   "execution_count": 6,
   "id": "db58a6af",
   "metadata": {},
   "outputs": [],
   "source": [
    "#using dictionary\n",
    "dict1 = {'A': \"Data Analysis\", 'B': \"Data Science\", 'C': \"SQl\", 'D': \"Tableau\"}"
   ]
  },
  {
   "cell_type": "code",
   "execution_count": 7,
   "id": "28c44362",
   "metadata": {},
   "outputs": [
    {
     "data": {
      "text/plain": [
       "A    Data Analysis\n",
       "B     Data Science\n",
       "C              SQl\n",
       "D          Tableau\n",
       "dtype: object"
      ]
     },
     "execution_count": 7,
     "metadata": {},
     "output_type": "execute_result"
    }
   ],
   "source": [
    "pd.Series(dict1)"
   ]
  },
  {
   "cell_type": "code",
   "execution_count": 8,
   "id": "dc42d0b7",
   "metadata": {},
   "outputs": [],
   "source": [
    "#Find the attributes of Series of [10,30,40,1,3,6,14,18,23] with index starts from 100\n",
    "\n",
    "a = [10,30,40,1,3,6,14,18,23] \n",
    "b = len(a)"
   ]
  },
  {
   "cell_type": "code",
   "execution_count": 9,
   "id": "0777c755",
   "metadata": {},
   "outputs": [],
   "source": [
    "a = pd.Series(a,index = list(range(100,100+b)))"
   ]
  },
  {
   "cell_type": "code",
   "execution_count": 10,
   "id": "b4066520",
   "metadata": {},
   "outputs": [
    {
     "data": {
      "text/plain": [
       "100    10\n",
       "101    30\n",
       "102    40\n",
       "103     1\n",
       "104     3\n",
       "105     6\n",
       "106    14\n",
       "107    18\n",
       "108    23\n",
       "dtype: int64"
      ]
     },
     "execution_count": 10,
     "metadata": {},
     "output_type": "execute_result"
    }
   ],
   "source": [
    "a"
   ]
  },
  {
   "cell_type": "code",
   "execution_count": 13,
   "id": "1ef9cfc3",
   "metadata": {},
   "outputs": [
    {
     "data": {
      "text/plain": [
       "dtype('int64')"
      ]
     },
     "execution_count": 13,
     "metadata": {},
     "output_type": "execute_result"
    }
   ],
   "source": [
    "a.dtype"
   ]
  },
  {
   "cell_type": "code",
   "execution_count": 14,
   "id": "dc3f49c7",
   "metadata": {},
   "outputs": [
    {
     "data": {
      "text/plain": [
       "9"
      ]
     },
     "execution_count": 14,
     "metadata": {},
     "output_type": "execute_result"
    }
   ],
   "source": [
    "a.size"
   ]
  },
  {
   "cell_type": "code",
   "execution_count": 15,
   "id": "eef4b9b3",
   "metadata": {},
   "outputs": [
    {
     "data": {
      "text/plain": [
       "100    10\n",
       "101    30\n",
       "102    40\n",
       "dtype: int64"
      ]
     },
     "execution_count": 15,
     "metadata": {},
     "output_type": "execute_result"
    }
   ],
   "source": [
    "a.head(3)"
   ]
  },
  {
   "cell_type": "code",
   "execution_count": 16,
   "id": "ab0fcb71",
   "metadata": {},
   "outputs": [
    {
     "data": {
      "text/plain": [
       "105     6\n",
       "106    14\n",
       "107    18\n",
       "108    23\n",
       "dtype: int64"
      ]
     },
     "execution_count": 16,
     "metadata": {},
     "output_type": "execute_result"
    }
   ],
   "source": [
    "a.tail(4)"
   ]
  },
  {
   "cell_type": "code",
   "execution_count": 19,
   "id": "c3f56df0",
   "metadata": {},
   "outputs": [
    {
     "data": {
      "text/plain": [
       "144"
      ]
     },
     "execution_count": 19,
     "metadata": {},
     "output_type": "execute_result"
    }
   ],
   "source": [
    "a.memory_usage()"
   ]
  },
  {
   "cell_type": "code",
   "execution_count": 20,
   "id": "6845330d",
   "metadata": {},
   "outputs": [
    {
     "name": "stdout",
     "output_type": "stream",
     "text": [
      "<class 'pandas.core.series.Series'>\n",
      "Index: 9 entries, 100 to 108\n",
      "Series name: None\n",
      "Non-Null Count  Dtype\n",
      "--------------  -----\n",
      "9 non-null      int64\n",
      "dtypes: int64(1)\n",
      "memory usage: 144.0 bytes\n"
     ]
    }
   ],
   "source": [
    "a.info()"
   ]
  },
  {
   "cell_type": "code",
   "execution_count": 22,
   "id": "d84b898d",
   "metadata": {},
   "outputs": [
    {
     "data": {
      "text/plain": [
       "count     9.000000\n",
       "mean     16.111111\n",
       "std      13.033078\n",
       "min       1.000000\n",
       "25%       6.000000\n",
       "50%      14.000000\n",
       "75%      23.000000\n",
       "max      40.000000\n",
       "dtype: float64"
      ]
     },
     "execution_count": 22,
     "metadata": {},
     "output_type": "execute_result"
    }
   ],
   "source": [
    "a.describe()"
   ]
  },
  {
   "cell_type": "code",
   "execution_count": 23,
   "id": "7ef5c4a5",
   "metadata": {},
   "outputs": [
    {
     "data": {
      "text/plain": [
       "array([34279, 38080, 61048, 85313, 33311, 52837, 51356, 53744, 88682,\n",
       "       46002, 52459, 32399, 39341, 56343, 43548, 31330, 75856, 69782,\n",
       "       73730, 76134, 39552, 44090, 53005, 82984, 77849, 63928, 35173,\n",
       "       49021, 70674, 74763])"
      ]
     },
     "execution_count": 23,
     "metadata": {},
     "output_type": "execute_result"
    }
   ],
   "source": [
    "#create salaries of 30 employee salaries randomly from 30000-90000 then measure and describe the data using pandas series.\n",
    "\n",
    "\n",
    "salary = np.random.randint(30000,90000,30)\n",
    "salary"
   ]
  },
  {
   "cell_type": "code",
   "execution_count": 24,
   "id": "d7cc4a0d",
   "metadata": {},
   "outputs": [
    {
     "data": {
      "text/plain": [
       "1     34279\n",
       "2     38080\n",
       "3     61048\n",
       "4     85313\n",
       "5     33311\n",
       "6     52837\n",
       "7     51356\n",
       "8     53744\n",
       "9     88682\n",
       "10    46002\n",
       "11    52459\n",
       "12    32399\n",
       "13    39341\n",
       "14    56343\n",
       "15    43548\n",
       "16    31330\n",
       "17    75856\n",
       "18    69782\n",
       "19    73730\n",
       "20    76134\n",
       "21    39552\n",
       "22    44090\n",
       "23    53005\n",
       "24    82984\n",
       "25    77849\n",
       "26    63928\n",
       "27    35173\n",
       "28    49021\n",
       "29    70674\n",
       "30    74763\n",
       "dtype: int32"
      ]
     },
     "execution_count": 24,
     "metadata": {},
     "output_type": "execute_result"
    }
   ],
   "source": [
    "salary = pd.Series(salary,index = list(range(1,30+1)))\n",
    "salary"
   ]
  },
  {
   "cell_type": "code",
   "execution_count": 25,
   "id": "62de6107",
   "metadata": {},
   "outputs": [
    {
     "data": {
      "text/plain": [
       "56220.433333333334"
      ]
     },
     "execution_count": 25,
     "metadata": {},
     "output_type": "execute_result"
    }
   ],
   "source": [
    "salary.mean()"
   ]
  },
  {
   "cell_type": "code",
   "execution_count": 26,
   "id": "68cf58c4",
   "metadata": {},
   "outputs": [
    {
     "data": {
      "text/plain": [
       "52921.0"
      ]
     },
     "execution_count": 26,
     "metadata": {},
     "output_type": "execute_result"
    }
   ],
   "source": [
    "salary.median()"
   ]
  },
  {
   "cell_type": "code",
   "execution_count": 27,
   "id": "c48f252e",
   "metadata": {},
   "outputs": [
    {
     "data": {
      "text/plain": [
       "0     31330\n",
       "1     32399\n",
       "2     33311\n",
       "3     34279\n",
       "4     35173\n",
       "5     38080\n",
       "6     39341\n",
       "7     39552\n",
       "8     43548\n",
       "9     44090\n",
       "10    46002\n",
       "11    49021\n",
       "12    51356\n",
       "13    52459\n",
       "14    52837\n",
       "15    53005\n",
       "16    53744\n",
       "17    56343\n",
       "18    61048\n",
       "19    63928\n",
       "20    69782\n",
       "21    70674\n",
       "22    73730\n",
       "23    74763\n",
       "24    75856\n",
       "25    76134\n",
       "26    77849\n",
       "27    82984\n",
       "28    85313\n",
       "29    88682\n",
       "dtype: int32"
      ]
     },
     "execution_count": 27,
     "metadata": {},
     "output_type": "execute_result"
    }
   ],
   "source": [
    "salary.mode()"
   ]
  },
  {
   "cell_type": "code",
   "execution_count": 28,
   "id": "bb9430ef",
   "metadata": {},
   "outputs": [
    {
     "data": {
      "text/plain": [
       "312071775.7022989"
      ]
     },
     "execution_count": 28,
     "metadata": {},
     "output_type": "execute_result"
    }
   ],
   "source": [
    "salary.var()"
   ]
  },
  {
   "cell_type": "code",
   "execution_count": 29,
   "id": "13d2dd87",
   "metadata": {},
   "outputs": [
    {
     "data": {
      "text/plain": [
       "17665.55336530104"
      ]
     },
     "execution_count": 29,
     "metadata": {},
     "output_type": "execute_result"
    }
   ],
   "source": [
    "salary.std()"
   ]
  },
  {
   "cell_type": "code",
   "execution_count": 30,
   "id": "b7e196bf",
   "metadata": {},
   "outputs": [
    {
     "data": {
      "text/plain": [
       "count       30.000000\n",
       "mean     56220.433333\n",
       "std      17665.553365\n",
       "min      31330.000000\n",
       "25%      40551.000000\n",
       "50%      52921.000000\n",
       "75%      72966.000000\n",
       "max      88682.000000\n",
       "dtype: float64"
      ]
     },
     "execution_count": 30,
     "metadata": {},
     "output_type": "execute_result"
    }
   ],
   "source": [
    "salary.describe()"
   ]
  },
  {
   "cell_type": "code",
   "execution_count": 31,
   "id": "904c5160",
   "metadata": {},
   "outputs": [
    {
     "data": {
      "text/plain": [
       "57352"
      ]
     },
     "execution_count": 31,
     "metadata": {},
     "output_type": "execute_result"
    }
   ],
   "source": [
    "salary_range = max(salary) - min(salary)\n",
    "salary_range"
   ]
  },
  {
   "cell_type": "code",
   "execution_count": 32,
   "id": "d7386909",
   "metadata": {},
   "outputs": [
    {
     "data": {
      "text/plain": [
       "40551.0"
      ]
     },
     "execution_count": 32,
     "metadata": {},
     "output_type": "execute_result"
    }
   ],
   "source": [
    "salary.quantile(0.25)"
   ]
  },
  {
   "cell_type": "code",
   "execution_count": 33,
   "id": "38237235",
   "metadata": {},
   "outputs": [
    {
     "data": {
      "text/plain": [
       "72966.0"
      ]
     },
     "execution_count": 33,
     "metadata": {},
     "output_type": "execute_result"
    }
   ],
   "source": [
    "salary.quantile(0.75)"
   ]
  },
  {
   "cell_type": "markdown",
   "id": "9abafa27",
   "metadata": {},
   "source": [
    "# What are the similaraties and differences between pandas series and numpy array.Prove it with code.\n",
    "\n",
    "\n",
    "1. Numpy deals with numerical values only and its a homogenous.\n",
    "2. Pandas deals with numerical values and string values and its a heterogenous."
   ]
  },
  {
   "cell_type": "code",
   "execution_count": 34,
   "id": "92c10f26",
   "metadata": {},
   "outputs": [
    {
     "data": {
      "text/plain": [
       "array([[[1, 2, 3, 4, 5, 6, 7, 8, 9]]])"
      ]
     },
     "execution_count": 34,
     "metadata": {},
     "output_type": "execute_result"
    }
   ],
   "source": [
    "salaries = np.array([1,2,3,4,5,6,7,8,9],ndmin = 3)\n",
    "salaries   #numpy doesnt has index numbers"
   ]
  },
  {
   "cell_type": "code",
   "execution_count": 35,
   "id": "db115e71",
   "metadata": {},
   "outputs": [
    {
     "data": {
      "text/plain": [
       "3"
      ]
     },
     "execution_count": 35,
     "metadata": {},
     "output_type": "execute_result"
    }
   ],
   "source": [
    "salaries.ndim    #numpy is a n-dimensional"
   ]
  },
  {
   "cell_type": "code",
   "execution_count": 36,
   "id": "77a7cc8e",
   "metadata": {},
   "outputs": [
    {
     "data": {
      "text/plain": [
       "1     34279\n",
       "2     38080\n",
       "3     61048\n",
       "4     85313\n",
       "5     33311\n",
       "6     52837\n",
       "7     51356\n",
       "8     53744\n",
       "9     88682\n",
       "10    46002\n",
       "11    52459\n",
       "12    32399\n",
       "13    39341\n",
       "14    56343\n",
       "15    43548\n",
       "16    31330\n",
       "17    75856\n",
       "18    69782\n",
       "19    73730\n",
       "20    76134\n",
       "21    39552\n",
       "22    44090\n",
       "23    53005\n",
       "24    82984\n",
       "25    77849\n",
       "26    63928\n",
       "27    35173\n",
       "28    49021\n",
       "29    70674\n",
       "30    74763\n",
       "dtype: int32"
      ]
     },
     "execution_count": 36,
     "metadata": {},
     "output_type": "execute_result"
    }
   ],
   "source": [
    "salary   #pandas series has index numbers for assigned values"
   ]
  },
  {
   "cell_type": "code",
   "execution_count": 37,
   "id": "8f6d9c0e",
   "metadata": {},
   "outputs": [
    {
     "data": {
      "text/plain": [
       "1"
      ]
     },
     "execution_count": 37,
     "metadata": {},
     "output_type": "execute_result"
    }
   ],
   "source": [
    "salary.ndim   #pandas series has 1-dimensional"
   ]
  },
  {
   "cell_type": "code",
   "execution_count": 45,
   "id": "61072873",
   "metadata": {},
   "outputs": [],
   "source": [
    "# create pandas series with ranges from 100 to 150 then apply indexing and slicing on it.\n",
    "\n",
    "num = list(range(100,150+1))\n",
    "insl = pd.Series(num)"
   ]
  },
  {
   "cell_type": "code",
   "execution_count": 46,
   "id": "dd46a340",
   "metadata": {},
   "outputs": [
    {
     "data": {
      "text/plain": [
       "0     100\n",
       "1     101\n",
       "2     102\n",
       "3     103\n",
       "4     104\n",
       "5     105\n",
       "6     106\n",
       "7     107\n",
       "8     108\n",
       "9     109\n",
       "10    110\n",
       "11    111\n",
       "12    112\n",
       "13    113\n",
       "14    114\n",
       "15    115\n",
       "16    116\n",
       "17    117\n",
       "18    118\n",
       "19    119\n",
       "20    120\n",
       "21    121\n",
       "22    122\n",
       "23    123\n",
       "24    124\n",
       "25    125\n",
       "26    126\n",
       "27    127\n",
       "28    128\n",
       "29    129\n",
       "30    130\n",
       "31    131\n",
       "32    132\n",
       "33    133\n",
       "34    134\n",
       "35    135\n",
       "36    136\n",
       "37    137\n",
       "38    138\n",
       "39    139\n",
       "40    140\n",
       "41    141\n",
       "42    142\n",
       "43    143\n",
       "44    144\n",
       "45    145\n",
       "46    146\n",
       "47    147\n",
       "48    148\n",
       "49    149\n",
       "50    150\n",
       "dtype: int64"
      ]
     },
     "execution_count": 46,
     "metadata": {},
     "output_type": "execute_result"
    }
   ],
   "source": [
    "insl"
   ]
  },
  {
   "cell_type": "code",
   "execution_count": 47,
   "id": "6d48de30",
   "metadata": {},
   "outputs": [
    {
     "data": {
      "text/plain": [
       "148"
      ]
     },
     "execution_count": 47,
     "metadata": {},
     "output_type": "execute_result"
    }
   ],
   "source": [
    "insl[48]   #indexing"
   ]
  },
  {
   "cell_type": "code",
   "execution_count": 49,
   "id": "0500f065",
   "metadata": {},
   "outputs": [
    {
     "data": {
      "text/plain": [
       "10    110\n",
       "15    115\n",
       "dtype: int64"
      ]
     },
     "execution_count": 49,
     "metadata": {},
     "output_type": "execute_result"
    }
   ],
   "source": [
    "insl[10:20:5]   #slicing"
   ]
  },
  {
   "cell_type": "code",
   "execution_count": null,
   "id": "3256dbcf",
   "metadata": {},
   "outputs": [],
   "source": []
  }
 ],
 "metadata": {
  "kernelspec": {
   "display_name": "Python 3 (ipykernel)",
   "language": "python",
   "name": "python3"
  },
  "language_info": {
   "codemirror_mode": {
    "name": "ipython",
    "version": 3
   },
   "file_extension": ".py",
   "mimetype": "text/x-python",
   "name": "python",
   "nbconvert_exporter": "python",
   "pygments_lexer": "ipython3",
   "version": "3.11.4"
  }
 },
 "nbformat": 4,
 "nbformat_minor": 5
}
